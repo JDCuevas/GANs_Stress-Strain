{
 "cells": [
  {
   "cell_type": "markdown",
   "metadata": {},
   "source": [
    "# GANs for Simple Distribution Generation\n",
    "\n",
    "The purpose of this notebook is to explore the application of General Adversarial Networks (GANs) in 1D problems."
   ]
  },
  {
   "cell_type": "markdown",
   "metadata": {},
   "source": [
    "### i. Imports"
   ]
  },
  {
   "cell_type": "code",
   "execution_count": 1,
   "metadata": {},
   "outputs": [],
   "source": [
    "import os\n",
    "import time\n",
    "import math\n",
    "import numpy as np\n",
    "import matplotlib.pyplot as plt\n",
    "import tensorflow as tf\n",
    "from tensorflow.keras import layers"
   ]
  },
  {
   "cell_type": "markdown",
   "metadata": {},
   "source": [
    "## 1. Generating training data"
   ]
  },
  {
   "cell_type": "code",
   "execution_count": 2,
   "metadata": {},
   "outputs": [
    {
     "data": {
      "image/png": "[encoded data removed]",
      "text/plain": [
       "<Figure size 432x288 with 1 Axes>"
      ]
     },
     "metadata": {
      "needs_background": "light"
     },
     "output_type": "display_data"
    }
   ],
   "source": [
    "def get_y(x):\n",
    "    #return 10 + math.e**x\n",
    "    return 10 + x**2\n",
    "\n",
    "def sample_data(n=10000, scale=100):\n",
    "    data = []\n",
    "    \n",
    "    x = scale*(np.random.random_sample((n,)) - 0.5)\n",
    "    \n",
    "    #x = np.random.random_sample((n,))\n",
    "    \n",
    "    for i in range(n):\n",
    "        yi = get_y(x[i])\n",
    "        data.append([x[i], yi])\n",
    "        \n",
    "    return np.array(data)\n",
    "\n",
    "batch_size = 256\n",
    "x_plot = sample_data(n=batch_size)\n",
    "x_ax = plt.scatter(x_plot[:,0], x_plot[:,1], label='Real Data')\n",
    "plt.legend()\n",
    "plt.title('Samples')\n",
    "plt.tight_layout()"
   ]
  },
  {
   "cell_type": "markdown",
   "metadata": {},
   "source": [
    "## 2. Creating Models\n",
    "#### Generator"
   ]
  },
  {
   "cell_type": "code",
   "execution_count": 3,
   "metadata": {},
   "outputs": [
    {
     "name": "stdout",
     "output_type": "stream",
     "text": [
      "Model: \"sequential\"\n",
      "_________________________________________________________________\n",
      "Layer (type)                 Output Shape              Param #   \n",
      "=================================================================\n",
      "dense (Dense)                (None, 16)                32        \n",
      "_________________________________________________________________\n",
      "batch_normalization_v2 (Batc (None, 16)                64        \n",
      "_________________________________________________________________\n",
      "leaky_re_lu (LeakyReLU)      (None, 16)                0         \n",
      "_________________________________________________________________\n",
      "dense_1 (Dense)              (None, 16)                256       \n",
      "_________________________________________________________________\n",
      "batch_normalization_v2_1 (Ba (None, 16)                64        \n",
      "_________________________________________________________________\n",
      "leaky_re_lu_1 (LeakyReLU)    (None, 16)                0         \n",
      "_________________________________________________________________\n",
      "dropout (Dropout)            (None, 16)                0         \n",
      "_________________________________________________________________\n",
      "dense_2 (Dense)              (None, 2)                 32        \n",
      "=================================================================\n",
      "Total params: 448\n",
      "Trainable params: 384\n",
      "Non-trainable params: 64\n",
      "_________________________________________________________________\n"
     ]
    }
   ],
   "source": [
    "def make_generator_model():\n",
    "    model = tf.keras.Sequential()\n",
    "    model.add(layers.Dense(16, use_bias=False, input_shape=(2,)))\n",
    "    model.add(layers.BatchNormalization())\n",
    "    model.add(layers.LeakyReLU())\n",
    "    \n",
    "    model.add(layers.Dense(16, use_bias=False))\n",
    "    model.add(layers.BatchNormalization())\n",
    "    model.add(layers.LeakyReLU())\n",
    "    model.add(layers.Dropout(0.3))\n",
    "    \n",
    "    model.add(layers.Dense(2, use_bias=False))\n",
    "    \n",
    "    return model\n",
    "\n",
    "generator = make_generator_model()\n",
    "generator.summary()"
   ]
  },
  {
   "cell_type": "markdown",
   "metadata": {},
   "source": [
    "#### Discriminator"
   ]
  },
  {
   "cell_type": "code",
   "execution_count": 4,
   "metadata": {},
   "outputs": [],
   "source": [
    "def make_discriminator_model():\n",
    "    model = tf.keras.Sequential()\n",
    "    model.add(layers.Dense(16, input_shape=(2,)))\n",
    "    model.add(layers.LeakyReLU())\n",
    "    \n",
    "    model.add(layers.Dense(16))\n",
    "    model.add(layers.LeakyReLU())\n",
    "    \n",
    "    rep = model.add(layers.Dense(2))\n",
    "    model.add(layers.Dense(1))\n",
    "    \n",
    "    return model, rep"
   ]
  },
  {
   "cell_type": "code",
   "execution_count": 5,
   "metadata": {},
   "outputs": [
    {
     "name": "stdout",
     "output_type": "stream",
     "text": [
      "Model: \"sequential_1\"\n",
      "_________________________________________________________________\n",
      "Layer (type)                 Output Shape              Param #   \n",
      "=================================================================\n",
      "dense_3 (Dense)              (None, 16)                48        \n",
      "_________________________________________________________________\n",
      "leaky_re_lu_2 (LeakyReLU)    (None, 16)                0         \n",
      "_________________________________________________________________\n",
      "dense_4 (Dense)              (None, 16)                272       \n",
      "_________________________________________________________________\n",
      "leaky_re_lu_3 (LeakyReLU)    (None, 16)                0         \n",
      "_________________________________________________________________\n",
      "dense_5 (Dense)              (None, 2)                 34        \n",
      "_________________________________________________________________\n",
      "dense_6 (Dense)              (None, 1)                 3         \n",
      "=================================================================\n",
      "Total params: 357\n",
      "Trainable params: 357\n",
      "Non-trainable params: 0\n",
      "_________________________________________________________________\n"
     ]
    }
   ],
   "source": [
    "discriminator, rep = make_discriminator_model()\n",
    "discriminator.summary()"
   ]
  },
  {
   "cell_type": "markdown",
   "metadata": {},
   "source": [
    "## 3. Defining loss and optimizers"
   ]
  },
  {
   "cell_type": "code",
   "execution_count": 6,
   "metadata": {},
   "outputs": [],
   "source": [
    "# This method returns a helper function to compute cross entropy loss\n",
    "cross_entropy = tf.keras.losses.BinaryCrossentropy(from_logits=True)"
   ]
  },
  {
   "cell_type": "code",
   "execution_count": 7,
   "metadata": {},
   "outputs": [],
   "source": [
    "def discriminator_loss(real_output, fake_output):\n",
    "    real_loss = cross_entropy(tf.ones_like(real_output), real_output)\n",
    "    fake_loss = cross_entropy(tf.zeros_like(fake_output), fake_output)\n",
    "    total_loss = real_loss + fake_loss\n",
    "    return total_loss"
   ]
  },
  {
   "cell_type": "code",
   "execution_count": 8,
   "metadata": {},
   "outputs": [],
   "source": [
    "def generator_loss(fake_output):\n",
    "    loss = cross_entropy(tf.ones_like(fake_output), fake_output)\n",
    "    return loss"
   ]
  },
  {
   "cell_type": "code",
   "execution_count": 9,
   "metadata": {},
   "outputs": [],
   "source": [
    "generator_optimizer = tf.keras.optimizers.RMSprop(lr=1e-3)\n",
    "discriminator_optimizer = tf.keras.optimizers.RMSprop(lr=1e-3)"
   ]
  },
  {
   "cell_type": "markdown",
   "metadata": {},
   "source": [
    "## 4. Training"
   ]
  },
  {
   "cell_type": "code",
   "execution_count": 10,
   "metadata": {},
   "outputs": [],
   "source": [
    "EPOCHS = 1\n",
    "noise_dim = 2\n",
    "N_SAMPLES=2560000\n",
    "BATCH_SIZE=512\n",
    "TRAIN_STEPS=10\n",
    "\n",
    "train_dataset = sample_data(n=N_SAMPLES)\n",
    "train_dataset = np.split(train_dataset, N_SAMPLES/BATCH_SIZE)"
   ]
  },
  {
   "cell_type": "code",
   "execution_count": 11,
   "metadata": {},
   "outputs": [],
   "source": [
    "checkpoint_dir = './training_checkpoints'\n",
    "checkpoint_prefix = os.path.join(checkpoint_dir, \"ckpt\")\n",
    "checkpoint = tf.train.Checkpoint(generator_optimizer=generator_optimizer,\n",
    "                                 discriminator_optimizer=discriminator_optimizer,\n",
    "                                 generator=generator,\n",
    "                                 discriminator=discriminator)"
   ]
  },
  {
   "cell_type": "code",
   "execution_count": 12,
   "metadata": {},
   "outputs": [],
   "source": [
    "# This annotation causes the function to be \"compiled\".\n",
    "@tf.function\n",
    "def train_step(batch, noise):\n",
    "    #noise = np.random.uniform(-1., 1., size=[BATCH_SIZE, noise_dim])\n",
    "    #noise = tf.random.uniform(minval= -1., maxval= 1., shape=[BATCH_SIZE, noise_dim])\n",
    "    #noise = tf.random.uniform([BATCH_SIZE, noise_dim])\n",
    "    #noise = tf.random.normal(shape=[BATCH_SIZE, noise_dim])\n",
    "    \n",
    "    with tf.GradientTape() as gen_tape, tf.GradientTape() as disc_tape:\n",
    "        generated_batch = generator(noise, training=True)\n",
    "\n",
    "        real_output = discriminator(batch, training=True)\n",
    "        fake_output = discriminator(generated_batch, training=True)\n",
    "        gen_loss = generator_loss(fake_output)\n",
    "        disc_loss = discriminator_loss(real_output, fake_output)\n",
    "\n",
    "    gradients_of_generator = gen_tape.gradient(gen_loss, generator.trainable_variables)\n",
    "    gradients_of_discriminator = disc_tape.gradient(disc_loss, discriminator.trainable_variables)\n",
    "\n",
    "    generator_optimizer.apply_gradients(zip(gradients_of_generator, generator.trainable_variables))\n",
    "    discriminator_optimizer.apply_gradients(zip(gradients_of_discriminator, discriminator.trainable_variables))\n",
    "    \n",
    "    return disc_loss, gen_loss"
   ]
  },
  {
   "cell_type": "code",
   "execution_count": 13,
   "metadata": {},
   "outputs": [],
   "source": [
    "def train(dataset, epochs):\n",
    "  for epoch in range(epochs):\n",
    "    start = time.time()\n",
    "\n",
    "    #for sample_batch in dataset: #10000\n",
    "    #    for step in range(TRAIN_STEPS):\n",
    "    #        disc_loss, gen_loss = train_step(sample_batch)\n",
    "    for i in range(10001):\n",
    "        iter_start = time.time()\n",
    "        sample_batch = sample_data(n=BATCH_SIZE)\n",
    "        noise = tf.random.uniform(minval= -1., maxval= 1., shape=[BATCH_SIZE, noise_dim])\n",
    "        #noise = tf.random.normal([BATCH_SIZE, noise_dim])\n",
    "        \n",
    "        for step in range(TRAIN_STEPS):\n",
    "            disc_loss, gen_loss = train_step(sample_batch, noise)\n",
    "            \n",
    "        if (i + 1) % 1000 == 0:\n",
    "            print('Time for iteration {} is {} sec'.format(i + 1, time.time()-iter_start))\n",
    "            print(\"Discriminator loss: {0:.4f}\\t Generator loss: {0:.4f}\\n\".format(disc_loss.numpy(), gen_loss.numpy()))\n",
    "    \n",
    "    # Save the model every 15 epochs\n",
    "    if (epoch + 1) % 15 == 0:\n",
    "        checkpoint.save(file_prefix = checkpoint_prefix)\n",
    "\n",
    "    print('Time for epoch {} is {} sec'.format(epoch + 1, time.time()-start))\n",
    "    print(\"Discriminator loss: {0:.4f}\\t Generator loss: {0:.4f}\\n\".format(disc_loss.numpy(), gen_loss.numpy()))"
   ]
  },
  {
   "cell_type": "code",
   "execution_count": 14,
   "metadata": {
    "scrolled": true
   },
   "outputs": [
    {
     "name": "stdout",
     "output_type": "stream",
     "text": [
      "Time for iteration 1000 is 0.011427879333496094 sec\n",
      "Discriminator loss: 1.3864\t Generator loss: 1.3864\n",
      "\n",
      "Time for iteration 2000 is 0.010713577270507812 sec\n",
      "Discriminator loss: 1.3808\t Generator loss: 1.3808\n",
      "\n",
      "Time for iteration 3000 is 0.01029515266418457 sec\n",
      "Discriminator loss: 1.3764\t Generator loss: 1.3764\n",
      "\n",
      "Time for iteration 4000 is 0.01123189926147461 sec\n",
      "Discriminator loss: 1.3530\t Generator loss: 1.3530\n",
      "\n",
      "Time for iteration 5000 is 0.011590957641601562 sec\n",
      "Discriminator loss: 1.3610\t Generator loss: 1.3610\n",
      "\n",
      "Time for iteration 6000 is 0.011473655700683594 sec\n",
      "Discriminator loss: 1.3776\t Generator loss: 1.3776\n",
      "\n",
      "Time for iteration 7000 is 0.011227607727050781 sec\n",
      "Discriminator loss: 1.2833\t Generator loss: 1.2833\n",
      "\n",
      "Time for iteration 8000 is 0.011622428894042969 sec\n",
      "Discriminator loss: 1.2531\t Generator loss: 1.2531\n",
      "\n",
      "Time for iteration 9000 is 0.011207342147827148 sec\n",
      "Discriminator loss: 1.3923\t Generator loss: 1.3923\n",
      "\n",
      "Time for iteration 10000 is 0.010796070098876953 sec\n",
      "Discriminator loss: 1.2891\t Generator loss: 1.2891\n",
      "\n",
      "Time for epoch 1 is 114.06084704399109 sec\n",
      "Discriminator loss: 1.3579\t Generator loss: 1.3579\n",
      "\n",
      "CPU times: user 5min 6s, sys: 39.9 s, total: 5min 46s\n",
      "Wall time: 1min 54s\n"
     ]
    }
   ],
   "source": [
    "%%time\n",
    "train(train_dataset, EPOCHS)"
   ]
  },
  {
   "cell_type": "code",
   "execution_count": 15,
   "metadata": {},
   "outputs": [],
   "source": [
    "def plot_examples(real, generated):\n",
    "    r_ax = plt.scatter(real[:,0], real[:,1], label='Real Data')\n",
    "    g_ax = plt.scatter(generated[:,0], generated[:,1], label='Generated Data', color='orange')\n",
    "    plt.legend()\n",
    "    plt.title('Samples')\n",
    "    plt.tight_layout()"
   ]
  },
  {
   "cell_type": "code",
   "execution_count": 16,
   "metadata": {
    "scrolled": true
   },
   "outputs": [
    {
     "data": {
      "image/png": "[encoded data removed]",
      "text/plain": [
       "<Figure size 432x288 with 1 Axes>"
      ]
     },
     "metadata": {
      "needs_background": "light"
     },
     "output_type": "display_data"
    }
   ],
   "source": [
    "num_examples = 512\n",
    "#seed = tf.random.normal([num_examples, noise_dim])\n",
    "seed = tf.random.uniform(minval= -1., maxval= 1., shape=[BATCH_SIZE, noise_dim])\n",
    "pred = generator(seed, training=False)\n",
    "samples = sample_data(n=BATCH_SIZE)\n",
    "\n",
    "plot_examples(samples, pred)"
   ]
  },
  {
   "cell_type": "code",
   "execution_count": 17,
   "metadata": {},
   "outputs": [
    {
     "data": {
      "image/png": "[encoded data removed]",
      "text/plain": [
       "<Figure size 432x288 with 1 Axes>"
      ]
     },
     "metadata": {
      "needs_background": "light"
     },
     "output_type": "display_data"
    }
   ],
   "source": [
    "def plot_gen(generated):\n",
    "    g_ax = plt.scatter(generated[:,0], generated[:,1], label='Generated Data', color='orange')\n",
    "    plt.legend()\n",
    "    plt.title('Generated Samples')\n",
    "    plt.tight_layout()\n",
    "    \n",
    "plot_gen(pred)"
   ]
  }
 ],
 "metadata": {
  "kernelspec": {
   "display_name": "Python 3",
   "language": "python",
   "name": "python3"
  },
  "language_info": {
   "codemirror_mode": {
    "name": "ipython",
    "version": 3
   },
   "file_extension": ".py",
   "mimetype": "text/x-python",
   "name": "python",
   "nbconvert_exporter": "python",
   "pygments_lexer": "ipython3",
   "version": "3.6.8"
  }
 },
 "nbformat": 4,
 "nbformat_minor": 2
}
