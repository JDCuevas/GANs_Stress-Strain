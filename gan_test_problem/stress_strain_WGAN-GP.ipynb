{
 "cells": [
  {
   "cell_type": "markdown",
   "metadata": {},
   "source": [
    "# Using a WGAN-GP to Generate Stress-strain Curves\n",
    "\n",
    "## Problem Definition\n",
    "\n",
    "Assuming bi-linear stress strain behavior of a material (characterized by $\\sigma_y$, $E$, and $H$), generate sample stress-strain curves based on some initial samples of a stress-strain curve distrbution. \n",
    "\n",
    "<img src=\"bilinear.png\" alt=\"Drawing\" style=\"width: 300px;\"/>"
   ]
  },
  {
   "cell_type": "markdown",
   "metadata": {},
   "source": [
    "## Generating the training data\n",
    "\n",
    "The training samples will be gathered by asuming independent, normal distributions for $\\sigma_y$, $E$, and $H$.\n",
    "\n",
    "  * $\\sigma_y \\sim \\mathcal{N}(\\mu=10, \\sigma=0.5)$\n",
    "  * $E \\sim \\mathcal{N}(\\mu=1000, \\sigma=50)$\n",
    "  * $H \\sim \\mathcal{N}(\\mu=50, \\sigma=5)$"
   ]
  },
  {
   "cell_type": "code",
   "execution_count": 1,
   "metadata": {},
   "outputs": [],
   "source": [
    "import numpy as np\n",
    "%matplotlib inline\n",
    "import matplotlib\n",
    "import seaborn as sns\n",
    "sns.set()\n",
    "import matplotlib.pyplot as plt\n",
    "import pandas as pd\n",
    "from tqdm import tqdm"
   ]
  },
  {
   "cell_type": "markdown",
   "metadata": {},
   "source": [
    "Two helper functions"
   ]
  },
  {
   "cell_type": "code",
   "execution_count": 2,
   "metadata": {},
   "outputs": [],
   "source": [
    "def get_stress(strains, E, s_y, H):\n",
    "    e_y = s_y / E\n",
    "    elastic_strains = strains.copy()\n",
    "    elastic_strains[elastic_strains > e_y] = e_y\n",
    "    plastic_strains = strains - elastic_strains\n",
    "    stresses = elastic_strains*E + plastic_strains*H\n",
    "    return stresses"
   ]
  },
  {
   "cell_type": "code",
   "execution_count": 3,
   "metadata": {},
   "outputs": [],
   "source": [
    "def generate_samples(max_strain, n_strain, n_samples):\n",
    "    strain = np.linspace(0, max_strain, n_strain + 1)[1:]\n",
    "    stresses = np.empty((n_samples, n_strain))\n",
    "    for i in tqdm(range(n_samples), desc='Generating samples'):\n",
    "        E = np.random.normal(1000, 50)\n",
    "        s_y = np.random.normal(10, 0.5)\n",
    "        H = np.random.normal(50, 5)\n",
    "        stresses[i] = get_stress(strain, E, s_y, H)\n",
    "    return stresses, strain"
   ]
  },
  {
   "cell_type": "markdown",
   "metadata": {},
   "source": [
    "Make training data:\n",
    "\n",
    "  * rows in stress_mat correspond to the stresses in a single stress strain curve (i.e. 1 sample)\n",
    "  * columns in stress_mat correspond to a single strain value"
   ]
  },
  {
   "cell_type": "code",
   "execution_count": 4,
   "metadata": {},
   "outputs": [
    {
     "name": "stderr",
     "output_type": "stream",
     "text": [
      "Generating samples: 100%|██████████| 100000/100000 [00:00<00:00, 112484.05it/s]\n"
     ]
    }
   ],
   "source": [
    "N_SAMPLES = 100000\n",
    "MAX_STRAIN = 0.02\n",
    "NUM_STRAINS = 10\n",
    "\n",
    "stress_mat, strains = generate_samples(MAX_STRAIN, NUM_STRAINS, N_SAMPLES)"
   ]
  },
  {
   "cell_type": "markdown",
   "metadata": {},
   "source": [
    "## Train a GAN to produce samples that match this distribution"
   ]
  },
  {
   "cell_type": "code",
   "execution_count": 5,
   "metadata": {},
   "outputs": [],
   "source": [
    "import os\n",
    "import time\n",
    "import numpy as np\n",
    "import matplotlib.pyplot as plt\n",
    "import tensorflow as tf\n",
    "from tensorflow.keras import layers\n",
    "from sklearn.preprocessing import StandardScaler, MinMaxScaler\n",
    "import functools\n",
    "from ipywidgets import interact, fixed\n",
    "import ipywidgets as widgets"
   ]
  },
  {
   "cell_type": "markdown",
   "metadata": {},
   "source": [
    "### Hepler Functions"
   ]
  },
  {
   "cell_type": "code",
   "execution_count": 6,
   "metadata": {},
   "outputs": [],
   "source": [
    "def standardize(data):\n",
    "    scaler = StandardScaler()\n",
    "    scaler.fit(data)\n",
    "    standardized_data = scaler.transform(data)\n",
    "    \n",
    "    return standardized_data, scaler"
   ]
  },
  {
   "cell_type": "code",
   "execution_count": 7,
   "metadata": {},
   "outputs": [],
   "source": [
    "def normalize(data):\n",
    "    scaler = MinMaxScaler()\n",
    "    scaler.fit(data)\n",
    "    standardized_data = scaler.transform(data)\n",
    "    \n",
    "    return normalized_data, scaler"
   ]
  },
  {
   "cell_type": "code",
   "execution_count": 8,
   "metadata": {},
   "outputs": [],
   "source": [
    "def generate_stress_samples(n_samples, preprocessing):\n",
    "    stresses, _ = generate_samples(MAX_STRAIN, NUM_STRAINS, n_samples)\n",
    "    stresses = np.array(stresses)\n",
    "    \n",
    "    scaled_stresses, stress_scaler = preprocessing(stresses)\n",
    "    \n",
    "    return scaled_stresses, stress_scaler"
   ]
  },
  {
   "cell_type": "code",
   "execution_count": 9,
   "metadata": {},
   "outputs": [],
   "source": [
    "def plot(variable, labels, x_label, y_label, title):\n",
    "    for values, label in zip(variable, labels):\n",
    "        plt.plot(values, label=label)\n",
    "\n",
    "    plt.xlabel(x_label)\n",
    "    plt.ylabel(y_label)\n",
    "    plt.legend()\n",
    "    plt.title(title)\n",
    "    plt.tight_layout()"
   ]
  },
  {
   "cell_type": "code",
   "execution_count": 10,
   "metadata": {},
   "outputs": [],
   "source": [
    "def plot_scatter(y_values, x_values, labels, x_label, y_label, title):\n",
    "    for y_value, label in zip(y_values, labels):\n",
    "        plt.scatter(np.expand_dims(x_values, -1), np.expand_dims(y_value, -1), label=label)\n",
    "\n",
    "    plt.xlabel(x_label)\n",
    "    plt.ylabel(y_label)\n",
    "    plt.legend()\n",
    "    plt.title(title)\n",
    "    plt.tight_layout()"
   ]
  },
  {
   "cell_type": "code",
   "execution_count": 11,
   "metadata": {},
   "outputs": [],
   "source": [
    "def plot_hist(x_values, y_values, x_label, y_label, x):\n",
    "    fig, (ax_left, ax_right) = plt.subplots(1, 2, gridspec_kw={'width_ratios': [2, 1]}, figsize=(16, 7))\n",
    "\n",
    "    sns.violinplot(data=pd.DataFrame(data=y_values, columns=np.round(x_values, 3)), ax=ax_left)\n",
    "    ax_left.set(xlabel=x_label, ylabel=y_label)\n",
    "                                                                              \n",
    "    itemindex = np.argmin(abs(x_values-x))\n",
    "    sns.distplot(y_values[:, itemindex], bins=20)\n",
    "    ax_right.set(xlim=(np.min(y_values), np.max(y_values)), xlabel='stresses at strain of %.3f' % x_values[itemindex])    "
   ]
  },
  {
   "cell_type": "code",
   "execution_count": 12,
   "metadata": {},
   "outputs": [],
   "source": [
    "def plot_hist_comparison(x_values, y_values, y_values_2, x_label, y_label, x):\n",
    "    fig, (ax_left, ax_right) = plt.subplots(1, 2, gridspec_kw={'width_ratios': [2, 1]}, figsize=(16, 7))\n",
    "\n",
    "    sns.violinplot(data=pd.DataFrame(data=y_values, columns=np.round(x_values, 3)), ax=ax_left)\n",
    "    ax_left.set(xlabel=x_label, ylabel=y_label)\n",
    "                                                                              \n",
    "    itemindex = np.argmin(abs(x_values-x))\n",
    "    sns.distplot(y_values[:, itemindex], color=\"blue\", bins=20, label='y_values')\n",
    "    if np.any(y_values_2):\n",
    "        sns.distplot(y_values_2[:, itemindex], color=\"red\", bins=20, label='y_values_2')\n",
    "    plt.legend()\n",
    "    ax_right.set(xlim=(np.min(y_values), np.max(y_values)), xlabel='stresses at strain of %.3f' % x_values[itemindex])\n",
    "    plt.savefig('data_dist.png')"
   ]
  },
  {
   "cell_type": "code",
   "execution_count": 13,
   "metadata": {},
   "outputs": [],
   "source": [
    "def plot_all_hist(x_values, y_values, y_values_2):\n",
    "    f, axes = plt.subplots(int(len(x_values)/2), int(len(x_values)/(len(x_values)/2)), figsize=(15, 15), sharex=False)\n",
    "    for i in range(len(x_values)):\n",
    "        sns.distplot(y_values[:, i] , color=\"blue\", bins=20, label='y_values', ax=axes[i % int(len(x_values)/2), 0 if i < len(x_values)/2 else 1])\n",
    "        sns.distplot(y_values_2[:, i] , color=\"red\", bins=20, label='y_values_2', ax=axes[i % int(len(x_values)/2), 0 if i < len(x_values)/2 else 1])\n",
    "        axes[i % int(len(x_values)/2), 0 if i < len(x_values)/2 else 1].set(xlim=(np.min(y_values), np.max(y_values)), xlabel='stresses at strain of %.3f' % x_values[i])\n",
    "        \n",
    "    plt.tight_layout()\n",
    "    plt.savefig('data_dist.png')"
   ]
  },
  {
   "cell_type": "code",
   "execution_count": 14,
   "metadata": {},
   "outputs": [],
   "source": [
    "def plot_individual_sample(sample, n):\n",
    "    fig = plt.figure(n)\n",
    "    stress_ax = plt.plot(strains, sample)\n",
    "    \n",
    "    plt.xlabel('strain')\n",
    "    plt.ylabel('stress')\n",
    "    plt.title('Stress-Strain Curve ' + str(n + 1))\n",
    "    plt.tight_layout()"
   ]
  },
  {
   "cell_type": "markdown",
   "metadata": {},
   "source": [
    "### Visualize the training distribution"
   ]
  },
  {
   "cell_type": "code",
   "execution_count": 15,
   "metadata": {},
   "outputs": [
    {
     "data": {
      "application/vnd.jupyter.widget-view+json": {
       "model_id": "ca71f8f1ccc241c88713c0f7a23dc568",
       "version_major": 2,
       "version_minor": 0
      },
      "text/plain": [
       "interactive(children=(FloatSlider(value=0.01, description='x', max=0.02, step=0.002), Output()), _dom_classes=…"
      ]
     },
     "metadata": {},
     "output_type": "display_data"
    },
    {
     "data": {
      "text/plain": [
       "<function __main__.plot_hist(x_values, y_values, x_label, y_label, x)>"
      ]
     },
     "execution_count": 15,
     "metadata": {},
     "output_type": "execute_result"
    }
   ],
   "source": [
    "interact(plot_hist, x_values=fixed(strains), y_values=fixed(stress_mat), x_label=fixed('strain'), y_label=fixed('stress'), x=(0.0, 0.02, 0.002))"
   ]
  },
  {
   "cell_type": "markdown",
   "metadata": {},
   "source": [
    "### Settings"
   ]
  },
  {
   "cell_type": "code",
   "execution_count": 16,
   "metadata": {},
   "outputs": [],
   "source": [
    "EPOCHS = 150\n",
    "N_SAMPLES = 1024\n",
    "BATCH_SIZE = 16\n",
    "ITERATIONS = int(N_SAMPLES/BATCH_SIZE)\n",
    "NOISE_DIM = 3"
   ]
  },
  {
   "cell_type": "code",
   "execution_count": 17,
   "metadata": {},
   "outputs": [],
   "source": [
    "DIM = 512 # Model dimensionality\n",
    "LAMBDA = .1 # Smaller lambda makes things faster for toy tasks, but isn't\n",
    "            # necessary if you increase CRITIC_ITERS enough\n",
    "CRITIC_ITERS = 5 # How many critic iterations per generator iteration"
   ]
  },
  {
   "cell_type": "markdown",
   "metadata": {},
   "source": [
    "### 1. Preparing the dataset"
   ]
  },
  {
   "cell_type": "code",
   "execution_count": 18,
   "metadata": {},
   "outputs": [
    {
     "name": "stderr",
     "output_type": "stream",
     "text": [
      "Generating samples: 100%|██████████| 1024/1024 [00:00<00:00, 77321.32it/s]\n"
     ]
    }
   ],
   "source": [
    "dataset, scaler = generate_stress_samples(N_SAMPLES, standardize)\n",
    "np.random.shuffle(dataset)"
   ]
  },
  {
   "cell_type": "markdown",
   "metadata": {},
   "source": [
    "### 2. Create Models\n",
    "\n",
    "* #### Generator"
   ]
  },
  {
   "cell_type": "code",
   "execution_count": 19,
   "metadata": {},
   "outputs": [],
   "source": [
    "def make_generator_model():\n",
    "    model = tf.keras.Sequential()\n",
    "    model.add(layers.Input(shape=(NOISE_DIM,)))\n",
    "    model.add(layers.Dense(DIM, use_bias=False))\n",
    "    #model.add(layers.LayerNormalization())\n",
    "    model.add(layers.LeakyReLU())\n",
    "    \n",
    "    model.add(layers.Dense(DIM, use_bias=False))\n",
    "    #model.add(layers.LayerNormalization())\n",
    "    model.add(layers.LeakyReLU())\n",
    "    model.add(layers.Dropout(0.3))\n",
    "    \n",
    "    model.add(layers.Dense(10, use_bias=False))\n",
    "    \n",
    "    return model\n",
    "    "
   ]
  },
  {
   "cell_type": "code",
   "execution_count": 20,
   "metadata": {},
   "outputs": [
    {
     "name": "stdout",
     "output_type": "stream",
     "text": [
      "Model: \"sequential\"\n",
      "_________________________________________________________________\n",
      "Layer (type)                 Output Shape              Param #   \n",
      "=================================================================\n",
      "dense (Dense)                (None, 512)               1536      \n",
      "_________________________________________________________________\n",
      "leaky_re_lu (LeakyReLU)      (None, 512)               0         \n",
      "_________________________________________________________________\n",
      "dense_1 (Dense)              (None, 512)               262144    \n",
      "_________________________________________________________________\n",
      "leaky_re_lu_1 (LeakyReLU)    (None, 512)               0         \n",
      "_________________________________________________________________\n",
      "dropout (Dropout)            (None, 512)               0         \n",
      "_________________________________________________________________\n",
      "dense_2 (Dense)              (None, 10)                5120      \n",
      "=================================================================\n",
      "Total params: 268,800\n",
      "Trainable params: 268,800\n",
      "Non-trainable params: 0\n",
      "_________________________________________________________________\n"
     ]
    }
   ],
   "source": [
    "generator = make_generator_model()\n",
    "generator.summary()"
   ]
  },
  {
   "cell_type": "markdown",
   "metadata": {},
   "source": [
    "* #### Discriminator"
   ]
  },
  {
   "cell_type": "code",
   "execution_count": 21,
   "metadata": {},
   "outputs": [],
   "source": [
    "def make_discriminator_model():\n",
    "    model = tf.keras.Sequential()\n",
    "    model.add(layers.Input(shape=(10,)))\n",
    "    model.add(layers.Dense(DIM))\n",
    "    model.add(layers.LeakyReLU())\n",
    "    model.add(layers.Dropout(0.3))\n",
    "    \n",
    "    model.add(layers.Dense(DIM))\n",
    "    model.add(layers.LeakyReLU())\n",
    "    model.add(layers.Dropout(0.3))\n",
    "    \n",
    "    model.add(layers.Dense(10))\n",
    "    model.add(layers.Dense(1))\n",
    "    \n",
    "    return model"
   ]
  },
  {
   "cell_type": "code",
   "execution_count": 22,
   "metadata": {},
   "outputs": [
    {
     "name": "stdout",
     "output_type": "stream",
     "text": [
      "Model: \"sequential_1\"\n",
      "_________________________________________________________________\n",
      "Layer (type)                 Output Shape              Param #   \n",
      "=================================================================\n",
      "dense_3 (Dense)              (None, 512)               5632      \n",
      "_________________________________________________________________\n",
      "leaky_re_lu_2 (LeakyReLU)    (None, 512)               0         \n",
      "_________________________________________________________________\n",
      "dropout_1 (Dropout)          (None, 512)               0         \n",
      "_________________________________________________________________\n",
      "dense_4 (Dense)              (None, 512)               262656    \n",
      "_________________________________________________________________\n",
      "leaky_re_lu_3 (LeakyReLU)    (None, 512)               0         \n",
      "_________________________________________________________________\n",
      "dropout_2 (Dropout)          (None, 512)               0         \n",
      "_________________________________________________________________\n",
      "dense_5 (Dense)              (None, 10)                5130      \n",
      "_________________________________________________________________\n",
      "dense_6 (Dense)              (None, 1)                 11        \n",
      "=================================================================\n",
      "Total params: 273,429\n",
      "Trainable params: 273,429\n",
      "Non-trainable params: 0\n",
      "_________________________________________________________________\n"
     ]
    }
   ],
   "source": [
    "discriminator = make_discriminator_model()\n",
    "discriminator.summary()"
   ]
  },
  {
   "cell_type": "markdown",
   "metadata": {},
   "source": [
    "### 3. Define loss and optimizers"
   ]
  },
  {
   "cell_type": "code",
   "execution_count": 23,
   "metadata": {},
   "outputs": [],
   "source": [
    "accuracy = tf.keras.metrics.BinaryAccuracy()"
   ]
  },
  {
   "cell_type": "markdown",
   "metadata": {},
   "source": [
    "* #### Gradient Penalty (TF2 Git)"
   ]
  },
  {
   "cell_type": "code",
   "execution_count": 24,
   "metadata": {},
   "outputs": [],
   "source": [
    "def gradient_penalty(disc, real, fake):\n",
    "    real = tf.cast(real, tf.float32)\n",
    "    \n",
    "    def _interpolate(a, b):\n",
    "        #shape = [tf.shape(a)[0]] + [1] * (a.shape.ndims - 1)\n",
    "        #alpha = tf.random.uniform(shape=shape, minval=0., maxval=1.)\n",
    "        #inter = a + alpha * (b - a)\n",
    "        #inter.set_shape(a.shape)\n",
    "        \n",
    "        alpha = tf.random.uniform(shape=[BATCH_SIZE, 1], minval=0., maxval=1.)\n",
    "        inter = alpha * a + ((1 - alpha) * b)\n",
    "        \n",
    "        return inter\n",
    "\n",
    "    x = _interpolate(real, fake)\n",
    "    \n",
    "    with tf.GradientTape() as t:\n",
    "        t.watch(x)\n",
    "        pred = disc(x)\n",
    "        \n",
    "    grad = t.gradient(pred, x)\n",
    "    #norm = tf.norm(tf.reshape(grad, [tf.shape(grad)[0], -1]), axis=1)\n",
    "    #gp = tf.reduce_mean((norm - 1.)**2)\n",
    "\n",
    "    slopes = tf.sqrt(tf.reduce_sum(tf.square(grad), axis=[1]))\n",
    "    gp = tf.reduce_mean((slopes - 1) ** 2)\n",
    "    \n",
    "    return gp"
   ]
  },
  {
   "cell_type": "markdown",
   "metadata": {},
   "source": [
    "* #### Discriminator loss"
   ]
  },
  {
   "cell_type": "code",
   "execution_count": 25,
   "metadata": {},
   "outputs": [],
   "source": [
    "def discriminator_loss(real_output, fake_output):\n",
    "    real_loss = -tf.reduce_mean(real_output)\n",
    "    fake_loss = tf.reduce_mean(fake_output) \n",
    "    total_loss = real_loss + fake_loss\n",
    "    return total_loss"
   ]
  },
  {
   "cell_type": "markdown",
   "metadata": {},
   "source": [
    "* #### Discriminator accuracy"
   ]
  },
  {
   "cell_type": "code",
   "execution_count": 26,
   "metadata": {},
   "outputs": [],
   "source": [
    "def discriminator_accuracy(real_output, fake_output):\n",
    "    accuracy.update_state(tf.ones_like(real_output), real_output)\n",
    "    accuracy.update_state(tf.zeros_like(fake_output), fake_output)"
   ]
  },
  {
   "cell_type": "markdown",
   "metadata": {},
   "source": [
    "* #### Generator loss"
   ]
  },
  {
   "cell_type": "code",
   "execution_count": 27,
   "metadata": {},
   "outputs": [],
   "source": [
    "def generator_loss(fake_output):\n",
    "    loss = -tf.reduce_mean(fake_output)\n",
    "    return loss"
   ]
  },
  {
   "cell_type": "markdown",
   "metadata": {},
   "source": [
    "* #### Optimizers"
   ]
  },
  {
   "cell_type": "code",
   "execution_count": 28,
   "metadata": {},
   "outputs": [],
   "source": [
    "generator_optimizer = tf.keras.optimizers.Adam(lr=1e-4, beta_1=0.5, beta_2=0.9)\n",
    "discriminator_optimizer = tf.keras.optimizers.Adam(lr=1e-4, beta_1=0.5, beta_2=0.9)"
   ]
  },
  {
   "cell_type": "markdown",
   "metadata": {},
   "source": [
    "### 4. Training\n",
    "* #### Save checkpoints"
   ]
  },
  {
   "cell_type": "code",
   "execution_count": 29,
   "metadata": {},
   "outputs": [],
   "source": [
    "checkpoint_dir = './training_checkpoints'\n",
    "checkpoint_prefix = os.path.join(checkpoint_dir, \"ckpt\")\n",
    "checkpoint = tf.train.Checkpoint(generator_optimizer=generator_optimizer,\n",
    "                                 discriminator_optimizer=discriminator_optimizer,\n",
    "                                 generator=generator,\n",
    "                                 discriminator=discriminator)"
   ]
  },
  {
   "cell_type": "markdown",
   "metadata": {},
   "source": [
    "* #### Generator Training Step"
   ]
  },
  {
   "cell_type": "code",
   "execution_count": 30,
   "metadata": {},
   "outputs": [],
   "source": [
    "@tf.function\n",
    "def generator_train_step():\n",
    "    with tf.GradientTape() as gen_tape:\n",
    "        noise = tf.random.normal([BATCH_SIZE, NOISE_DIM])\n",
    "        generated_batch = generator(noise, training=True)\n",
    "        \n",
    "        fake_output = discriminator(generated_batch, training=True)\n",
    "        \n",
    "        gen_loss = generator_loss(fake_output)\n",
    "\n",
    "    gradients_of_generator = gen_tape.gradient(gen_loss, generator.trainable_variables)\n",
    "    \n",
    "    generator_optimizer.apply_gradients(zip(gradients_of_generator, generator.trainable_variables))\n",
    "\n",
    "    return gen_loss"
   ]
  },
  {
   "cell_type": "markdown",
   "metadata": {},
   "source": [
    "* #### Discriminator Training Step"
   ]
  },
  {
   "cell_type": "code",
   "execution_count": 31,
   "metadata": {},
   "outputs": [],
   "source": [
    "@tf.function\n",
    "def discriminator_train_step(batch):\n",
    "    with tf.GradientTape() as disc_tape:\n",
    "        noise = tf.random.normal([BATCH_SIZE, NOISE_DIM])\n",
    "        generated_batch = generator(noise, training=True)\n",
    "\n",
    "        real_output = discriminator(batch, training=True)\n",
    "        fake_output = discriminator(generated_batch, training=True)\n",
    "\n",
    "        disc_loss = discriminator_loss(real_output, fake_output)\n",
    "        gp = gradient_penalty(functools.partial(discriminator, training=True), batch, generated_batch)\n",
    "\n",
    "        disc_loss += (gp * LAMBDA)\n",
    "\n",
    "    gradients_of_discriminator = disc_tape.gradient(disc_loss, discriminator.trainable_variables)\n",
    "    \n",
    "    discriminator_optimizer.apply_gradients(zip(gradients_of_discriminator, discriminator.trainable_variables))\n",
    "    \n",
    "    discriminator_accuracy(real_output, fake_output)\n",
    "\n",
    "    return disc_loss"
   ]
  },
  {
   "cell_type": "markdown",
   "metadata": {},
   "source": [
    "* #### Training"
   ]
  },
  {
   "cell_type": "code",
   "execution_count": 32,
   "metadata": {},
   "outputs": [],
   "source": [
    "def train(epochs):\n",
    "    losses_per_epoch = []\n",
    "    disc_accuracy = []\n",
    "    \n",
    "    for epoch in range(epochs):\n",
    "        start = time.time()\n",
    "        \n",
    "        for iteration in tqdm(range(ITERATIONS)):\n",
    "            iter_start = time.time()\n",
    "            \n",
    "            sample_batch = dataset[iteration * BATCH_SIZE : (iteration + 1) * BATCH_SIZE]\n",
    "            \n",
    "            disc_loss = discriminator_train_step(sample_batch)\n",
    "            \n",
    "            if iteration % CRITIC_ITERS == 0:\n",
    "                gen_loss = generator_train_step()\n",
    "                \n",
    "            if (iteration + 1) % 1000 == 0:\n",
    "                    print('Time for iteration {} is {:.5f} sec'.format(iteration + 1, time.time() - iter_start))\n",
    "                \n",
    "        if (epoch + 1) % 5 == 0:\n",
    "            checkpoint.save(file_prefix = checkpoint_prefix)\n",
    "            \n",
    "        print('Time for epoch {} is {:.5f} sec'.format(epoch + 1, time.time() - start))\n",
    "        print(\"Discriminator loss: {:.4f}\\t Generator loss: {:.4f}\\n\".format(disc_loss.numpy(), gen_loss.numpy()))\n",
    "        print('Discriminator accuracy: {}\\n'.format(accuracy.result().numpy()))\n",
    "        losses_per_epoch.append([disc_loss, gen_loss])\n",
    "        disc_accuracy.append(accuracy.result().numpy())\n",
    "\n",
    "    return np.array(losses_per_epoch), disc_accuracy"
   ]
  },
  {
   "cell_type": "code",
   "execution_count": 33,
   "metadata": {},
   "outputs": [
    {
     "name": "stderr",
     "output_type": "stream",
     "text": [
      "  0%|          | 0/64 [00:00<?, ?it/s]WARNING: Logging before flag parsing goes to stderr.\n",
      "W0625 16:06:36.576932 140226177550144 deprecation.py:323] From /home/jcuevas7/anaconda3/envs/tf2-beta1/lib/python3.6/site-packages/tensorflow/python/ops/math_grad.py:1205: add_dispatch_support.<locals>.wrapper (from tensorflow.python.ops.array_ops) is deprecated and will be removed in a future version.\n",
      "Instructions for updating:\n",
      "Use tf.where in 2.0, which has the same broadcast rule as np.where\n",
      "100%|██████████| 64/64 [00:04<00:00, 15.22it/s]\n",
      "100%|██████████| 64/64 [00:00<00:00, 438.02it/s]\n",
      "  0%|          | 0/64 [00:00<?, ?it/s]"
     ]
    },
    {
     "name": "stdout",
     "output_type": "stream",
     "text": [
      "Time for epoch 1 is 4.20880 sec\n",
      "Discriminator loss: -1.2841\t Generator loss: -0.2569\n",
      "\n",
      "Discriminator accuracy: 0.81396484375\n",
      "\n",
      "Time for epoch 2 is 0.14725 sec\n",
      "Discriminator loss: -3.0777\t Generator loss: -1.1500\n",
      "\n",
      "Discriminator accuracy: 0.7587890625\n",
      "\n"
     ]
    },
    {
     "name": "stderr",
     "output_type": "stream",
     "text": [
      "100%|██████████| 64/64 [00:00<00:00, 443.91it/s]\n",
      "100%|██████████| 64/64 [00:00<00:00, 461.92it/s]\n",
      "  0%|          | 0/64 [00:00<?, ?it/s]"
     ]
    },
    {
     "name": "stdout",
     "output_type": "stream",
     "text": [
      "Time for epoch 3 is 0.14523 sec\n",
      "Discriminator loss: -3.4977\t Generator loss: -2.4382\n",
      "\n",
      "Discriminator accuracy: 0.6834309697151184\n",
      "\n",
      "Time for epoch 4 is 0.13957 sec\n",
      "Discriminator loss: -2.1588\t Generator loss: -4.4975\n",
      "\n",
      "Discriminator accuracy: 0.63818359375\n",
      "\n"
     ]
    },
    {
     "name": "stderr",
     "output_type": "stream",
     "text": [
      "100%|██████████| 64/64 [00:00<00:00, 439.46it/s]\n",
      "100%|██████████| 64/64 [00:00<00:00, 455.36it/s]\n",
      "  0%|          | 0/64 [00:00<?, ?it/s]"
     ]
    },
    {
     "name": "stdout",
     "output_type": "stream",
     "text": [
      "Time for epoch 5 is 0.17361 sec\n",
      "Discriminator loss: 1.3977\t Generator loss: -7.4364\n",
      "\n",
      "Discriminator accuracy: 0.6107422113418579\n",
      "\n",
      "Time for epoch 6 is 0.14165 sec\n",
      "Discriminator loss: 0.9295\t Generator loss: -11.7992\n",
      "\n",
      "Discriminator accuracy: 0.592529296875\n",
      "\n"
     ]
    },
    {
     "name": "stderr",
     "output_type": "stream",
     "text": [
      "100%|██████████| 64/64 [00:00<00:00, 407.24it/s]\n",
      "100%|██████████| 64/64 [00:00<00:00, 426.14it/s]\n",
      "  0%|          | 0/64 [00:00<?, ?it/s]"
     ]
    },
    {
     "name": "stdout",
     "output_type": "stream",
     "text": [
      "Time for epoch 7 is 0.15823 sec\n",
      "Discriminator loss: 2.0928\t Generator loss: -9.8911\n",
      "\n",
      "Discriminator accuracy: 0.5800083875656128\n",
      "\n",
      "Time for epoch 8 is 0.15136 sec\n",
      "Discriminator loss: 3.3701\t Generator loss: -5.9686\n",
      "\n",
      "Discriminator accuracy: 0.571533203125\n",
      "\n"
     ]
    },
    {
     "name": "stderr",
     "output_type": "stream",
     "text": [
      "100%|██████████| 64/64 [00:00<00:00, 425.43it/s]\n",
      "100%|██████████| 64/64 [00:00<00:00, 463.23it/s]\n",
      "  0%|          | 0/64 [00:00<?, ?it/s]"
     ]
    },
    {
     "name": "stdout",
     "output_type": "stream",
     "text": [
      "Time for epoch 9 is 0.15150 sec\n",
      "Discriminator loss: 2.9806\t Generator loss: -5.7932\n",
      "\n",
      "Discriminator accuracy: 0.5651041865348816\n",
      "\n",
      "Time for epoch 10 is 0.16438 sec\n",
      "Discriminator loss: 3.8864\t Generator loss: -5.6485\n",
      "\n",
      "Discriminator accuracy: 0.5608886480331421\n",
      "\n"
     ]
    },
    {
     "name": "stderr",
     "output_type": "stream",
     "text": [
      "100%|██████████| 64/64 [00:00<00:00, 440.71it/s]\n",
      "100%|██████████| 64/64 [00:00<00:00, 453.14it/s]\n",
      "  0%|          | 0/64 [00:00<?, ?it/s]"
     ]
    },
    {
     "name": "stdout",
     "output_type": "stream",
     "text": [
      "Time for epoch 11 is 0.14638 sec\n",
      "Discriminator loss: 0.3077\t Generator loss: -0.4027\n",
      "\n",
      "Discriminator accuracy: 0.5558416247367859\n",
      "\n",
      "Time for epoch 12 is 0.14263 sec\n",
      "Discriminator loss: 1.6506\t Generator loss: 0.8390\n",
      "\n",
      "Discriminator accuracy: 0.5481364130973816\n",
      "\n"
     ]
    },
    {
     "name": "stderr",
     "output_type": "stream",
     "text": [
      "100%|██████████| 64/64 [00:00<00:00, 429.26it/s]\n",
      "100%|██████████| 64/64 [00:00<00:00, 426.87it/s]\n",
      "  0%|          | 0/64 [00:00<?, ?it/s]"
     ]
    },
    {
     "name": "stdout",
     "output_type": "stream",
     "text": [
      "Time for epoch 13 is 0.15009 sec\n",
      "Discriminator loss: -0.0435\t Generator loss: 2.9300\n",
      "\n",
      "Discriminator accuracy: 0.541428804397583\n",
      "\n",
      "Time for epoch 14 is 0.15110 sec\n",
      "Discriminator loss: -0.1010\t Generator loss: 4.7154\n",
      "\n",
      "Discriminator accuracy: 0.538330078125\n",
      "\n"
     ]
    },
    {
     "name": "stderr",
     "output_type": "stream",
     "text": [
      "100%|██████████| 64/64 [00:00<00:00, 429.32it/s]\n",
      "100%|██████████| 64/64 [00:00<00:00, 458.23it/s]\n",
      "  0%|          | 0/64 [00:00<?, ?it/s]"
     ]
    },
    {
     "name": "stdout",
     "output_type": "stream",
     "text": [
      "Time for epoch 15 is 0.17356 sec\n",
      "Discriminator loss: -2.2539\t Generator loss: 4.2299\n",
      "\n",
      "Discriminator accuracy: 0.5357747673988342\n",
      "\n",
      "Time for epoch 16 is 0.14080 sec\n",
      "Discriminator loss: -1.4047\t Generator loss: 4.3334\n",
      "\n",
      "Discriminator accuracy: 0.533538818359375\n",
      "\n"
     ]
    },
    {
     "name": "stderr",
     "output_type": "stream",
     "text": [
      "100%|██████████| 64/64 [00:00<00:00, 453.06it/s]\n",
      "100%|██████████| 64/64 [00:00<00:00, 462.70it/s]\n",
      "  0%|          | 0/64 [00:00<?, ?it/s]"
     ]
    },
    {
     "name": "stdout",
     "output_type": "stream",
     "text": [
      "Time for epoch 17 is 0.14228 sec\n",
      "Discriminator loss: -0.5181\t Generator loss: 2.9221\n",
      "\n",
      "Discriminator accuracy: 0.5315659642219543\n",
      "\n",
      "Time for epoch 18 is 0.13939 sec\n",
      "Discriminator loss: -0.3573\t Generator loss: 1.7572\n",
      "\n",
      "Discriminator accuracy: 0.5298122763633728\n",
      "\n"
     ]
    },
    {
     "name": "stderr",
     "output_type": "stream",
     "text": [
      "100%|██████████| 64/64 [00:00<00:00, 457.96it/s]\n",
      "100%|██████████| 64/64 [00:00<00:00, 409.09it/s]\n",
      "  0%|          | 0/64 [00:00<?, ?it/s]"
     ]
    },
    {
     "name": "stdout",
     "output_type": "stream",
     "text": [
      "Time for epoch 19 is 0.14070 sec\n",
      "Discriminator loss: -0.5437\t Generator loss: 0.5459\n",
      "\n",
      "Discriminator accuracy: 0.5304790139198303\n",
      "\n",
      "Time for epoch 20 is 0.18204 sec\n",
      "Discriminator loss: 0.7898\t Generator loss: -1.4619\n",
      "\n",
      "Discriminator accuracy: 0.532421886920929\n",
      "\n"
     ]
    },
    {
     "name": "stderr",
     "output_type": "stream",
     "text": [
      "100%|██████████| 64/64 [00:00<00:00, 431.41it/s]\n",
      "100%|██████████| 64/64 [00:00<00:00, 472.69it/s]\n",
      "  0%|          | 0/64 [00:00<?, ?it/s]"
     ]
    },
    {
     "name": "stdout",
     "output_type": "stream",
     "text": [
      "Time for epoch 21 is 0.14950 sec\n",
      "Discriminator loss: 0.1986\t Generator loss: -2.2401\n",
      "\n",
      "Discriminator accuracy: 0.5327380895614624\n",
      "\n",
      "Time for epoch 22 is 0.13637 sec\n",
      "Discriminator loss: 2.4222\t Generator loss: -2.9448\n",
      "\n",
      "Discriminator accuracy: 0.5310946106910706\n",
      "\n"
     ]
    },
    {
     "name": "stderr",
     "output_type": "stream",
     "text": [
      "100%|██████████| 64/64 [00:00<00:00, 461.53it/s]\n",
      "100%|██████████| 64/64 [00:00<00:00, 475.26it/s]\n",
      "  0%|          | 0/64 [00:00<?, ?it/s]"
     ]
    },
    {
     "name": "stdout",
     "output_type": "stream",
     "text": [
      "Time for epoch 23 is 0.13982 sec\n",
      "Discriminator loss: 1.6298\t Generator loss: -1.2856\n",
      "\n",
      "Discriminator accuracy: 0.5292331576347351\n",
      "\n",
      "Time for epoch 24 is 0.13567 sec\n",
      "Discriminator loss: -0.3890\t Generator loss: 0.6830\n",
      "\n",
      "Discriminator accuracy: 0.5270588994026184\n",
      "\n"
     ]
    },
    {
     "name": "stderr",
     "output_type": "stream",
     "text": [
      "100%|██████████| 64/64 [00:00<00:00, 465.41it/s]\n",
      "100%|██████████| 64/64 [00:00<00:00, 478.01it/s]\n",
      "  0%|          | 0/64 [00:00<?, ?it/s]"
     ]
    },
    {
     "name": "stdout",
     "output_type": "stream",
     "text": [
      "Time for epoch 25 is 0.16246 sec\n",
      "Discriminator loss: -0.7237\t Generator loss: 2.3407\n",
      "\n",
      "Discriminator accuracy: 0.5254492163658142\n",
      "\n",
      "Time for epoch 26 is 0.13508 sec\n",
      "Discriminator loss: -1.0734\t Generator loss: 3.8135\n",
      "\n",
      "Discriminator accuracy: 0.5247520804405212\n",
      "\n"
     ]
    },
    {
     "name": "stderr",
     "output_type": "stream",
     "text": [
      "100%|██████████| 64/64 [00:00<00:00, 423.36it/s]\n",
      "100%|██████████| 64/64 [00:00<00:00, 440.76it/s]\n",
      "  0%|          | 0/64 [00:00<?, ?it/s]"
     ]
    },
    {
     "name": "stdout",
     "output_type": "stream",
     "text": [
      "Time for epoch 27 is 0.15218 sec\n",
      "Discriminator loss: -1.6874\t Generator loss: 3.4963\n",
      "\n",
      "Discriminator accuracy: 0.5236725807189941\n",
      "\n",
      "Time for epoch 28 is 0.14635 sec\n",
      "Discriminator loss: -1.0658\t Generator loss: 2.0526\n",
      "\n",
      "Discriminator accuracy: 0.5229143500328064\n",
      "\n"
     ]
    },
    {
     "name": "stderr",
     "output_type": "stream",
     "text": [
      "100%|██████████| 64/64 [00:00<00:00, 458.75it/s]\n",
      "100%|██████████| 64/64 [00:00<00:00, 474.15it/s]\n",
      "  0%|          | 0/64 [00:00<?, ?it/s]"
     ]
    },
    {
     "name": "stdout",
     "output_type": "stream",
     "text": [
      "Time for epoch 29 is 0.14071 sec\n",
      "Discriminator loss: -0.3152\t Generator loss: 1.3898\n",
      "\n",
      "Discriminator accuracy: 0.5221915245056152\n",
      "\n",
      "Time for epoch 30 is 0.15901 sec\n",
      "Discriminator loss: 0.6140\t Generator loss: 0.2806\n",
      "\n",
      "Discriminator accuracy: 0.522167980670929\n",
      "\n"
     ]
    },
    {
     "name": "stderr",
     "output_type": "stream",
     "text": [
      "100%|██████████| 64/64 [00:00<00:00, 461.98it/s]\n",
      "100%|██████████| 64/64 [00:00<00:00, 470.01it/s]\n",
      "  0%|          | 0/64 [00:00<?, ?it/s]"
     ]
    },
    {
     "name": "stdout",
     "output_type": "stream",
     "text": [
      "Time for epoch 31 is 0.13979 sec\n",
      "Discriminator loss: 0.1465\t Generator loss: -0.7742\n",
      "\n",
      "Discriminator accuracy: 0.52294921875\n",
      "\n",
      "Time for epoch 32 is 0.13734 sec\n",
      "Discriminator loss: -0.1831\t Generator loss: -0.2765\n",
      "\n",
      "Discriminator accuracy: 0.52301025390625\n",
      "\n"
     ]
    },
    {
     "name": "stderr",
     "output_type": "stream",
     "text": [
      "100%|██████████| 64/64 [00:00<00:00, 466.88it/s]\n",
      "100%|██████████| 64/64 [00:00<00:00, 433.72it/s]\n",
      "  0%|          | 0/64 [00:00<?, ?it/s]"
     ]
    },
    {
     "name": "stdout",
     "output_type": "stream",
     "text": [
      "Time for epoch 33 is 0.13835 sec\n",
      "Discriminator loss: -0.1042\t Generator loss: 1.0706\n",
      "\n",
      "Discriminator accuracy: 0.522520124912262\n",
      "\n",
      "Time for epoch 34 is 0.14884 sec\n",
      "Discriminator loss: -0.8182\t Generator loss: 1.5249\n",
      "\n",
      "Discriminator accuracy: 0.521857738494873\n",
      "\n"
     ]
    },
    {
     "name": "stderr",
     "output_type": "stream",
     "text": [
      "100%|██████████| 64/64 [00:00<00:00, 438.76it/s]\n",
      "100%|██████████| 64/64 [00:00<00:00, 457.71it/s]\n",
      "  0%|          | 0/64 [00:00<?, ?it/s]"
     ]
    },
    {
     "name": "stdout",
     "output_type": "stream",
     "text": [
      "Time for epoch 35 is 0.17049 sec\n",
      "Discriminator loss: -0.3713\t Generator loss: 1.5352\n",
      "\n",
      "Discriminator accuracy: 0.5211774706840515\n",
      "\n",
      "Time for epoch 36 is 0.14095 sec\n",
      "Discriminator loss: 0.1409\t Generator loss: 1.4095\n",
      "\n",
      "Discriminator accuracy: 0.5207112431526184\n",
      "\n"
     ]
    },
    {
     "name": "stderr",
     "output_type": "stream",
     "text": [
      "100%|██████████| 64/64 [00:00<00:00, 468.14it/s]\n",
      "100%|██████████| 64/64 [00:00<00:00, 474.05it/s]\n",
      "  0%|          | 0/64 [00:00<?, ?it/s]"
     ]
    },
    {
     "name": "stdout",
     "output_type": "stream",
     "text": [
      "Time for epoch 37 is 0.13774 sec\n",
      "Discriminator loss: -0.4419\t Generator loss: 1.3971\n",
      "\n",
      "Discriminator accuracy: 0.5203362703323364\n",
      "\n",
      "Time for epoch 38 is 0.13616 sec\n",
      "Discriminator loss: -0.7181\t Generator loss: 0.2492\n",
      "\n",
      "Discriminator accuracy: 0.5205591917037964\n",
      "\n"
     ]
    },
    {
     "name": "stderr",
     "output_type": "stream",
     "text": [
      "100%|██████████| 64/64 [00:00<00:00, 463.77it/s]\n",
      "100%|██████████| 64/64 [00:00<00:00, 474.28it/s]\n",
      "  0%|          | 0/64 [00:00<?, ?it/s]"
     ]
    },
    {
     "name": "stdout",
     "output_type": "stream",
     "text": [
      "Time for epoch 39 is 0.13910 sec\n",
      "Discriminator loss: -0.5050\t Generator loss: 0.9358\n",
      "\n",
      "Discriminator accuracy: 0.5206705927848816\n",
      "\n",
      "Time for epoch 40 is 0.15891 sec\n",
      "Discriminator loss: -0.0287\t Generator loss: 1.0496\n",
      "\n",
      "Discriminator accuracy: 0.520214855670929\n",
      "\n"
     ]
    },
    {
     "name": "stderr",
     "output_type": "stream",
     "text": [
      "100%|██████████| 64/64 [00:00<00:00, 422.64it/s]\n",
      "100%|██████████| 64/64 [00:00<00:00, 462.93it/s]\n",
      "  0%|          | 0/64 [00:00<?, ?it/s]"
     ]
    },
    {
     "name": "stdout",
     "output_type": "stream",
     "text": [
      "Time for epoch 41 is 0.15250 sec\n",
      "Discriminator loss: -0.3009\t Generator loss: 1.2088\n",
      "\n",
      "Discriminator accuracy: 0.52001953125\n",
      "\n",
      "Time for epoch 42 is 0.13928 sec\n",
      "Discriminator loss: 0.6323\t Generator loss: 1.1200\n",
      "\n",
      "Discriminator accuracy: 0.5197405219078064\n",
      "\n"
     ]
    },
    {
     "name": "stderr",
     "output_type": "stream",
     "text": [
      "100%|██████████| 64/64 [00:00<00:00, 447.16it/s]\n",
      "100%|██████████| 64/64 [00:00<00:00, 467.72it/s]\n",
      "  0%|          | 0/64 [00:00<?, ?it/s]"
     ]
    },
    {
     "name": "stdout",
     "output_type": "stream",
     "text": [
      "Time for epoch 43 is 0.14420 sec\n",
      "Discriminator loss: -0.3225\t Generator loss: 0.7968\n",
      "\n",
      "Discriminator accuracy: 0.5196788907051086\n",
      "\n",
      "Time for epoch 44 is 0.13784 sec\n",
      "Discriminator loss: -0.2891\t Generator loss: 1.8738\n",
      "\n",
      "Discriminator accuracy: 0.5194313526153564\n",
      "\n"
     ]
    },
    {
     "name": "stderr",
     "output_type": "stream",
     "text": [
      "100%|██████████| 64/64 [00:00<00:00, 458.36it/s]\n",
      "100%|██████████| 64/64 [00:00<00:00, 464.45it/s]\n",
      "  0%|          | 0/64 [00:00<?, ?it/s]"
     ]
    },
    {
     "name": "stdout",
     "output_type": "stream",
     "text": [
      "Time for epoch 45 is 0.16665 sec\n",
      "Discriminator loss: -1.1003\t Generator loss: 0.1119\n",
      "\n",
      "Discriminator accuracy: 0.519335925579071\n",
      "\n",
      "Time for epoch 46 is 0.13896 sec\n",
      "Discriminator loss: -0.1072\t Generator loss: 0.9520\n",
      "\n",
      "Discriminator accuracy: 0.51902174949646\n",
      "\n"
     ]
    },
    {
     "name": "stderr",
     "output_type": "stream",
     "text": [
      "100%|██████████| 64/64 [00:00<00:00, 420.86it/s]\n",
      "100%|██████████| 64/64 [00:00<00:00, 426.84it/s]\n",
      "  0%|          | 0/64 [00:00<?, ?it/s]"
     ]
    },
    {
     "name": "stdout",
     "output_type": "stream",
     "text": [
      "Time for epoch 47 is 0.15323 sec\n",
      "Discriminator loss: -0.5528\t Generator loss: 1.4320\n",
      "\n",
      "Discriminator accuracy: 0.518835186958313\n",
      "\n",
      "Time for epoch 48 is 0.15093 sec\n",
      "Discriminator loss: -0.3341\t Generator loss: 2.7022\n",
      "\n",
      "Discriminator accuracy: 0.5182088017463684\n",
      "\n"
     ]
    },
    {
     "name": "stderr",
     "output_type": "stream",
     "text": [
      "100%|██████████| 64/64 [00:00<00:00, 456.00it/s]\n",
      "100%|██████████| 64/64 [00:00<00:00, 477.21it/s]\n",
      "  0%|          | 0/64 [00:00<?, ?it/s]"
     ]
    },
    {
     "name": "stdout",
     "output_type": "stream",
     "text": [
      "Time for epoch 49 is 0.14139 sec\n",
      "Discriminator loss: -0.6427\t Generator loss: 2.9639\n",
      "\n",
      "Discriminator accuracy: 0.5177276134490967\n",
      "\n",
      "Time for epoch 50 is 0.15815 sec\n",
      "Discriminator loss: -2.4313\t Generator loss: 0.7727\n",
      "\n",
      "Discriminator accuracy: 0.5174707174301147\n",
      "\n"
     ]
    },
    {
     "name": "stderr",
     "output_type": "stream",
     "text": [
      "100%|██████████| 64/64 [00:00<00:00, 459.39it/s]\n",
      "100%|██████████| 64/64 [00:00<00:00, 481.94it/s]\n",
      "  0%|          | 0/64 [00:00<?, ?it/s]"
     ]
    },
    {
     "name": "stdout",
     "output_type": "stream",
     "text": [
      "Time for epoch 51 is 0.14047 sec\n",
      "Discriminator loss: -1.0153\t Generator loss: 1.2839\n",
      "\n",
      "Discriminator accuracy: 0.5175589919090271\n",
      "\n",
      "Time for epoch 52 is 0.13403 sec\n",
      "Discriminator loss: 0.4325\t Generator loss: 0.6837\n",
      "\n",
      "Discriminator accuracy: 0.5173621773719788\n",
      "\n"
     ]
    },
    {
     "name": "stderr",
     "output_type": "stream",
     "text": [
      "100%|██████████| 64/64 [00:00<00:00, 456.98it/s]\n",
      "100%|██████████| 64/64 [00:00<00:00, 454.23it/s]\n",
      "  0%|          | 0/64 [00:00<?, ?it/s]"
     ]
    },
    {
     "name": "stdout",
     "output_type": "stream",
     "text": [
      "Time for epoch 53 is 0.14114 sec\n",
      "Discriminator loss: 0.1506\t Generator loss: 0.9753\n",
      "\n",
      "Discriminator accuracy: 0.5173293948173523\n",
      "\n",
      "Time for epoch 54 is 0.14197 sec\n",
      "Discriminator loss: 0.4031\t Generator loss: 1.3164\n",
      "\n",
      "Discriminator accuracy: 0.5174786448478699\n",
      "\n"
     ]
    },
    {
     "name": "stderr",
     "output_type": "stream",
     "text": [
      "100%|██████████| 64/64 [00:00<00:00, 412.41it/s]\n",
      "100%|██████████| 64/64 [00:00<00:00, 458.17it/s]\n",
      "  0%|          | 0/64 [00:00<?, ?it/s]"
     ]
    },
    {
     "name": "stdout",
     "output_type": "stream",
     "text": [
      "Time for epoch 55 is 0.18031 sec\n",
      "Discriminator loss: -0.2415\t Generator loss: 1.1580\n",
      "\n",
      "Discriminator accuracy: 0.5171253681182861\n",
      "\n",
      "Time for epoch 56 is 0.14093 sec\n",
      "Discriminator loss: -0.6881\t Generator loss: 1.0582\n",
      "\n",
      "Discriminator accuracy: 0.5170549750328064\n",
      "\n"
     ]
    },
    {
     "name": "stderr",
     "output_type": "stream",
     "text": [
      "100%|██████████| 64/64 [00:00<00:00, 462.32it/s]\n",
      "100%|██████████| 64/64 [00:00<00:00, 479.96it/s]\n",
      "  0%|          | 0/64 [00:00<?, ?it/s]"
     ]
    },
    {
     "name": "stdout",
     "output_type": "stream",
     "text": [
      "Time for epoch 57 is 0.13948 sec\n",
      "Discriminator loss: -0.7871\t Generator loss: 1.5220\n",
      "\n",
      "Discriminator accuracy: 0.5168328285217285\n",
      "\n",
      "Time for epoch 58 is 0.13445 sec\n",
      "Discriminator loss: -0.0640\t Generator loss: 2.5775\n",
      "\n",
      "Discriminator accuracy: 0.5166268348693848\n",
      "\n"
     ]
    },
    {
     "name": "stderr",
     "output_type": "stream",
     "text": [
      "100%|██████████| 64/64 [00:00<00:00, 449.21it/s]\n",
      "100%|██████████| 64/64 [00:00<00:00, 484.86it/s]\n",
      "  0%|          | 0/64 [00:00<?, ?it/s]"
     ]
    },
    {
     "name": "stdout",
     "output_type": "stream",
     "text": [
      "Time for epoch 59 is 0.14350 sec\n",
      "Discriminator loss: -0.4620\t Generator loss: 1.9478\n",
      "\n",
      "Discriminator accuracy: 0.5163118839263916\n",
      "\n",
      "Time for epoch 60 is 0.15666 sec\n",
      "Discriminator loss: -0.2731\t Generator loss: 1.6917\n",
      "\n",
      "Discriminator accuracy: 0.5161295533180237\n",
      "\n"
     ]
    },
    {
     "name": "stderr",
     "output_type": "stream",
     "text": [
      "100%|██████████| 64/64 [00:00<00:00, 423.23it/s]\n",
      "100%|██████████| 64/64 [00:00<00:00, 435.84it/s]\n",
      "  0%|          | 0/64 [00:00<?, ?it/s]"
     ]
    },
    {
     "name": "stdout",
     "output_type": "stream",
     "text": [
      "Time for epoch 61 is 0.15348 sec\n",
      "Discriminator loss: -0.7209\t Generator loss: 1.5334\n",
      "\n",
      "Discriminator accuracy: 0.5159772038459778\n",
      "\n",
      "Time for epoch 62 is 0.14775 sec\n",
      "Discriminator loss: -0.1654\t Generator loss: 1.5938\n",
      "\n",
      "Discriminator accuracy: 0.5158770084381104\n",
      "\n"
     ]
    },
    {
     "name": "stderr",
     "output_type": "stream",
     "text": [
      "100%|██████████| 64/64 [00:00<00:00, 461.64it/s]\n",
      "100%|██████████| 64/64 [00:00<00:00, 464.28it/s]\n",
      "  0%|          | 0/64 [00:00<?, ?it/s]"
     ]
    },
    {
     "name": "stdout",
     "output_type": "stream",
     "text": [
      "Time for epoch 63 is 0.13969 sec\n",
      "Discriminator loss: -0.1051\t Generator loss: 0.9579\n",
      "\n",
      "Discriminator accuracy: 0.515927255153656\n",
      "\n",
      "Time for epoch 64 is 0.13886 sec\n",
      "Discriminator loss: 0.1119\t Generator loss: 1.2949\n",
      "\n",
      "Discriminator accuracy: 0.5157699584960938\n",
      "\n"
     ]
    },
    {
     "name": "stderr",
     "output_type": "stream",
     "text": [
      "100%|██████████| 64/64 [00:00<00:00, 459.01it/s]\n",
      "100%|██████████| 64/64 [00:00<00:00, 463.01it/s]\n",
      "  0%|          | 0/64 [00:00<?, ?it/s]"
     ]
    },
    {
     "name": "stdout",
     "output_type": "stream",
     "text": [
      "Time for epoch 65 is 0.16298 sec\n",
      "Discriminator loss: -0.0146\t Generator loss: 1.7068\n",
      "\n",
      "Discriminator accuracy: 0.5156700611114502\n",
      "\n",
      "Time for epoch 66 is 0.13936 sec\n",
      "Discriminator loss: -0.0144\t Generator loss: 1.7098\n",
      "\n",
      "Discriminator accuracy: 0.5155066251754761\n",
      "\n"
     ]
    },
    {
     "name": "stderr",
     "output_type": "stream",
     "text": [
      "100%|██████████| 64/64 [00:00<00:00, 468.43it/s]\n",
      "100%|██████████| 64/64 [00:00<00:00, 420.56it/s]\n",
      "  0%|          | 0/64 [00:00<?, ?it/s]"
     ]
    },
    {
     "name": "stdout",
     "output_type": "stream",
     "text": [
      "Time for epoch 67 is 0.13788 sec\n",
      "Discriminator loss: -0.2796\t Generator loss: 2.1052\n",
      "\n",
      "Discriminator accuracy: 0.5153334736824036\n",
      "\n",
      "Time for epoch 68 is 0.15338 sec\n",
      "Discriminator loss: -0.4881\t Generator loss: 2.0296\n",
      "\n",
      "Discriminator accuracy: 0.5151152014732361\n",
      "\n"
     ]
    },
    {
     "name": "stderr",
     "output_type": "stream",
     "text": [
      "100%|██████████| 64/64 [00:00<00:00, 448.39it/s]\n",
      "100%|██████████| 64/64 [00:00<00:00, 476.68it/s]\n",
      "  0%|          | 0/64 [00:00<?, ?it/s]"
     ]
    },
    {
     "name": "stdout",
     "output_type": "stream",
     "text": [
      "Time for epoch 69 is 0.14381 sec\n",
      "Discriminator loss: -0.1446\t Generator loss: 1.8309\n",
      "\n",
      "Discriminator accuracy: 0.51490318775177\n",
      "\n",
      "Time for epoch 70 is 0.15878 sec\n",
      "Discriminator loss: -0.4135\t Generator loss: 1.8204\n",
      "\n",
      "Discriminator accuracy: 0.5147460699081421\n",
      "\n"
     ]
    },
    {
     "name": "stderr",
     "output_type": "stream",
     "text": [
      "100%|██████████| 64/64 [00:00<00:00, 471.20it/s]\n",
      "100%|██████████| 64/64 [00:00<00:00, 481.69it/s]\n",
      "  0%|          | 0/64 [00:00<?, ?it/s]"
     ]
    },
    {
     "name": "stdout",
     "output_type": "stream",
     "text": [
      "Time for epoch 71 is 0.13686 sec\n",
      "Discriminator loss: 0.3124\t Generator loss: 2.2585\n",
      "\n",
      "Discriminator accuracy: 0.5145590305328369\n",
      "\n",
      "Time for epoch 72 is 0.13378 sec\n",
      "Discriminator loss: 0.0010\t Generator loss: 1.6765\n",
      "\n",
      "Discriminator accuracy: 0.5144517421722412\n",
      "\n"
     ]
    },
    {
     "name": "stderr",
     "output_type": "stream",
     "text": [
      "100%|██████████| 64/64 [00:00<00:00, 447.16it/s]\n",
      "100%|██████████| 64/64 [00:00<00:00, 463.84it/s]\n",
      "  0%|          | 0/64 [00:00<?, ?it/s]"
     ]
    },
    {
     "name": "stdout",
     "output_type": "stream",
     "text": [
      "Time for epoch 73 is 0.14404 sec\n",
      "Discriminator loss: -0.3653\t Generator loss: 1.8745\n",
      "\n",
      "Discriminator accuracy: 0.5142337083816528\n",
      "\n",
      "Time for epoch 74 is 0.13901 sec\n",
      "Discriminator loss: 0.0260\t Generator loss: 1.8202\n",
      "\n",
      "Discriminator accuracy: 0.5141403675079346\n",
      "\n"
     ]
    },
    {
     "name": "stderr",
     "output_type": "stream",
     "text": [
      "100%|██████████| 64/64 [00:00<00:00, 413.42it/s]\n",
      "100%|██████████| 64/64 [00:00<00:00, 445.14it/s]\n",
      "  0%|          | 0/64 [00:00<?, ?it/s]"
     ]
    },
    {
     "name": "stdout",
     "output_type": "stream",
     "text": [
      "Time for epoch 75 is 0.17956 sec\n",
      "Discriminator loss: -0.4655\t Generator loss: 1.1967\n",
      "\n",
      "Discriminator accuracy: 0.51416015625\n",
      "\n",
      "Time for epoch 76 is 0.14520 sec\n",
      "Discriminator loss: -0.4408\t Generator loss: 1.7112\n",
      "\n",
      "Discriminator accuracy: 0.5140637755393982\n",
      "\n"
     ]
    },
    {
     "name": "stderr",
     "output_type": "stream",
     "text": [
      "100%|██████████| 64/64 [00:00<00:00, 453.03it/s]\n",
      "100%|██████████| 64/64 [00:00<00:00, 463.18it/s]\n",
      "  0%|          | 0/64 [00:00<?, ?it/s]"
     ]
    },
    {
     "name": "stdout",
     "output_type": "stream",
     "text": [
      "Time for epoch 77 is 0.14231 sec\n",
      "Discriminator loss: -1.0001\t Generator loss: 1.5855\n",
      "\n",
      "Discriminator accuracy: 0.5139572620391846\n",
      "\n",
      "Time for epoch 78 is 0.13931 sec\n",
      "Discriminator loss: -0.2647\t Generator loss: 1.5212\n",
      "\n",
      "Discriminator accuracy: 0.5138471722602844\n",
      "\n"
     ]
    },
    {
     "name": "stderr",
     "output_type": "stream",
     "text": [
      "100%|██████████| 64/64 [00:00<00:00, 466.76it/s]\n",
      "100%|██████████| 64/64 [00:00<00:00, 440.98it/s]\n",
      "  0%|          | 0/64 [00:00<?, ?it/s]"
     ]
    },
    {
     "name": "stdout",
     "output_type": "stream",
     "text": [
      "Time for epoch 79 is 0.13811 sec\n",
      "Discriminator loss: -0.2325\t Generator loss: 2.1903\n",
      "\n",
      "Discriminator accuracy: 0.5138573050498962\n",
      "\n",
      "Time for epoch 80 is 0.16913 sec\n",
      "Discriminator loss: -0.8241\t Generator loss: 1.4336\n",
      "\n",
      "Discriminator accuracy: 0.513824462890625\n",
      "\n"
     ]
    },
    {
     "name": "stderr",
     "output_type": "stream",
     "text": [
      "100%|██████████| 64/64 [00:00<00:00, 429.62it/s]\n",
      "100%|██████████| 64/64 [00:00<00:00, 444.33it/s]\n",
      "  0%|          | 0/64 [00:00<?, ?it/s]"
     ]
    },
    {
     "name": "stdout",
     "output_type": "stream",
     "text": [
      "Time for epoch 81 is 0.15012 sec\n",
      "Discriminator loss: -0.4903\t Generator loss: 3.3973\n",
      "\n",
      "Discriminator accuracy: 0.5139371156692505\n",
      "\n",
      "Time for epoch 82 is 0.14518 sec\n",
      "Discriminator loss: -0.1890\t Generator loss: 1.5938\n",
      "\n",
      "Discriminator accuracy: 0.5137730836868286\n",
      "\n"
     ]
    },
    {
     "name": "stderr",
     "output_type": "stream",
     "text": [
      "100%|██████████| 64/64 [00:00<00:00, 465.14it/s]\n",
      "100%|██████████| 64/64 [00:00<00:00, 451.23it/s]\n",
      "  0%|          | 0/64 [00:00<?, ?it/s]"
     ]
    },
    {
     "name": "stdout",
     "output_type": "stream",
     "text": [
      "Time for epoch 83 is 0.13867 sec\n",
      "Discriminator loss: -0.0553\t Generator loss: 1.6361\n",
      "\n",
      "Discriminator accuracy: 0.5136895179748535\n",
      "\n",
      "Time for epoch 84 is 0.14288 sec\n",
      "Discriminator loss: -0.6102\t Generator loss: 1.4022\n",
      "\n",
      "Discriminator accuracy: 0.5137067437171936\n",
      "\n"
     ]
    },
    {
     "name": "stderr",
     "output_type": "stream",
     "text": [
      "100%|██████████| 64/64 [00:00<00:00, 468.26it/s]\n",
      "100%|██████████| 64/64 [00:00<00:00, 469.02it/s]\n",
      "  0%|          | 0/64 [00:00<?, ?it/s]"
     ]
    },
    {
     "name": "stdout",
     "output_type": "stream",
     "text": [
      "Time for epoch 85 is 0.16117 sec\n",
      "Discriminator loss: -0.5817\t Generator loss: 1.5706\n",
      "\n",
      "Discriminator accuracy: 0.5134363770484924\n",
      "\n",
      "Time for epoch 86 is 0.13749 sec\n",
      "Discriminator loss: -0.2537\t Generator loss: 2.6219\n",
      "\n",
      "Discriminator accuracy: 0.5133652687072754\n",
      "\n"
     ]
    },
    {
     "name": "stderr",
     "output_type": "stream",
     "text": [
      "100%|██████████| 64/64 [00:00<00:00, 466.35it/s]\n",
      "100%|██████████| 64/64 [00:00<00:00, 443.23it/s]\n",
      "  0%|          | 0/64 [00:00<?, ?it/s]"
     ]
    },
    {
     "name": "stdout",
     "output_type": "stream",
     "text": [
      "Time for epoch 87 is 0.13817 sec\n",
      "Discriminator loss: 0.0050\t Generator loss: 2.2839\n",
      "\n",
      "Discriminator accuracy: 0.513301432132721\n",
      "\n",
      "Time for epoch 88 is 0.14544 sec\n",
      "Discriminator loss: 0.4442\t Generator loss: 1.6121\n",
      "\n",
      "Discriminator accuracy: 0.5132169127464294\n",
      "\n"
     ]
    },
    {
     "name": "stderr",
     "output_type": "stream",
     "text": [
      "100%|██████████| 64/64 [00:00<00:00, 425.31it/s]\n",
      "100%|██████████| 64/64 [00:00<00:00, 473.71it/s]\n",
      "  0%|          | 0/64 [00:00<?, ?it/s]"
     ]
    },
    {
     "name": "stdout",
     "output_type": "stream",
     "text": [
      "Time for epoch 89 is 0.15192 sec\n",
      "Discriminator loss: -0.8173\t Generator loss: 2.3443\n",
      "\n",
      "Discriminator accuracy: 0.5132384300231934\n",
      "\n",
      "Time for epoch 90 is 0.16089 sec\n",
      "Discriminator loss: 0.1257\t Generator loss: 1.8673\n",
      "\n",
      "Discriminator accuracy: 0.51318359375\n",
      "\n"
     ]
    },
    {
     "name": "stderr",
     "output_type": "stream",
     "text": [
      "100%|██████████| 64/64 [00:00<00:00, 468.48it/s]\n",
      "100%|██████████| 64/64 [00:00<00:00, 482.46it/s]\n",
      "  0%|          | 0/64 [00:00<?, ?it/s]"
     ]
    },
    {
     "name": "stdout",
     "output_type": "stream",
     "text": [
      "Time for epoch 91 is 0.13763 sec\n",
      "Discriminator loss: 0.2411\t Generator loss: 1.6842\n",
      "\n",
      "Discriminator accuracy: 0.5131406784057617\n",
      "\n",
      "Time for epoch 92 is 0.13355 sec\n",
      "Discriminator loss: -0.2410\t Generator loss: 1.5426\n",
      "\n",
      "Discriminator accuracy: 0.5131198763847351\n",
      "\n"
     ]
    },
    {
     "name": "stderr",
     "output_type": "stream",
     "text": [
      "100%|██████████| 64/64 [00:00<00:00, 457.40it/s]\n",
      "100%|██████████| 64/64 [00:00<00:00, 441.48it/s]\n",
      "  0%|          | 0/64 [00:00<?, ?it/s]"
     ]
    },
    {
     "name": "stdout",
     "output_type": "stream",
     "text": [
      "Time for epoch 93 is 0.14094 sec\n",
      "Discriminator loss: -0.3921\t Generator loss: 2.0612\n",
      "\n",
      "Discriminator accuracy: 0.5130103230476379\n",
      "\n",
      "Time for epoch 94 is 0.14598 sec\n",
      "Discriminator loss: 0.7870\t Generator loss: 2.4446\n",
      "\n",
      "Discriminator accuracy: 0.5129446387290955\n",
      "\n"
     ]
    },
    {
     "name": "stderr",
     "output_type": "stream",
     "text": [
      "100%|██████████| 64/64 [00:00<00:00, 401.76it/s]\n",
      "100%|██████████| 64/64 [00:00<00:00, 446.56it/s]\n",
      "  0%|          | 0/64 [00:00<?, ?it/s]"
     ]
    },
    {
     "name": "stdout",
     "output_type": "stream",
     "text": [
      "Time for epoch 95 is 0.18524 sec\n",
      "Discriminator loss: 0.3203\t Generator loss: 2.1938\n",
      "\n",
      "Discriminator accuracy: 0.5129265785217285\n",
      "\n",
      "Time for epoch 96 is 0.14461 sec\n",
      "Discriminator loss: -0.6081\t Generator loss: 2.1138\n",
      "\n",
      "Discriminator accuracy: 0.512847900390625\n",
      "\n"
     ]
    },
    {
     "name": "stderr",
     "output_type": "stream",
     "text": [
      "100%|██████████| 64/64 [00:00<00:00, 461.48it/s]\n",
      "100%|██████████| 64/64 [00:00<00:00, 475.07it/s]\n",
      "  0%|          | 0/64 [00:00<?, ?it/s]"
     ]
    },
    {
     "name": "stdout",
     "output_type": "stream",
     "text": [
      "Time for epoch 97 is 0.13973 sec\n",
      "Discriminator loss: 0.1048\t Generator loss: 1.5766\n",
      "\n",
      "Discriminator accuracy: 0.5127758383750916\n",
      "\n",
      "Time for epoch 98 is 0.13589 sec\n",
      "Discriminator loss: -0.5992\t Generator loss: 1.5043\n",
      "\n",
      "Discriminator accuracy: 0.5128697156906128\n",
      "\n"
     ]
    },
    {
     "name": "stderr",
     "output_type": "stream",
     "text": [
      "100%|██████████| 64/64 [00:00<00:00, 469.18it/s]\n",
      "100%|██████████| 64/64 [00:00<00:00, 464.49it/s]\n",
      "  0%|          | 0/64 [00:00<?, ?it/s]"
     ]
    },
    {
     "name": "stdout",
     "output_type": "stream",
     "text": [
      "Time for epoch 99 is 0.13766 sec\n",
      "Discriminator loss: -0.5760\t Generator loss: 1.2486\n",
      "\n",
      "Discriminator accuracy: 0.5127100944519043\n",
      "\n",
      "Time for epoch 100 is 0.16190 sec\n",
      "Discriminator loss: -0.0076\t Generator loss: 2.2670\n",
      "\n",
      "Discriminator accuracy: 0.5125927925109863\n",
      "\n"
     ]
    },
    {
     "name": "stderr",
     "output_type": "stream",
     "text": [
      "100%|██████████| 64/64 [00:00<00:00, 430.34it/s]\n",
      "100%|██████████| 64/64 [00:00<00:00, 434.70it/s]\n",
      "  0%|          | 0/64 [00:00<?, ?it/s]"
     ]
    },
    {
     "name": "stdout",
     "output_type": "stream",
     "text": [
      "Time for epoch 101 is 0.14984 sec\n",
      "Discriminator loss: -1.0187\t Generator loss: 2.4307\n",
      "\n",
      "Discriminator accuracy: 0.5124825835227966\n",
      "\n",
      "Time for epoch 102 is 0.14832 sec\n",
      "Discriminator loss: -0.1857\t Generator loss: 2.5053\n",
      "\n",
      "Discriminator accuracy: 0.5124176740646362\n",
      "\n"
     ]
    },
    {
     "name": "stderr",
     "output_type": "stream",
     "text": [
      "100%|██████████| 64/64 [00:00<00:00, 453.35it/s]\n",
      "100%|██████████| 64/64 [00:00<00:00, 466.31it/s]\n",
      "  0%|          | 0/64 [00:00<?, ?it/s]"
     ]
    },
    {
     "name": "stdout",
     "output_type": "stream",
     "text": [
      "Time for epoch 103 is 0.14213 sec\n",
      "Discriminator loss: 0.0802\t Generator loss: 1.5768\n",
      "\n",
      "Discriminator accuracy: 0.5123587250709534\n",
      "\n",
      "Time for epoch 104 is 0.13832 sec\n",
      "Discriminator loss: -0.1089\t Generator loss: 1.4311\n",
      "\n",
      "Discriminator accuracy: 0.5123478770256042\n",
      "\n"
     ]
    },
    {
     "name": "stderr",
     "output_type": "stream",
     "text": [
      "100%|██████████| 64/64 [00:00<00:00, 465.68it/s]\n",
      "100%|██████████| 64/64 [00:00<00:00, 436.62it/s]\n",
      "  0%|          | 0/64 [00:00<?, ?it/s]"
     ]
    },
    {
     "name": "stdout",
     "output_type": "stream",
     "text": [
      "Time for epoch 105 is 0.16186 sec\n",
      "Discriminator loss: 0.2755\t Generator loss: 1.6278\n",
      "\n",
      "Discriminator accuracy: 0.5122302770614624\n",
      "\n",
      "Time for epoch 106 is 0.14764 sec\n",
      "Discriminator loss: 0.1257\t Generator loss: 2.5867\n",
      "\n",
      "Discriminator accuracy: 0.5121886134147644\n",
      "\n"
     ]
    },
    {
     "name": "stderr",
     "output_type": "stream",
     "text": [
      "100%|██████████| 64/64 [00:00<00:00, 455.12it/s]\n",
      "100%|██████████| 64/64 [00:00<00:00, 432.59it/s]\n",
      "  0%|          | 0/64 [00:00<?, ?it/s]"
     ]
    },
    {
     "name": "stdout",
     "output_type": "stream",
     "text": [
      "Time for epoch 107 is 0.14182 sec\n",
      "Discriminator loss: -0.6829\t Generator loss: 2.3194\n",
      "\n",
      "Discriminator accuracy: 0.5121020674705505\n",
      "\n",
      "Time for epoch 108 is 0.14892 sec\n",
      "Discriminator loss: -0.5005\t Generator loss: 1.7472\n",
      "\n",
      "Discriminator accuracy: 0.5120261907577515\n",
      "\n"
     ]
    },
    {
     "name": "stderr",
     "output_type": "stream",
     "text": [
      "100%|██████████| 64/64 [00:00<00:00, 422.10it/s]\n",
      "100%|██████████| 64/64 [00:00<00:00, 473.03it/s]\n",
      "  0%|          | 0/64 [00:00<?, ?it/s]"
     ]
    },
    {
     "name": "stdout",
     "output_type": "stream",
     "text": [
      "Time for epoch 109 is 0.15274 sec\n",
      "Discriminator loss: -0.1993\t Generator loss: 2.5984\n",
      "\n",
      "Discriminator accuracy: 0.5119472146034241\n",
      "\n",
      "Time for epoch 110 is 0.15978 sec\n",
      "Discriminator loss: -0.0732\t Generator loss: 2.0184\n",
      "\n",
      "Discriminator accuracy: 0.5119229555130005\n",
      "\n"
     ]
    },
    {
     "name": "stderr",
     "output_type": "stream",
     "text": [
      "100%|██████████| 64/64 [00:00<00:00, 443.07it/s]\n",
      "100%|██████████| 64/64 [00:00<00:00, 469.72it/s]\n",
      "  0%|          | 0/64 [00:00<?, ?it/s]"
     ]
    },
    {
     "name": "stdout",
     "output_type": "stream",
     "text": [
      "Time for epoch 111 is 0.14559 sec\n",
      "Discriminator loss: 0.4261\t Generator loss: 2.1068\n",
      "\n",
      "Discriminator accuracy: 0.5118727087974548\n",
      "\n",
      "Time for epoch 112 is 0.13739 sec\n",
      "Discriminator loss: 0.0077\t Generator loss: 2.6427\n",
      "\n",
      "Discriminator accuracy: 0.5118321180343628\n",
      "\n"
     ]
    },
    {
     "name": "stderr",
     "output_type": "stream",
     "text": [
      "100%|██████████| 64/64 [00:00<00:00, 451.00it/s]\n",
      "100%|██████████| 64/64 [00:00<00:00, 471.59it/s]\n",
      "  0%|          | 0/64 [00:00<?, ?it/s]"
     ]
    },
    {
     "name": "stdout",
     "output_type": "stream",
     "text": [
      "Time for epoch 113 is 0.14291 sec\n",
      "Discriminator loss: -0.6497\t Generator loss: 1.3841\n",
      "\n",
      "Discriminator accuracy: 0.5117489695549011\n",
      "\n",
      "Time for epoch 114 is 0.13673 sec\n",
      "Discriminator loss: -0.9361\t Generator loss: 1.9633\n",
      "\n",
      "Discriminator accuracy: 0.5115988254547119\n",
      "\n"
     ]
    },
    {
     "name": "stderr",
     "output_type": "stream",
     "text": [
      "100%|██████████| 64/64 [00:00<00:00, 403.98it/s]\n",
      "100%|██████████| 64/64 [00:00<00:00, 414.55it/s]\n",
      "  0%|          | 0/64 [00:00<?, ?it/s]"
     ]
    },
    {
     "name": "stdout",
     "output_type": "stream",
     "text": [
      "Time for epoch 115 is 0.18533 sec\n",
      "Discriminator loss: -0.1449\t Generator loss: 2.8746\n",
      "\n",
      "Discriminator accuracy: 0.511523425579071\n",
      "\n",
      "Time for epoch 116 is 0.15555 sec\n",
      "Discriminator loss: -0.4047\t Generator loss: 2.8904\n",
      "\n",
      "Discriminator accuracy: 0.5114367008209229\n",
      "\n"
     ]
    },
    {
     "name": "stderr",
     "output_type": "stream",
     "text": [
      "100%|██████████| 64/64 [00:00<00:00, 422.01it/s]\n",
      "100%|██████████| 64/64 [00:00<00:00, 470.99it/s]\n",
      "  0%|          | 0/64 [00:00<?, ?it/s]"
     ]
    },
    {
     "name": "stdout",
     "output_type": "stream",
     "text": [
      "Time for epoch 117 is 0.15267 sec\n",
      "Discriminator loss: -0.0573\t Generator loss: 1.9373\n",
      "\n",
      "Discriminator accuracy: 0.511414110660553\n",
      "\n",
      "Time for epoch 118 is 0.13701 sec\n",
      "Discriminator loss: -0.0385\t Generator loss: 2.1685\n",
      "\n",
      "Discriminator accuracy: 0.5113297700881958\n",
      "\n"
     ]
    },
    {
     "name": "stderr",
     "output_type": "stream",
     "text": [
      "100%|██████████| 64/64 [00:00<00:00, 468.72it/s]\n",
      "100%|██████████| 64/64 [00:00<00:00, 453.41it/s]\n",
      "  0%|          | 0/64 [00:00<?, ?it/s]"
     ]
    },
    {
     "name": "stdout",
     "output_type": "stream",
     "text": [
      "Time for epoch 119 is 0.13757 sec\n",
      "Discriminator loss: -0.2577\t Generator loss: 1.4149\n",
      "\n",
      "Discriminator accuracy: 0.5113002061843872\n",
      "\n",
      "Time for epoch 120 is 0.16592 sec\n",
      "Discriminator loss: -0.6616\t Generator loss: 1.8147\n",
      "\n",
      "Discriminator accuracy: 0.5112060308456421\n",
      "\n"
     ]
    },
    {
     "name": "stderr",
     "output_type": "stream",
     "text": [
      "100%|██████████| 64/64 [00:00<00:00, 422.29it/s]\n",
      "100%|██████████| 64/64 [00:00<00:00, 420.95it/s]\n",
      "  0%|          | 0/64 [00:00<?, ?it/s]"
     ]
    },
    {
     "name": "stdout",
     "output_type": "stream",
     "text": [
      "Time for epoch 121 is 0.15270 sec\n",
      "Discriminator loss: -0.6521\t Generator loss: 2.1409\n",
      "\n",
      "Discriminator accuracy: 0.5111376643180847\n",
      "\n",
      "Time for epoch 122 is 0.15302 sec\n",
      "Discriminator loss: -0.3162\t Generator loss: 3.1712\n",
      "\n",
      "Discriminator accuracy: 0.5111023783683777\n",
      "\n"
     ]
    },
    {
     "name": "stderr",
     "output_type": "stream",
     "text": [
      "100%|██████████| 64/64 [00:00<00:00, 454.49it/s]\n",
      "100%|██████████| 64/64 [00:00<00:00, 462.96it/s]\n",
      "  0%|          | 0/64 [00:00<?, ?it/s]"
     ]
    },
    {
     "name": "stdout",
     "output_type": "stream",
     "text": [
      "Time for epoch 123 is 0.14208 sec\n",
      "Discriminator loss: -0.1781\t Generator loss: 2.5607\n",
      "\n",
      "Discriminator accuracy: 0.5110478401184082\n",
      "\n",
      "Time for epoch 124 is 0.13927 sec\n",
      "Discriminator loss: 0.0825\t Generator loss: 2.1582\n",
      "\n",
      "Discriminator accuracy: 0.5109745264053345\n",
      "\n"
     ]
    },
    {
     "name": "stderr",
     "output_type": "stream",
     "text": [
      "100%|██████████| 64/64 [00:00<00:00, 434.20it/s]\n",
      "100%|██████████| 64/64 [00:00<00:00, 426.65it/s]\n",
      "  0%|          | 0/64 [00:00<?, ?it/s]"
     ]
    },
    {
     "name": "stdout",
     "output_type": "stream",
     "text": [
      "Time for epoch 125 is 0.17252 sec\n",
      "Discriminator loss: 0.1228\t Generator loss: 2.1743\n",
      "\n",
      "Discriminator accuracy: 0.5109140872955322\n",
      "\n",
      "Time for epoch 126 is 0.15147 sec\n",
      "Discriminator loss: -0.5017\t Generator loss: 1.9846\n",
      "\n",
      "Discriminator accuracy: 0.5108739733695984\n",
      "\n"
     ]
    },
    {
     "name": "stderr",
     "output_type": "stream",
     "text": [
      "100%|██████████| 64/64 [00:00<00:00, 443.53it/s]\n",
      "100%|██████████| 64/64 [00:00<00:00, 428.01it/s]\n",
      "  0%|          | 0/64 [00:00<?, ?it/s]"
     ]
    },
    {
     "name": "stdout",
     "output_type": "stream",
     "text": [
      "Time for epoch 127 is 0.14535 sec\n",
      "Discriminator loss: 0.2477\t Generator loss: 2.0206\n",
      "\n",
      "Discriminator accuracy: 0.5108267664909363\n",
      "\n",
      "Time for epoch 128 is 0.15057 sec\n",
      "Discriminator loss: -0.4180\t Generator loss: 2.2491\n",
      "\n",
      "Discriminator accuracy: 0.5107498168945312\n",
      "\n"
     ]
    },
    {
     "name": "stderr",
     "output_type": "stream",
     "text": [
      "100%|██████████| 64/64 [00:00<00:00, 427.55it/s]\n",
      "100%|██████████| 64/64 [00:00<00:00, 443.15it/s]\n",
      "  0%|          | 0/64 [00:00<?, ?it/s]"
     ]
    },
    {
     "name": "stdout",
     "output_type": "stream",
     "text": [
      "Time for epoch 129 is 0.15060 sec\n",
      "Discriminator loss: -0.7184\t Generator loss: 2.7084\n",
      "\n",
      "Discriminator accuracy: 0.5107080936431885\n",
      "\n",
      "Time for epoch 130 is 0.16926 sec\n",
      "Discriminator loss: -0.2596\t Generator loss: 2.4736\n",
      "\n",
      "Discriminator accuracy: 0.5106370449066162\n",
      "\n"
     ]
    },
    {
     "name": "stderr",
     "output_type": "stream",
     "text": [
      "100%|██████████| 64/64 [00:00<00:00, 440.70it/s]\n",
      "100%|██████████| 64/64 [00:00<00:00, 462.50it/s]\n",
      "  0%|          | 0/64 [00:00<?, ?it/s]"
     ]
    },
    {
     "name": "stdout",
     "output_type": "stream",
     "text": [
      "Time for epoch 131 is 0.14631 sec\n",
      "Discriminator loss: -0.4058\t Generator loss: 2.3729\n",
      "\n",
      "Discriminator accuracy: 0.5105781555175781\n",
      "\n",
      "Time for epoch 132 is 0.13941 sec\n",
      "Discriminator loss: -0.5752\t Generator loss: 2.0196\n",
      "\n",
      "Discriminator accuracy: 0.5105165243148804\n",
      "\n"
     ]
    },
    {
     "name": "stderr",
     "output_type": "stream",
     "text": [
      "100%|██████████| 64/64 [00:00<00:00, 444.03it/s]\n",
      "100%|██████████| 64/64 [00:00<00:00, 453.76it/s]\n",
      "  0%|          | 0/64 [00:00<?, ?it/s]"
     ]
    },
    {
     "name": "stdout",
     "output_type": "stream",
     "text": [
      "Time for epoch 133 is 0.14538 sec\n",
      "Discriminator loss: -0.3190\t Generator loss: 2.3047\n",
      "\n",
      "Discriminator accuracy: 0.5104668140411377\n",
      "\n",
      "Time for epoch 134 is 0.14206 sec\n",
      "Discriminator loss: 0.1978\t Generator loss: 2.7441\n",
      "\n",
      "Discriminator accuracy: 0.5104106068611145\n",
      "\n"
     ]
    },
    {
     "name": "stderr",
     "output_type": "stream",
     "text": [
      "100%|██████████| 64/64 [00:00<00:00, 386.02it/s]\n",
      "100%|██████████| 64/64 [00:00<00:00, 460.59it/s]\n",
      "  0%|          | 0/64 [00:00<?, ?it/s]"
     ]
    },
    {
     "name": "stdout",
     "output_type": "stream",
     "text": [
      "Time for epoch 135 is 0.19142 sec\n",
      "Discriminator loss: -0.0864\t Generator loss: 2.5074\n",
      "\n",
      "Discriminator accuracy: 0.5103298425674438\n",
      "\n",
      "Time for epoch 136 is 0.14016 sec\n",
      "Discriminator loss: -0.1373\t Generator loss: 2.1756\n",
      "\n",
      "Discriminator accuracy: 0.5102323889732361\n",
      "\n"
     ]
    },
    {
     "name": "stderr",
     "output_type": "stream",
     "text": [
      "100%|██████████| 64/64 [00:00<00:00, 458.68it/s]\n",
      "100%|██████████| 64/64 [00:00<00:00, 461.93it/s]\n",
      "  0%|          | 0/64 [00:00<?, ?it/s]"
     ]
    },
    {
     "name": "stdout",
     "output_type": "stream",
     "text": [
      "Time for epoch 137 is 0.14090 sec\n",
      "Discriminator loss: -0.8415\t Generator loss: 2.2141\n",
      "\n",
      "Discriminator accuracy: 0.5102432370185852\n",
      "\n",
      "Time for epoch 138 is 0.13962 sec\n",
      "Discriminator loss: -0.1004\t Generator loss: 1.9839\n",
      "\n",
      "Discriminator accuracy: 0.5101795792579651\n",
      "\n"
     ]
    },
    {
     "name": "stderr",
     "output_type": "stream",
     "text": [
      "100%|██████████| 64/64 [00:00<00:00, 443.01it/s]\n",
      "100%|██████████| 64/64 [00:00<00:00, 417.66it/s]\n",
      "  0%|          | 0/64 [00:00<?, ?it/s]"
     ]
    },
    {
     "name": "stdout",
     "output_type": "stream",
     "text": [
      "Time for epoch 139 is 0.14554 sec\n",
      "Discriminator loss: -0.1522\t Generator loss: 2.2642\n",
      "\n",
      "Discriminator accuracy: 0.5100958347320557\n",
      "\n",
      "Time for epoch 140 is 0.17772 sec\n",
      "Discriminator loss: -0.2287\t Generator loss: 2.3278\n",
      "\n",
      "Discriminator accuracy: 0.5100306868553162\n",
      "\n"
     ]
    },
    {
     "name": "stderr",
     "output_type": "stream",
     "text": [
      "100%|██████████| 64/64 [00:00<00:00, 415.55it/s]\n",
      "100%|██████████| 64/64 [00:00<00:00, 439.49it/s]\n",
      "  0%|          | 0/64 [00:00<?, ?it/s]"
     ]
    },
    {
     "name": "stdout",
     "output_type": "stream",
     "text": [
      "Time for epoch 141 is 0.15503 sec\n",
      "Discriminator loss: -0.7504\t Generator loss: 2.5218\n",
      "\n",
      "Discriminator accuracy: 0.5099837779998779\n",
      "\n",
      "Time for epoch 142 is 0.14663 sec\n",
      "Discriminator loss: -0.5292\t Generator loss: 2.2467\n",
      "\n",
      "Discriminator accuracy: 0.5099306702613831\n",
      "\n"
     ]
    },
    {
     "name": "stderr",
     "output_type": "stream",
     "text": [
      "100%|██████████| 64/64 [00:00<00:00, 461.19it/s]\n",
      "100%|██████████| 64/64 [00:00<00:00, 446.24it/s]\n",
      "  0%|          | 0/64 [00:00<?, ?it/s]"
     ]
    },
    {
     "name": "stdout",
     "output_type": "stream",
     "text": [
      "Time for epoch 143 is 0.13981 sec\n",
      "Discriminator loss: -0.2446\t Generator loss: 2.3505\n",
      "\n",
      "Discriminator accuracy: 0.5098646283149719\n",
      "\n",
      "Time for epoch 144 is 0.14442 sec\n",
      "Discriminator loss: -0.1424\t Generator loss: 1.9778\n",
      "\n",
      "Discriminator accuracy: 0.5098164677619934\n",
      "\n"
     ]
    },
    {
     "name": "stderr",
     "output_type": "stream",
     "text": [
      "100%|██████████| 64/64 [00:00<00:00, 449.94it/s]\n",
      "100%|██████████| 64/64 [00:00<00:00, 463.20it/s]\n",
      "  0%|          | 0/64 [00:00<?, ?it/s]"
     ]
    },
    {
     "name": "stdout",
     "output_type": "stream",
     "text": [
      "Time for epoch 145 is 0.16698 sec\n",
      "Discriminator loss: 1.0452\t Generator loss: 2.0058\n",
      "\n",
      "Discriminator accuracy: 0.5097891688346863\n",
      "\n",
      "Time for epoch 146 is 0.13939 sec\n",
      "Discriminator loss: -0.3100\t Generator loss: 1.8299\n",
      "\n",
      "Discriminator accuracy: 0.5097923874855042\n",
      "\n"
     ]
    },
    {
     "name": "stderr",
     "output_type": "stream",
     "text": [
      "100%|██████████| 64/64 [00:00<00:00, 450.91it/s]\n",
      "100%|██████████| 64/64 [00:00<00:00, 433.47it/s]\n",
      "  0%|          | 0/64 [00:00<?, ?it/s]"
     ]
    },
    {
     "name": "stdout",
     "output_type": "stream",
     "text": [
      "Time for epoch 147 is 0.14295 sec\n",
      "Discriminator loss: -0.4776\t Generator loss: 2.5042\n",
      "\n",
      "Discriminator accuracy: 0.5097423791885376\n",
      "\n",
      "Time for epoch 148 is 0.14894 sec\n",
      "Discriminator loss: -0.4988\t Generator loss: 2.2257\n",
      "\n",
      "Discriminator accuracy: 0.5097491145133972\n",
      "\n"
     ]
    },
    {
     "name": "stderr",
     "output_type": "stream",
     "text": [
      "100%|██████████| 64/64 [00:00<00:00, 436.12it/s]\n",
      "100%|██████████| 64/64 [00:00<00:00, 472.47it/s]\n"
     ]
    },
    {
     "name": "stdout",
     "output_type": "stream",
     "text": [
      "Time for epoch 149 is 0.14793 sec\n",
      "Discriminator loss: -0.2288\t Generator loss: 2.2680\n",
      "\n",
      "Discriminator accuracy: 0.5097295641899109\n",
      "\n",
      "Time for epoch 150 is 0.16027 sec\n",
      "Discriminator loss: -0.4732\t Generator loss: 1.6700\n",
      "\n",
      "Discriminator accuracy: 0.5097103118896484\n",
      "\n",
      "CPU times: user 2min 6s, sys: 9.73 s, total: 2min 16s\n",
      "Wall time: 26.5 s\n"
     ]
    }
   ],
   "source": [
    "%%time\n",
    "losses_per_epoch, disc_accuracy = train(EPOCHS)"
   ]
  },
  {
   "cell_type": "markdown",
   "metadata": {},
   "source": [
    "### 5. Visualize Results"
   ]
  },
  {
   "cell_type": "code",
   "execution_count": 34,
   "metadata": {},
   "outputs": [
    {
     "name": "stderr",
     "output_type": "stream",
     "text": [
      "Generating samples: 100%|██████████| 100000/100000 [00:01<00:00, 99809.20it/s]\n"
     ]
    },
    {
     "data": {
      "image/png": "[encoded data removed]",
      "text/plain": [
       "<Figure size 432x288 with 1 Axes>"
      ]
     },
     "metadata": {
      "needs_background": "light"
     },
     "output_type": "display_data"
    }
   ],
   "source": [
    "num_examples = 100000\n",
    "seed = tf.random.normal([num_examples, NOISE_DIM])\n",
    "\n",
    "pred = generator(seed, training=False)\n",
    "unscaled_pred = scaler.inverse_transform(pred)\n",
    "\n",
    "samples, strains = generate_samples(MAX_STRAIN, NUM_STRAINS, num_examples)\n",
    "\n",
    "strains_for_plot = strains * np.ones((num_examples, 1))\n",
    "plot_scatter([stress_mat, unscaled_pred], strains_for_plot, ['Real Data', 'Generated Data'], x_label='strain', y_label='stress', title='Examples')\n",
    "\n",
    "plt.savefig('Examples')"
   ]
  },
  {
   "cell_type": "markdown",
   "metadata": {},
   "source": [
    "* #### Plotting data distribution"
   ]
  },
  {
   "cell_type": "code",
   "execution_count": 35,
   "metadata": {},
   "outputs": [
    {
     "data": {
      "application/vnd.jupyter.widget-view+json": {
       "model_id": "f7b2d75df2de426c9d2d2ef364b8f48f",
       "version_major": 2,
       "version_minor": 0
      },
      "text/plain": [
       "interactive(children=(FloatSlider(value=0.01, description='x', max=0.02, step=0.002), Output()), _dom_classes=…"
      ]
     },
     "metadata": {},
     "output_type": "display_data"
    },
    {
     "data": {
      "text/plain": [
       "<function __main__.plot_hist_comparison(x_values, y_values, y_values_2, x_label, y_label, x)>"
      ]
     },
     "execution_count": 35,
     "metadata": {},
     "output_type": "execute_result"
    }
   ],
   "source": [
    "interact(plot_hist_comparison, x_values=fixed(strains), y_values=fixed(stress_mat), y_values_2=fixed(unscaled_pred), x_label=fixed('strain'), y_label=fixed('stress'), x=(0.0, 0.02, 0.002))"
   ]
  },
  {
   "cell_type": "code",
   "execution_count": 36,
   "metadata": {},
   "outputs": [
    {
     "data": {
      "image/png": "[encoded data removed]",
      "text/plain": [
       "<Figure size 1080x1080 with 10 Axes>"
      ]
     },
     "metadata": {
      "needs_background": "light"
     },
     "output_type": "display_data"
    }
   ],
   "source": [
    "plot_all_hist(x_values=strains, y_values=stress_mat, y_values_2=unscaled_pred)"
   ]
  },
  {
   "cell_type": "markdown",
   "metadata": {},
   "source": [
    "* #### Plotting the generator's and the discriminator's loss."
   ]
  },
  {
   "cell_type": "code",
   "execution_count": 37,
   "metadata": {},
   "outputs": [
    {
     "data": {
      "image/png": "[encoded data removed]",
      "text/plain": [
       "<Figure size 432x288 with 1 Axes>"
      ]
     },
     "metadata": {
      "needs_background": "light"
     },
     "output_type": "display_data"
    }
   ],
   "source": [
    "plot([losses_per_epoch[:,0], losses_per_epoch[:,1]], labels=['Discriminator Loss', 'Generator Loss'], x_label='epoch', y_label='loss', title='Network Losses')\n",
    "plt.savefig('losses.png')"
   ]
  },
  {
   "cell_type": "markdown",
   "metadata": {},
   "source": [
    "* #### Plotting Discriminator Accuracy"
   ]
  },
  {
   "cell_type": "code",
   "execution_count": 38,
   "metadata": {},
   "outputs": [
    {
     "data": {
      "image/png": "[encoded data removed]",
      "text/plain": [
       "<Figure size 432x288 with 1 Axes>"
      ]
     },
     "metadata": {
      "needs_background": "light"
     },
     "output_type": "display_data"
    }
   ],
   "source": [
    "plot([disc_accuracy], labels=['Discriminator Accuracy'], x_label='epoch', y_label='accuracy', title=\n",
    "'Discriminator Accuracy')\n",
    "plt.savefig('disc_acc.png')"
   ]
  },
  {
   "cell_type": "markdown",
   "metadata": {},
   "source": [
    "* #### Plotting individual samples"
   ]
  },
  {
   "cell_type": "code",
   "execution_count": 39,
   "metadata": {
    "scrolled": false
   },
   "outputs": [
    {
     "data": {
      "image/png": "[encoded data removed]",
      "text/plain": [
       "<Figure size 432x288 with 1 Axes>"
      ]
     },
     "metadata": {
      "needs_background": "light"
     },
     "output_type": "display_data"
    },
    {
     "data": {
      "image/png": "[encoded data removed]",
      "text/plain": [
       "<Figure size 432x288 with 1 Axes>"
      ]
     },
     "metadata": {
      "needs_background": "light"
     },
     "output_type": "display_data"
    },
    {
     "data": {
      "image/png": "[encoded data removed]",
      "text/plain": [
       "<Figure size 432x288 with 1 Axes>"
      ]
     },
     "metadata": {
      "needs_background": "light"
     },
     "output_type": "display_data"
    },
    {
     "data": {
      "image/png": "[encoded data removed]",
      "text/plain": [
       "<Figure size 432x288 with 1 Axes>"
      ]
     },
     "metadata": {
      "needs_background": "light"
     },
     "output_type": "display_data"
    },
    {
     "data": {
      "image/png": "[encoded data removed]",
      "text/plain": [
       "<Figure size 432x288 with 1 Axes>"
      ]
     },
     "metadata": {
      "needs_background": "light"
     },
     "output_type": "display_data"
    },
    {
     "data": {
      "image/png": "[encoded data removed]",
      "text/plain": [
       "<Figure size 432x288 with 1 Axes>"
      ]
     },
     "metadata": {
      "needs_background": "light"
     },
     "output_type": "display_data"
    },
    {
     "data": {
      "image/png": "[encoded data removed]",
      "text/plain": [
       "<Figure size 432x288 with 1 Axes>"
      ]
     },
     "metadata": {
      "needs_background": "light"
     },
     "output_type": "display_data"
    },
    {
     "data": {
      "image/png": "[encoded data removed]",
      "text/plain": [
       "<Figure size 432x288 with 1 Axes>"
      ]
     },
     "metadata": {
      "needs_background": "light"
     },
     "output_type": "display_data"
    },
    {
     "data": {
      "image/png": "[encoded data removed]",
      "text/plain": [
       "<Figure size 432x288 with 1 Axes>"
      ]
     },
     "metadata": {
      "needs_background": "light"
     },
     "output_type": "display_data"
    },
    {
     "data": {
      "image/png": "[encoded data removed]",
      "text/plain": [
       "<Figure size 432x288 with 1 Axes>"
      ]
     },
     "metadata": {
      "needs_background": "light"
     },
     "output_type": "display_data"
    }
   ],
   "source": [
    "for i in range(10):\n",
    "    plot_individual_sample(unscaled_pred[i], i)\n",
    "    plt.savefig('example_curve.png')"
   ]
  }
 ],
 "metadata": {
  "kernelspec": {
   "display_name": "Python 3",
   "language": "python",
   "name": "python3"
  },
  "language_info": {
   "codemirror_mode": {
    "name": "ipython",
    "version": 3
   },
   "file_extension": ".py",
   "mimetype": "text/x-python",
   "name": "python",
   "nbconvert_exporter": "python",
   "pygments_lexer": "ipython3",
   "version": "3.6.8"
  }
 },
 "nbformat": 4,
 "nbformat_minor": 2
}
