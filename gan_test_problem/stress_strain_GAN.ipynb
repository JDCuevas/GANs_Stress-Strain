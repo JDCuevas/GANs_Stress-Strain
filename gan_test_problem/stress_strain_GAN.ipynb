{
 "cells": [
  {
   "cell_type": "markdown",
   "metadata": {},
   "source": [
    "# Using a GAN to Generate Stress-strain Curves\n",
    "\n",
    "## Problem Definition\n",
    "\n",
    "Assuming bi-linear stress strain behavior of a material (characterized by $\\sigma_y$, $E$, and $H$), generate sample stress-strain curves based on some initial samples of a stress-strain curve distrbution. \n",
    "\n",
    "<img src=\"bilinear.png\" alt=\"Drawing\" style=\"width: 300px;\"/>"
   ]
  },
  {
   "cell_type": "markdown",
   "metadata": {},
   "source": [
    "## Generating the training data\n",
    "\n",
    "The training samples will be gathered by asuming independent, normal distributions for $\\sigma_y$, $E$, and $H$.\n",
    "\n",
    "  * $\\sigma_y \\sim \\mathcal{N}(\\mu=10, \\sigma=0.5)$\n",
    "  * $E \\sim \\mathcal{N}(\\mu=1000, \\sigma=50)$\n",
    "  * $H \\sim \\mathcal{N}(\\mu=50, \\sigma=5)$"
   ]
  },
  {
   "cell_type": "code",
   "execution_count": 1,
   "metadata": {},
   "outputs": [],
   "source": [
    "import numpy as np\n",
    "%matplotlib inline\n",
    "import matplotlib\n",
    "import seaborn as sns\n",
    "sns.set()\n",
    "import matplotlib.pyplot as plt\n",
    "import pandas as pd\n",
    "from tqdm import tqdm"
   ]
  },
  {
   "cell_type": "markdown",
   "metadata": {},
   "source": [
    "Two helper functions"
   ]
  },
  {
   "cell_type": "code",
   "execution_count": 2,
   "metadata": {},
   "outputs": [],
   "source": [
    "def get_stress(strains, E, s_y, H):\n",
    "    e_y = s_y / E\n",
    "    elastic_strains = strains.copy()\n",
    "    elastic_strains[elastic_strains > e_y] = e_y\n",
    "    plastic_strains = strains - elastic_strains\n",
    "    stresses = elastic_strains*E + plastic_strains*H\n",
    "    return stresses"
   ]
  },
  {
   "cell_type": "code",
   "execution_count": 3,
   "metadata": {},
   "outputs": [],
   "source": [
    "def generate_samples(max_strain, n_strain, n_samples):\n",
    "    strain = np.linspace(0, max_strain, n_strain + 1)[1:]\n",
    "    stresses = np.empty((n_samples, n_strain))\n",
    "    for i in tqdm(range(n_samples), desc='Generating samples'):\n",
    "        E = np.random.normal(1000, 50)\n",
    "        s_y = np.random.normal(10, 0.5)\n",
    "        H = np.random.normal(50, 5)\n",
    "        stresses[i] = get_stress(strain, E, s_y, H)\n",
    "    return stresses, strain"
   ]
  },
  {
   "cell_type": "markdown",
   "metadata": {},
   "source": [
    "Make training data:\n",
    "\n",
    "  * rows in stress_mat correspond to the stresses in a single stress strain curve (i.e. 1 sample)\n",
    "  * columns in stress_mat correspond to a single strain value"
   ]
  },
  {
   "cell_type": "code",
   "execution_count": 4,
   "metadata": {},
   "outputs": [
    {
     "name": "stderr",
     "output_type": "stream",
     "text": [
      "Generating samples: 100%|██████████| 100000/100000 [00:01<00:00, 96257.63it/s]\n"
     ]
    }
   ],
   "source": [
    "N_SAMPLES = 100000\n",
    "MAX_STRAIN = 0.02\n",
    "NUM_STRAINS = 10\n",
    "\n",
    "stress_mat, strains = generate_samples(MAX_STRAIN, NUM_STRAINS, N_SAMPLES)"
   ]
  },
  {
   "cell_type": "markdown",
   "metadata": {},
   "source": [
    "Visualize the training distribution"
   ]
  },
  {
   "cell_type": "code",
   "execution_count": 5,
   "metadata": {},
   "outputs": [
    {
     "data": {
      "application/vnd.jupyter.widget-view+json": {
       "model_id": "3425c10b741c48adbf6283af8e444850",
       "version_major": 2,
       "version_minor": 0
      },
      "text/plain": [
       "interactive(children=(FloatSlider(value=0.01, description='x', max=0.02, step=0.002), Output()), _dom_classes=…"
      ]
     },
     "metadata": {},
     "output_type": "display_data"
    },
    {
     "data": {
      "text/plain": [
       "<function __main__.plot_hist(x)>"
      ]
     },
     "execution_count": 5,
     "metadata": {},
     "output_type": "execute_result"
    }
   ],
   "source": [
    "from ipywidgets import interact\n",
    "import ipywidgets as widgets\n",
    "\n",
    "def plot_hist(x):\n",
    "    fig, (ax_left, ax_right) = plt.subplots(1, 2, gridspec_kw={'width_ratios': [2, 1]},\n",
    "                                       figsize=(16, 7))\n",
    "    \n",
    "    sns.violinplot(data=pd.DataFrame(data=stress_mat, columns=np.round(strains, 3)), \n",
    "                   ax=ax_left)\n",
    "    ax_left.set(xlabel='strain', ylabel='stress')\n",
    "    \n",
    "    itemindex = np.argmin(abs(strains-x))\n",
    "    sns.distplot(stress_mat[:, itemindex], bins=20)\n",
    "    ax_right.set(xlim=(np.min(stress_mat), np.max(stress_mat)),\n",
    "                 xlabel='stresses at strain of %.3f' % strains[itemindex])\n",
    "    \n",
    "interact(plot_hist, x=(0.0, 0.02, 0.002))"
   ]
  },
  {
   "cell_type": "markdown",
   "metadata": {},
   "source": [
    "## Train a GAN to produce samples that match this distribution"
   ]
  },
  {
   "cell_type": "code",
   "execution_count": 6,
   "metadata": {},
   "outputs": [],
   "source": [
    "import os\n",
    "import time\n",
    "import numpy as np\n",
    "import matplotlib.pyplot as plt\n",
    "import tensorflow as tf\n",
    "from tensorflow.keras import layers\n",
    "from sklearn.preprocessing import StandardScaler, MinMaxScaler"
   ]
  },
  {
   "cell_type": "markdown",
   "metadata": {},
   "source": [
    "### Settings"
   ]
  },
  {
   "cell_type": "code",
   "execution_count": 7,
   "metadata": {},
   "outputs": [],
   "source": [
    "EPOCHS = 150\n",
    "N_SAMPLES = 1024\n",
    "BATCH_SIZE = 16\n",
    "ITERATIONS = int(N_SAMPLES/BATCH_SIZE)\n",
    "TRAIN_STEPS = 10\n",
    "NOISE_DIM = 10"
   ]
  },
  {
   "cell_type": "markdown",
   "metadata": {},
   "source": [
    "### 1. Preparing the dataset"
   ]
  },
  {
   "cell_type": "code",
   "execution_count": 8,
   "metadata": {},
   "outputs": [],
   "source": [
    "def generate_stress_samples(n_samples, preprocessing):\n",
    "    stresses, _ = generate_samples(MAX_STRAIN, NUM_STRAINS, n_samples)\n",
    "    stresses = np.array(stresses)\n",
    "    \n",
    "    scaled_stresses, stress_scaler = preprocessing(stresses)\n",
    "    \n",
    "    return scaled_stresses, stress_scaler"
   ]
  },
  {
   "cell_type": "code",
   "execution_count": 9,
   "metadata": {},
   "outputs": [],
   "source": [
    "def standardize(data):\n",
    "    scaler = StandardScaler()\n",
    "    scaler.fit(data)\n",
    "    standardized_data = scaler.transform(data)\n",
    "    \n",
    "    return standardized_data, scaler"
   ]
  },
  {
   "cell_type": "code",
   "execution_count": 10,
   "metadata": {},
   "outputs": [],
   "source": [
    "def normalize(data):\n",
    "    scaler = MinMaxScaler()\n",
    "    scaler.fit(data)\n",
    "    standardized_data = scaler.transform(data)\n",
    "    \n",
    "    return normalized_data, scaler"
   ]
  },
  {
   "cell_type": "code",
   "execution_count": 11,
   "metadata": {},
   "outputs": [
    {
     "name": "stderr",
     "output_type": "stream",
     "text": [
      "Generating samples: 100%|██████████| 1024/1024 [00:00<00:00, 32949.50it/s]\n"
     ]
    }
   ],
   "source": [
    "dataset, scaler = generate_stress_samples(N_SAMPLES, standardize)\n",
    "np.random.shuffle(dataset)"
   ]
  },
  {
   "cell_type": "markdown",
   "metadata": {},
   "source": [
    "### 2. Create Models\n",
    "\n",
    "* #### Generator"
   ]
  },
  {
   "cell_type": "code",
   "execution_count": 12,
   "metadata": {},
   "outputs": [],
   "source": [
    "def make_generator_model():\n",
    "    model = tf.keras.Sequential()\n",
    "    model.add(layers.Input(shape=(NOISE_DIM,)))\n",
    "    model.add(layers.Dense(512, use_bias=False))\n",
    "    model.add(layers.BatchNormalization())\n",
    "    model.add(layers.LeakyReLU())\n",
    "    \n",
    "    model.add(layers.Dense(512, use_bias=False))\n",
    "    model.add(layers.BatchNormalization())\n",
    "    model.add(layers.LeakyReLU())\n",
    "    model.add(layers.Dropout(0.3))\n",
    "    \n",
    "    model.add(layers.Dense(10, use_bias=False))\n",
    "    \n",
    "    return model\n",
    "    "
   ]
  },
  {
   "cell_type": "code",
   "execution_count": 13,
   "metadata": {},
   "outputs": [
    {
     "name": "stdout",
     "output_type": "stream",
     "text": [
      "Model: \"sequential\"\n",
      "_________________________________________________________________\n",
      "Layer (type)                 Output Shape              Param #   \n",
      "=================================================================\n",
      "dense (Dense)                (None, 512)               5120      \n",
      "_________________________________________________________________\n",
      "batch_normalization (BatchNo (None, 512)               2048      \n",
      "_________________________________________________________________\n",
      "leaky_re_lu (LeakyReLU)      (None, 512)               0         \n",
      "_________________________________________________________________\n",
      "dense_1 (Dense)              (None, 512)               262144    \n",
      "_________________________________________________________________\n",
      "batch_normalization_1 (Batch (None, 512)               2048      \n",
      "_________________________________________________________________\n",
      "leaky_re_lu_1 (LeakyReLU)    (None, 512)               0         \n",
      "_________________________________________________________________\n",
      "dropout (Dropout)            (None, 512)               0         \n",
      "_________________________________________________________________\n",
      "dense_2 (Dense)              (None, 10)                5120      \n",
      "=================================================================\n",
      "Total params: 276,480\n",
      "Trainable params: 274,432\n",
      "Non-trainable params: 2,048\n",
      "_________________________________________________________________\n"
     ]
    }
   ],
   "source": [
    "generator = make_generator_model()\n",
    "generator.summary()"
   ]
  },
  {
   "cell_type": "markdown",
   "metadata": {},
   "source": [
    "* #### Discriminator"
   ]
  },
  {
   "cell_type": "code",
   "execution_count": 14,
   "metadata": {},
   "outputs": [],
   "source": [
    "def make_discriminator_model():\n",
    "    model = tf.keras.Sequential()\n",
    "    model.add(layers.Input(shape=(10,)))\n",
    "    model.add(layers.Dense(512))\n",
    "    model.add(layers.LeakyReLU())\n",
    "    model.add(layers.Dropout(0.3))\n",
    "    \n",
    "    model.add(layers.Dense(512))\n",
    "    model.add(layers.LeakyReLU())\n",
    "    model.add(layers.Dropout(0.3))\n",
    "    \n",
    "    model.add(layers.Dense(10))\n",
    "    model.add(layers.Dense(1))\n",
    "    \n",
    "    return model"
   ]
  },
  {
   "cell_type": "code",
   "execution_count": 15,
   "metadata": {},
   "outputs": [
    {
     "name": "stdout",
     "output_type": "stream",
     "text": [
      "Model: \"sequential_1\"\n",
      "_________________________________________________________________\n",
      "Layer (type)                 Output Shape              Param #   \n",
      "=================================================================\n",
      "dense_3 (Dense)              (None, 512)               5632      \n",
      "_________________________________________________________________\n",
      "leaky_re_lu_2 (LeakyReLU)    (None, 512)               0         \n",
      "_________________________________________________________________\n",
      "dropout_1 (Dropout)          (None, 512)               0         \n",
      "_________________________________________________________________\n",
      "dense_4 (Dense)              (None, 512)               262656    \n",
      "_________________________________________________________________\n",
      "leaky_re_lu_3 (LeakyReLU)    (None, 512)               0         \n",
      "_________________________________________________________________\n",
      "dropout_2 (Dropout)          (None, 512)               0         \n",
      "_________________________________________________________________\n",
      "dense_5 (Dense)              (None, 10)                5130      \n",
      "_________________________________________________________________\n",
      "dense_6 (Dense)              (None, 1)                 11        \n",
      "=================================================================\n",
      "Total params: 273,429\n",
      "Trainable params: 273,429\n",
      "Non-trainable params: 0\n",
      "_________________________________________________________________\n"
     ]
    }
   ],
   "source": [
    "discriminator = make_discriminator_model()\n",
    "discriminator.summary()"
   ]
  },
  {
   "cell_type": "markdown",
   "metadata": {},
   "source": [
    "### 3. Define loss and optimizers"
   ]
  },
  {
   "cell_type": "code",
   "execution_count": 16,
   "metadata": {},
   "outputs": [],
   "source": [
    "cross_entropy = tf.keras.losses.BinaryCrossentropy(from_logits=True)\n",
    "accuracy = tf.keras.metrics.BinaryAccuracy()"
   ]
  },
  {
   "cell_type": "markdown",
   "metadata": {},
   "source": [
    "* #### Discriminator loss"
   ]
  },
  {
   "cell_type": "code",
   "execution_count": 17,
   "metadata": {},
   "outputs": [],
   "source": [
    "def discriminator_loss(real_output, fake_output):\n",
    "    real_loss = cross_entropy(tf.ones_like(real_output), real_output)\n",
    "    fake_loss = cross_entropy(tf.zeros_like(fake_output), fake_output)\n",
    "    total_loss = real_loss + fake_loss\n",
    "    return total_loss"
   ]
  },
  {
   "cell_type": "markdown",
   "metadata": {},
   "source": [
    "* #### Discriminator accuracy"
   ]
  },
  {
   "cell_type": "code",
   "execution_count": 18,
   "metadata": {},
   "outputs": [],
   "source": [
    "def discriminator_accuracy(real_output, fake_output):\n",
    "    #outputs = tf.concat([real_output, fake_output], axis=0)\n",
    "    #accuracy.update_state(tf.ones_like(outputs), outputs)\n",
    "    \n",
    "    accuracy.update_state(tf.ones_like(real_output), real_output)\n",
    "    accuracy.update_state(tf.zeros_like(fake_output), fake_output)"
   ]
  },
  {
   "cell_type": "markdown",
   "metadata": {},
   "source": [
    "* #### Generator loss"
   ]
  },
  {
   "cell_type": "code",
   "execution_count": 19,
   "metadata": {},
   "outputs": [],
   "source": [
    "def generator_loss(fake_output):\n",
    "    loss = cross_entropy(tf.ones_like(fake_output), fake_output)\n",
    "    return loss"
   ]
  },
  {
   "cell_type": "markdown",
   "metadata": {},
   "source": [
    "* #### Optimizers"
   ]
  },
  {
   "cell_type": "code",
   "execution_count": 20,
   "metadata": {},
   "outputs": [],
   "source": [
    "generator_optimizer = tf.keras.optimizers.RMSprop(lr=1e-3)\n",
    "discriminator_optimizer = tf.keras.optimizers.RMSprop(lr=1e-3)"
   ]
  },
  {
   "cell_type": "markdown",
   "metadata": {},
   "source": [
    "### 4. Training\n",
    "* #### Save checkpoints"
   ]
  },
  {
   "cell_type": "code",
   "execution_count": 21,
   "metadata": {},
   "outputs": [],
   "source": [
    "checkpoint_dir = './training_checkpoints'\n",
    "checkpoint_prefix = os.path.join(checkpoint_dir, \"ckpt\")\n",
    "checkpoint = tf.train.Checkpoint(generator_optimizer=generator_optimizer,\n",
    "                                 discriminator_optimizer=discriminator_optimizer,\n",
    "                                 generator=generator,\n",
    "                                 discriminator=discriminator)"
   ]
  },
  {
   "cell_type": "markdown",
   "metadata": {},
   "source": [
    "* #### Training Step"
   ]
  },
  {
   "cell_type": "code",
   "execution_count": 22,
   "metadata": {},
   "outputs": [],
   "source": [
    "# This annotation causes the function to be \"compiled\".\n",
    "@tf.function\n",
    "def train_step(batch, noise):\n",
    "    \n",
    "    with tf.GradientTape() as gen_tape, tf.GradientTape() as disc_tape:\n",
    "        generated_batch = generator(noise, training=True)\n",
    "        \n",
    "        real_output = discriminator(batch, training=True)\n",
    "        fake_output = discriminator(generated_batch, training=True)\n",
    "        gen_loss = generator_loss(fake_output)\n",
    "        disc_loss = discriminator_loss(real_output, fake_output)\n",
    "        \n",
    "    gradients_of_generator = gen_tape.gradient(gen_loss, generator.trainable_variables)\n",
    "    gradients_of_discriminator = disc_tape.gradient(disc_loss, discriminator.trainable_variables)\n",
    "    \n",
    "    generator_optimizer.apply_gradients(zip(gradients_of_generator, generator.trainable_variables))\n",
    "    discriminator_optimizer.apply_gradients(zip(gradients_of_discriminator, discriminator.trainable_variables))\n",
    "\n",
    "    discriminator_accuracy(real_output, fake_output)\n",
    "    \n",
    "    return disc_loss, gen_loss"
   ]
  },
  {
   "cell_type": "code",
   "execution_count": 23,
   "metadata": {},
   "outputs": [],
   "source": [
    "def train(epochs):\n",
    "    losses_per_epoch = []\n",
    "    \n",
    "    for epoch in range(epochs):\n",
    "        start = time.time()\n",
    "        \n",
    "        for i in tqdm(range(ITERATIONS)):\n",
    "            iter_start = time.time()\n",
    "            \n",
    "            sample_batch = dataset[i * BATCH_SIZE : (i + 1) * BATCH_SIZE]\n",
    "            noise = tf.random.normal([BATCH_SIZE, NOISE_DIM])\n",
    "            \n",
    "            for step in range(TRAIN_STEPS):\n",
    "                disc_loss, gen_loss = train_step(sample_batch, noise)\n",
    "                \n",
    "            if (i + 1) % 1000 == 0:\n",
    "                print('Time for iteration {} is {:.5f} sec'.format(i + 1, time.time() - iter_start))\n",
    "                \n",
    "        if (epoch + 1) % 5 == 0:\n",
    "            checkpoint.save(file_prefix = checkpoint_prefix)\n",
    "            \n",
    "        print('Time for epoch {} is {:.5f} sec'.format(epoch + 1, time.time() - start))\n",
    "        print(\"Discriminator loss: {:.4f}\\t Generator loss: {:.4f}\\n\".format(disc_loss.numpy(), gen_loss.numpy()))\n",
    "        print('Discriminator accuracy: {}\\n'.format(accuracy.result().numpy()))\n",
    "        losses_per_epoch.append([disc_loss, gen_loss])\n",
    "        \n",
    "    return np.array(losses_per_epoch)"
   ]
  },
  {
   "cell_type": "code",
   "execution_count": 24,
   "metadata": {},
   "outputs": [
    {
     "name": "stderr",
     "output_type": "stream",
     "text": [
      "  0%|          | 0/64 [00:00<?, ?it/s]WARNING: Logging before flag parsing goes to stderr.\n",
      "W0624 15:29:10.162692 140118961190720 deprecation.py:323] From /home/jcuevas7/anaconda3/envs/tf2-beta1/lib/python3.6/site-packages/tensorflow/python/ops/nn_impl.py:182: add_dispatch_support.<locals>.wrapper (from tensorflow.python.ops.array_ops) is deprecated and will be removed in a future version.\n",
      "Instructions for updating:\n",
      "Use tf.where in 2.0, which has the same broadcast rule as np.where\n",
      "100%|██████████| 64/64 [00:04<00:00, 13.00it/s]\n",
      "  5%|▍         | 3/64 [00:00<00:02, 28.80it/s]"
     ]
    },
    {
     "name": "stdout",
     "output_type": "stream",
     "text": [
      "Time for epoch 1 is 4.92450 sec\n",
      "Discriminator loss: 1.0835\t Generator loss: 2.8024\n",
      "\n",
      "Discriminator accuracy: 0.9231933355331421\n",
      "\n"
     ]
    },
    {
     "name": "stderr",
     "output_type": "stream",
     "text": [
      "100%|██████████| 64/64 [00:01<00:00, 33.64it/s]\n",
      "  6%|▋         | 4/64 [00:00<00:01, 33.48it/s]"
     ]
    },
    {
     "name": "stdout",
     "output_type": "stream",
     "text": [
      "Time for epoch 2 is 1.90397 sec\n",
      "Discriminator loss: 0.6402\t Generator loss: 3.1098\n",
      "\n",
      "Discriminator accuracy: 0.878173828125\n",
      "\n"
     ]
    },
    {
     "name": "stderr",
     "output_type": "stream",
     "text": [
      "100%|██████████| 64/64 [00:01<00:00, 35.10it/s]\n",
      "  6%|▋         | 4/64 [00:00<00:01, 33.91it/s]"
     ]
    },
    {
     "name": "stdout",
     "output_type": "stream",
     "text": [
      "Time for epoch 3 is 1.82154 sec\n",
      "Discriminator loss: 1.0508\t Generator loss: 1.7274\n",
      "\n",
      "Discriminator accuracy: 0.8571940064430237\n",
      "\n"
     ]
    },
    {
     "name": "stderr",
     "output_type": "stream",
     "text": [
      "100%|██████████| 64/64 [00:01<00:00, 34.31it/s]\n",
      "  6%|▋         | 4/64 [00:00<00:01, 34.15it/s]"
     ]
    },
    {
     "name": "stdout",
     "output_type": "stream",
     "text": [
      "Time for epoch 4 is 1.84057 sec\n",
      "Discriminator loss: 0.7947\t Generator loss: 2.0034\n",
      "\n",
      "Discriminator accuracy: 0.837023913860321\n",
      "\n"
     ]
    },
    {
     "name": "stderr",
     "output_type": "stream",
     "text": [
      "100%|██████████| 64/64 [00:01<00:00, 34.81it/s]\n",
      "  6%|▋         | 4/64 [00:00<00:01, 36.37it/s]"
     ]
    },
    {
     "name": "stdout",
     "output_type": "stream",
     "text": [
      "Time for epoch 5 is 1.86011 sec\n",
      "Discriminator loss: 0.9528\t Generator loss: 3.1377\n",
      "\n",
      "Discriminator accuracy: 0.8219238519668579\n",
      "\n"
     ]
    },
    {
     "name": "stderr",
     "output_type": "stream",
     "text": [
      "100%|██████████| 64/64 [00:01<00:00, 35.18it/s]\n",
      "  6%|▋         | 4/64 [00:00<00:01, 35.92it/s]"
     ]
    },
    {
     "name": "stdout",
     "output_type": "stream",
     "text": [
      "Time for epoch 6 is 1.80869 sec\n",
      "Discriminator loss: 0.9433\t Generator loss: 1.5807\n",
      "\n",
      "Discriminator accuracy: 0.8095052242279053\n",
      "\n"
     ]
    },
    {
     "name": "stderr",
     "output_type": "stream",
     "text": [
      "100%|██████████| 64/64 [00:01<00:00, 35.37it/s]\n",
      "  6%|▋         | 4/64 [00:00<00:01, 32.44it/s]"
     ]
    },
    {
     "name": "stdout",
     "output_type": "stream",
     "text": [
      "Time for epoch 7 is 1.80097 sec\n",
      "Discriminator loss: 0.9249\t Generator loss: 1.3335\n",
      "\n",
      "Discriminator accuracy: 0.7976771593093872\n",
      "\n"
     ]
    },
    {
     "name": "stderr",
     "output_type": "stream",
     "text": [
      "100%|██████████| 64/64 [00:01<00:00, 35.26it/s]\n",
      "  6%|▋         | 4/64 [00:00<00:01, 32.81it/s]"
     ]
    },
    {
     "name": "stdout",
     "output_type": "stream",
     "text": [
      "Time for epoch 8 is 1.83095 sec\n",
      "Discriminator loss: 1.0914\t Generator loss: 1.3189\n",
      "\n",
      "Discriminator accuracy: 0.783251941204071\n",
      "\n"
     ]
    },
    {
     "name": "stderr",
     "output_type": "stream",
     "text": [
      "100%|██████████| 64/64 [00:01<00:00, 35.31it/s]\n",
      "  6%|▋         | 4/64 [00:00<00:01, 35.14it/s]"
     ]
    },
    {
     "name": "stdout",
     "output_type": "stream",
     "text": [
      "Time for epoch 9 is 1.84889 sec\n",
      "Discriminator loss: 0.9931\t Generator loss: 1.2788\n",
      "\n",
      "Discriminator accuracy: 0.7685926556587219\n",
      "\n"
     ]
    },
    {
     "name": "stderr",
     "output_type": "stream",
     "text": [
      "100%|██████████| 64/64 [00:01<00:00, 36.05it/s]\n",
      "  6%|▋         | 4/64 [00:00<00:01, 35.62it/s]"
     ]
    },
    {
     "name": "stdout",
     "output_type": "stream",
     "text": [
      "Time for epoch 10 is 1.83516 sec\n",
      "Discriminator loss: 1.1111\t Generator loss: 0.9373\n",
      "\n",
      "Discriminator accuracy: 0.7540917992591858\n",
      "\n"
     ]
    },
    {
     "name": "stderr",
     "output_type": "stream",
     "text": [
      "100%|██████████| 64/64 [00:01<00:00, 35.40it/s]\n",
      "  6%|▋         | 4/64 [00:00<00:01, 35.79it/s]"
     ]
    },
    {
     "name": "stdout",
     "output_type": "stream",
     "text": [
      "Time for epoch 11 is 1.83052 sec\n",
      "Discriminator loss: 1.1023\t Generator loss: 1.0234\n",
      "\n",
      "Discriminator accuracy: 0.7406960129737854\n",
      "\n"
     ]
    },
    {
     "name": "stderr",
     "output_type": "stream",
     "text": [
      "100%|██████████| 64/64 [00:01<00:00, 35.16it/s]\n",
      "  6%|▋         | 4/64 [00:00<00:01, 34.47it/s]"
     ]
    },
    {
     "name": "stdout",
     "output_type": "stream",
     "text": [
      "Time for epoch 12 is 1.82334 sec\n",
      "Discriminator loss: 1.2117\t Generator loss: 0.9141\n",
      "\n",
      "Discriminator accuracy: 0.7273030877113342\n",
      "\n"
     ]
    },
    {
     "name": "stderr",
     "output_type": "stream",
     "text": [
      "100%|██████████| 64/64 [00:01<00:00, 34.95it/s]\n",
      "  6%|▋         | 4/64 [00:00<00:01, 33.81it/s]"
     ]
    },
    {
     "name": "stdout",
     "output_type": "stream",
     "text": [
      "Time for epoch 13 is 1.82853 sec\n",
      "Discriminator loss: 1.0131\t Generator loss: 1.0384\n",
      "\n",
      "Discriminator accuracy: 0.7157865166664124\n",
      "\n"
     ]
    },
    {
     "name": "stderr",
     "output_type": "stream",
     "text": [
      "100%|██████████| 64/64 [00:01<00:00, 32.38it/s]\n",
      "  5%|▍         | 3/64 [00:00<00:02, 27.10it/s]"
     ]
    },
    {
     "name": "stdout",
     "output_type": "stream",
     "text": [
      "Time for epoch 14 is 1.89268 sec\n",
      "Discriminator loss: 1.4585\t Generator loss: 0.7243\n",
      "\n",
      "Discriminator accuracy: 0.7050676345825195\n",
      "\n"
     ]
    },
    {
     "name": "stderr",
     "output_type": "stream",
     "text": [
      "100%|██████████| 64/64 [00:01<00:00, 34.34it/s]\n",
      "  6%|▋         | 4/64 [00:00<00:01, 32.68it/s]"
     ]
    },
    {
     "name": "stdout",
     "output_type": "stream",
     "text": [
      "Time for epoch 15 is 1.88580 sec\n",
      "Discriminator loss: 1.2708\t Generator loss: 0.8270\n",
      "\n",
      "Discriminator accuracy: 0.6954655051231384\n",
      "\n"
     ]
    },
    {
     "name": "stderr",
     "output_type": "stream",
     "text": [
      "100%|██████████| 64/64 [00:01<00:00, 34.37it/s]\n",
      "  6%|▋         | 4/64 [00:00<00:01, 34.27it/s]"
     ]
    },
    {
     "name": "stdout",
     "output_type": "stream",
     "text": [
      "Time for epoch 16 is 1.91653 sec\n",
      "Discriminator loss: 1.2608\t Generator loss: 0.8323\n",
      "\n",
      "Discriminator accuracy: 0.6868346929550171\n",
      "\n"
     ]
    },
    {
     "name": "stderr",
     "output_type": "stream",
     "text": [
      "100%|██████████| 64/64 [00:01<00:00, 35.51it/s]\n",
      "  6%|▋         | 4/64 [00:00<00:01, 35.63it/s]"
     ]
    },
    {
     "name": "stdout",
     "output_type": "stream",
     "text": [
      "Time for epoch 17 is 1.85214 sec\n",
      "Discriminator loss: 1.4008\t Generator loss: 0.7046\n",
      "\n",
      "Discriminator accuracy: 0.6787712574005127\n",
      "\n"
     ]
    },
    {
     "name": "stderr",
     "output_type": "stream",
     "text": [
      "100%|██████████| 64/64 [00:01<00:00, 33.96it/s]\n",
      "  6%|▋         | 4/64 [00:00<00:01, 33.66it/s]"
     ]
    },
    {
     "name": "stdout",
     "output_type": "stream",
     "text": [
      "Time for epoch 18 is 1.90153 sec\n",
      "Discriminator loss: 1.3639\t Generator loss: 0.7773\n",
      "\n",
      "Discriminator accuracy: 0.6712971925735474\n",
      "\n"
     ]
    },
    {
     "name": "stderr",
     "output_type": "stream",
     "text": [
      "100%|██████████| 64/64 [00:01<00:00, 34.56it/s]\n",
      "  6%|▋         | 4/64 [00:00<00:01, 32.56it/s]"
     ]
    },
    {
     "name": "stdout",
     "output_type": "stream",
     "text": [
      "Time for epoch 19 is 1.90324 sec\n",
      "Discriminator loss: 1.3239\t Generator loss: 0.7814\n",
      "\n",
      "Discriminator accuracy: 0.6648463010787964\n",
      "\n"
     ]
    },
    {
     "name": "stderr",
     "output_type": "stream",
     "text": [
      "100%|██████████| 64/64 [00:01<00:00, 33.39it/s]\n",
      "  6%|▋         | 4/64 [00:00<00:01, 36.29it/s]"
     ]
    },
    {
     "name": "stdout",
     "output_type": "stream",
     "text": [
      "Time for epoch 20 is 1.98150 sec\n",
      "Discriminator loss: 1.3613\t Generator loss: 0.6819\n",
      "\n",
      "Discriminator accuracy: 0.6587841510772705\n",
      "\n"
     ]
    },
    {
     "name": "stderr",
     "output_type": "stream",
     "text": [
      "100%|██████████| 64/64 [00:01<00:00, 33.05it/s]\n",
      "  6%|▋         | 4/64 [00:00<00:01, 34.68it/s]"
     ]
    },
    {
     "name": "stdout",
     "output_type": "stream",
     "text": [
      "Time for epoch 21 is 1.90188 sec\n",
      "Discriminator loss: 1.3387\t Generator loss: 0.7041\n",
      "\n",
      "Discriminator accuracy: 0.6533203125\n",
      "\n"
     ]
    },
    {
     "name": "stderr",
     "output_type": "stream",
     "text": [
      "100%|██████████| 64/64 [00:01<00:00, 33.01it/s]\n",
      "  6%|▋         | 4/64 [00:00<00:01, 33.83it/s]"
     ]
    },
    {
     "name": "stdout",
     "output_type": "stream",
     "text": [
      "Time for epoch 22 is 1.93984 sec\n",
      "Discriminator loss: 1.2669\t Generator loss: 0.8870\n",
      "\n",
      "Discriminator accuracy: 0.6483709216117859\n",
      "\n"
     ]
    },
    {
     "name": "stderr",
     "output_type": "stream",
     "text": [
      "100%|██████████| 64/64 [00:01<00:00, 34.28it/s]\n",
      "  6%|▋         | 4/64 [00:00<00:01, 35.28it/s]"
     ]
    },
    {
     "name": "stdout",
     "output_type": "stream",
     "text": [
      "Time for epoch 23 is 1.88426 sec\n",
      "Discriminator loss: 1.2522\t Generator loss: 0.8964\n",
      "\n",
      "Discriminator accuracy: 0.6436969041824341\n",
      "\n"
     ]
    },
    {
     "name": "stderr",
     "output_type": "stream",
     "text": [
      "100%|██████████| 64/64 [00:01<00:00, 34.50it/s]\n",
      "  5%|▍         | 3/64 [00:00<00:02, 29.79it/s]"
     ]
    },
    {
     "name": "stdout",
     "output_type": "stream",
     "text": [
      "Time for epoch 24 is 1.85173 sec\n",
      "Discriminator loss: 1.3148\t Generator loss: 0.7352\n",
      "\n",
      "Discriminator accuracy: 0.6394897699356079\n",
      "\n"
     ]
    },
    {
     "name": "stderr",
     "output_type": "stream",
     "text": [
      "100%|██████████| 64/64 [00:02<00:00, 32.09it/s]\n",
      "  6%|▋         | 4/64 [00:00<00:01, 31.34it/s]"
     ]
    },
    {
     "name": "stdout",
     "output_type": "stream",
     "text": [
      "Time for epoch 25 is 2.07269 sec\n",
      "Discriminator loss: 1.3678\t Generator loss: 0.7624\n",
      "\n",
      "Discriminator accuracy: 0.6354160308837891\n",
      "\n"
     ]
    },
    {
     "name": "stderr",
     "output_type": "stream",
     "text": [
      "100%|██████████| 64/64 [00:01<00:00, 35.30it/s]\n",
      "  5%|▍         | 3/64 [00:00<00:02, 29.55it/s]"
     ]
    },
    {
     "name": "stdout",
     "output_type": "stream",
     "text": [
      "Time for epoch 26 is 1.83190 sec\n",
      "Discriminator loss: 1.3512\t Generator loss: 0.7003\n",
      "\n",
      "Discriminator accuracy: 0.6319185495376587\n",
      "\n"
     ]
    },
    {
     "name": "stderr",
     "output_type": "stream",
     "text": [
      "100%|██████████| 64/64 [00:01<00:00, 34.01it/s]\n",
      "  6%|▋         | 4/64 [00:00<00:01, 33.25it/s]"
     ]
    },
    {
     "name": "stdout",
     "output_type": "stream",
     "text": [
      "Time for epoch 27 is 1.88353 sec\n",
      "Discriminator loss: 1.3448\t Generator loss: 0.7107\n",
      "\n",
      "Discriminator accuracy: 0.6284270286560059\n",
      "\n"
     ]
    },
    {
     "name": "stderr",
     "output_type": "stream",
     "text": [
      "100%|██████████| 64/64 [00:01<00:00, 33.38it/s]\n",
      "  6%|▋         | 4/64 [00:00<00:01, 33.47it/s]"
     ]
    },
    {
     "name": "stdout",
     "output_type": "stream",
     "text": [
      "Time for epoch 28 is 1.91853 sec\n",
      "Discriminator loss: 1.2737\t Generator loss: 0.7638\n",
      "\n",
      "Discriminator accuracy: 0.6253592371940613\n",
      "\n"
     ]
    },
    {
     "name": "stderr",
     "output_type": "stream",
     "text": [
      "100%|██████████| 64/64 [00:01<00:00, 34.24it/s]\n",
      "  6%|▋         | 4/64 [00:00<00:01, 35.05it/s]"
     ]
    },
    {
     "name": "stdout",
     "output_type": "stream",
     "text": [
      "Time for epoch 29 is 1.87044 sec\n",
      "Discriminator loss: 1.2869\t Generator loss: 0.8023\n",
      "\n",
      "Discriminator accuracy: 0.6224744319915771\n",
      "\n"
     ]
    },
    {
     "name": "stderr",
     "output_type": "stream",
     "text": [
      "100%|██████████| 64/64 [00:01<00:00, 35.23it/s]\n",
      "  6%|▋         | 4/64 [00:00<00:01, 35.74it/s]"
     ]
    },
    {
     "name": "stdout",
     "output_type": "stream",
     "text": [
      "Time for epoch 30 is 1.86405 sec\n",
      "Discriminator loss: 1.2454\t Generator loss: 0.8002\n",
      "\n",
      "Discriminator accuracy: 0.6201269626617432\n",
      "\n"
     ]
    },
    {
     "name": "stderr",
     "output_type": "stream",
     "text": [
      "100%|██████████| 64/64 [00:01<00:00, 33.31it/s]\n",
      "  6%|▋         | 4/64 [00:00<00:01, 32.27it/s]"
     ]
    },
    {
     "name": "stdout",
     "output_type": "stream",
     "text": [
      "Time for epoch 31 is 1.91380 sec\n",
      "Discriminator loss: 1.3153\t Generator loss: 0.7448\n",
      "\n",
      "Discriminator accuracy: 0.6178537607192993\n",
      "\n"
     ]
    },
    {
     "name": "stderr",
     "output_type": "stream",
     "text": [
      "100%|██████████| 64/64 [00:01<00:00, 34.00it/s]\n",
      "  6%|▋         | 4/64 [00:00<00:01, 36.01it/s]"
     ]
    },
    {
     "name": "stdout",
     "output_type": "stream",
     "text": [
      "Time for epoch 32 is 1.86814 sec\n",
      "Discriminator loss: 1.4343\t Generator loss: 0.7230\n",
      "\n",
      "Discriminator accuracy: 0.6157684326171875\n",
      "\n"
     ]
    },
    {
     "name": "stderr",
     "output_type": "stream",
     "text": [
      "100%|██████████| 64/64 [00:01<00:00, 34.39it/s]\n",
      "  6%|▋         | 4/64 [00:00<00:01, 33.35it/s]"
     ]
    },
    {
     "name": "stdout",
     "output_type": "stream",
     "text": [
      "Time for epoch 33 is 1.85070 sec\n",
      "Discriminator loss: 1.3195\t Generator loss: 0.7804\n",
      "\n",
      "Discriminator accuracy: 0.6138065457344055\n",
      "\n"
     ]
    },
    {
     "name": "stderr",
     "output_type": "stream",
     "text": [
      "100%|██████████| 64/64 [00:01<00:00, 35.58it/s]\n",
      "  6%|▋         | 4/64 [00:00<00:01, 32.36it/s]"
     ]
    },
    {
     "name": "stdout",
     "output_type": "stream",
     "text": [
      "Time for epoch 34 is 1.81495 sec\n",
      "Discriminator loss: 1.3122\t Generator loss: 0.7025\n",
      "\n",
      "Discriminator accuracy: 0.6120203137397766\n",
      "\n"
     ]
    },
    {
     "name": "stderr",
     "output_type": "stream",
     "text": [
      "100%|██████████| 64/64 [00:01<00:00, 34.74it/s]\n",
      "  6%|▋         | 4/64 [00:00<00:01, 35.52it/s]"
     ]
    },
    {
     "name": "stdout",
     "output_type": "stream",
     "text": [
      "Time for epoch 35 is 1.87141 sec\n",
      "Discriminator loss: 1.3029\t Generator loss: 0.7204\n",
      "\n",
      "Discriminator accuracy: 0.6101785898208618\n",
      "\n"
     ]
    },
    {
     "name": "stderr",
     "output_type": "stream",
     "text": [
      "100%|██████████| 64/64 [00:01<00:00, 34.75it/s]\n",
      "  6%|▋         | 4/64 [00:00<00:01, 34.62it/s]"
     ]
    },
    {
     "name": "stdout",
     "output_type": "stream",
     "text": [
      "Time for epoch 36 is 1.84967 sec\n",
      "Discriminator loss: 1.3151\t Generator loss: 0.7641\n",
      "\n",
      "Discriminator accuracy: 0.6087076663970947\n",
      "\n"
     ]
    },
    {
     "name": "stderr",
     "output_type": "stream",
     "text": [
      "100%|██████████| 64/64 [00:01<00:00, 35.02it/s]\n",
      "  6%|▋         | 4/64 [00:00<00:01, 35.26it/s]"
     ]
    },
    {
     "name": "stdout",
     "output_type": "stream",
     "text": [
      "Time for epoch 37 is 1.85707 sec\n",
      "Discriminator loss: 1.3075\t Generator loss: 0.6982\n",
      "\n",
      "Discriminator accuracy: 0.6072503328323364\n",
      "\n"
     ]
    },
    {
     "name": "stderr",
     "output_type": "stream",
     "text": [
      "100%|██████████| 64/64 [00:01<00:00, 34.61it/s]\n",
      "  6%|▋         | 4/64 [00:00<00:01, 35.34it/s]"
     ]
    },
    {
     "name": "stdout",
     "output_type": "stream",
     "text": [
      "Time for epoch 38 is 1.84441 sec\n",
      "Discriminator loss: 1.3561\t Generator loss: 0.7793\n",
      "\n",
      "Discriminator accuracy: 0.6057758331298828\n",
      "\n"
     ]
    },
    {
     "name": "stderr",
     "output_type": "stream",
     "text": [
      "100%|██████████| 64/64 [00:01<00:00, 33.27it/s]\n",
      "  6%|▋         | 4/64 [00:00<00:01, 34.88it/s]"
     ]
    },
    {
     "name": "stdout",
     "output_type": "stream",
     "text": [
      "Time for epoch 39 is 1.87028 sec\n",
      "Discriminator loss: 1.3399\t Generator loss: 0.7556\n",
      "\n",
      "Discriminator accuracy: 0.6044884324073792\n",
      "\n"
     ]
    },
    {
     "name": "stderr",
     "output_type": "stream",
     "text": [
      "100%|██████████| 64/64 [00:01<00:00, 33.54it/s]\n",
      "  5%|▍         | 3/64 [00:00<00:02, 29.99it/s]"
     ]
    },
    {
     "name": "stdout",
     "output_type": "stream",
     "text": [
      "Time for epoch 40 is 1.88210 sec\n",
      "Discriminator loss: 1.3312\t Generator loss: 0.7701\n",
      "\n",
      "Discriminator accuracy: 0.6032605171203613\n",
      "\n"
     ]
    },
    {
     "name": "stderr",
     "output_type": "stream",
     "text": [
      "100%|██████████| 64/64 [00:01<00:00, 34.48it/s]\n",
      "  6%|▋         | 4/64 [00:00<00:01, 32.25it/s]"
     ]
    },
    {
     "name": "stdout",
     "output_type": "stream",
     "text": [
      "Time for epoch 41 is 1.85724 sec\n",
      "Discriminator loss: 1.2780\t Generator loss: 0.8499\n",
      "\n",
      "Discriminator accuracy: 0.602046012878418\n",
      "\n"
     ]
    },
    {
     "name": "stderr",
     "output_type": "stream",
     "text": [
      "100%|██████████| 64/64 [00:01<00:00, 35.79it/s]\n",
      "  6%|▋         | 4/64 [00:00<00:01, 34.86it/s]"
     ]
    },
    {
     "name": "stdout",
     "output_type": "stream",
     "text": [
      "Time for epoch 42 is 1.83635 sec\n",
      "Discriminator loss: 1.3212\t Generator loss: 0.6876\n",
      "\n",
      "Discriminator accuracy: 0.6009067893028259\n",
      "\n"
     ]
    },
    {
     "name": "stderr",
     "output_type": "stream",
     "text": [
      "100%|██████████| 64/64 [00:01<00:00, 35.63it/s]\n",
      "  6%|▋         | 4/64 [00:00<00:01, 35.64it/s]"
     ]
    },
    {
     "name": "stdout",
     "output_type": "stream",
     "text": [
      "Time for epoch 43 is 1.82919 sec\n",
      "Discriminator loss: 1.3645\t Generator loss: 0.6986\n",
      "\n",
      "Discriminator accuracy: 0.5999284386634827\n",
      "\n"
     ]
    },
    {
     "name": "stderr",
     "output_type": "stream",
     "text": [
      "100%|██████████| 64/64 [00:01<00:00, 35.28it/s]\n",
      "  6%|▋         | 4/64 [00:00<00:01, 35.82it/s]"
     ]
    },
    {
     "name": "stdout",
     "output_type": "stream",
     "text": [
      "Time for epoch 44 is 1.85361 sec\n",
      "Discriminator loss: 1.3257\t Generator loss: 0.7020\n",
      "\n",
      "Discriminator accuracy: 0.5989745855331421\n",
      "\n"
     ]
    },
    {
     "name": "stderr",
     "output_type": "stream",
     "text": [
      "100%|██████████| 64/64 [00:01<00:00, 34.97it/s]\n",
      "  6%|▋         | 4/64 [00:00<00:01, 34.69it/s]"
     ]
    },
    {
     "name": "stdout",
     "output_type": "stream",
     "text": [
      "Time for epoch 45 is 1.85986 sec\n",
      "Discriminator loss: 1.2638\t Generator loss: 0.8711\n",
      "\n",
      "Discriminator accuracy: 0.5979937314987183\n",
      "\n"
     ]
    },
    {
     "name": "stderr",
     "output_type": "stream",
     "text": [
      "100%|██████████| 64/64 [00:01<00:00, 33.02it/s]\n",
      "  6%|▋         | 4/64 [00:00<00:01, 33.75it/s]"
     ]
    },
    {
     "name": "stdout",
     "output_type": "stream",
     "text": [
      "Time for epoch 46 is 1.87334 sec\n",
      "Discriminator loss: 1.3449\t Generator loss: 0.6840\n",
      "\n",
      "Discriminator accuracy: 0.5971648097038269\n",
      "\n"
     ]
    },
    {
     "name": "stderr",
     "output_type": "stream",
     "text": [
      "100%|██████████| 64/64 [00:01<00:00, 34.64it/s]\n",
      "  6%|▋         | 4/64 [00:00<00:01, 33.20it/s]"
     ]
    },
    {
     "name": "stdout",
     "output_type": "stream",
     "text": [
      "Time for epoch 47 is 1.85727 sec\n",
      "Discriminator loss: 1.3644\t Generator loss: 0.7620\n",
      "\n",
      "Discriminator accuracy: 0.5963981747627258\n",
      "\n"
     ]
    },
    {
     "name": "stderr",
     "output_type": "stream",
     "text": [
      "100%|██████████| 64/64 [00:01<00:00, 32.00it/s]\n",
      "  6%|▋         | 4/64 [00:00<00:01, 31.34it/s]"
     ]
    },
    {
     "name": "stdout",
     "output_type": "stream",
     "text": [
      "Time for epoch 48 is 1.92336 sec\n",
      "Discriminator loss: 1.2910\t Generator loss: 0.7972\n",
      "\n",
      "Discriminator accuracy: 0.5957183837890625\n",
      "\n"
     ]
    },
    {
     "name": "stderr",
     "output_type": "stream",
     "text": [
      "100%|██████████| 64/64 [00:01<00:00, 34.25it/s]\n",
      "  6%|▋         | 4/64 [00:00<00:01, 34.22it/s]"
     ]
    },
    {
     "name": "stdout",
     "output_type": "stream",
     "text": [
      "Time for epoch 49 is 1.90670 sec\n",
      "Discriminator loss: 1.3379\t Generator loss: 0.7486\n",
      "\n",
      "Discriminator accuracy: 0.5948570966720581\n",
      "\n"
     ]
    },
    {
     "name": "stderr",
     "output_type": "stream",
     "text": [
      "100%|██████████| 64/64 [00:01<00:00, 32.30it/s]\n",
      "  6%|▋         | 4/64 [00:00<00:01, 31.68it/s]"
     ]
    },
    {
     "name": "stdout",
     "output_type": "stream",
     "text": [
      "Time for epoch 50 is 2.00207 sec\n",
      "Discriminator loss: 1.3260\t Generator loss: 0.8270\n",
      "\n",
      "Discriminator accuracy: 0.5942587852478027\n",
      "\n"
     ]
    },
    {
     "name": "stderr",
     "output_type": "stream",
     "text": [
      "100%|██████████| 64/64 [00:01<00:00, 32.49it/s]\n",
      "  5%|▍         | 3/64 [00:00<00:02, 29.65it/s]"
     ]
    },
    {
     "name": "stdout",
     "output_type": "stream",
     "text": [
      "Time for epoch 51 is 1.99045 sec\n",
      "Discriminator loss: 1.3480\t Generator loss: 0.7015\n",
      "\n",
      "Discriminator accuracy: 0.5934838652610779\n",
      "\n"
     ]
    },
    {
     "name": "stderr",
     "output_type": "stream",
     "text": [
      "100%|██████████| 64/64 [00:01<00:00, 33.42it/s]\n",
      "  6%|▋         | 4/64 [00:00<00:01, 34.97it/s]"
     ]
    },
    {
     "name": "stdout",
     "output_type": "stream",
     "text": [
      "Time for epoch 52 is 1.91659 sec\n",
      "Discriminator loss: 1.2196\t Generator loss: 0.8855\n",
      "\n",
      "Discriminator accuracy: 0.5928654670715332\n",
      "\n"
     ]
    },
    {
     "name": "stderr",
     "output_type": "stream",
     "text": [
      "100%|██████████| 64/64 [00:01<00:00, 32.75it/s]\n",
      "  6%|▋         | 4/64 [00:00<00:01, 34.04it/s]"
     ]
    },
    {
     "name": "stdout",
     "output_type": "stream",
     "text": [
      "Time for epoch 53 is 1.90640 sec\n",
      "Discriminator loss: 1.5442\t Generator loss: 0.7352\n",
      "\n",
      "Discriminator accuracy: 0.5923837423324585\n",
      "\n"
     ]
    },
    {
     "name": "stderr",
     "output_type": "stream",
     "text": [
      "100%|██████████| 64/64 [00:01<00:00, 34.88it/s]\n",
      "  6%|▋         | 4/64 [00:00<00:01, 35.70it/s]"
     ]
    },
    {
     "name": "stdout",
     "output_type": "stream",
     "text": [
      "Time for epoch 54 is 1.86154 sec\n",
      "Discriminator loss: 1.1907\t Generator loss: 0.9520\n",
      "\n",
      "Discriminator accuracy: 0.5917552709579468\n",
      "\n"
     ]
    },
    {
     "name": "stderr",
     "output_type": "stream",
     "text": [
      "100%|██████████| 64/64 [00:01<00:00, 35.52it/s]\n",
      "  6%|▋         | 4/64 [00:00<00:01, 36.78it/s]"
     ]
    },
    {
     "name": "stdout",
     "output_type": "stream",
     "text": [
      "Time for epoch 55 is 1.82770 sec\n",
      "Discriminator loss: 1.3161\t Generator loss: 0.7387\n",
      "\n",
      "Discriminator accuracy: 0.5913751721382141\n",
      "\n"
     ]
    },
    {
     "name": "stderr",
     "output_type": "stream",
     "text": [
      "100%|██████████| 64/64 [00:01<00:00, 35.03it/s]\n",
      "  6%|▋         | 4/64 [00:00<00:01, 35.57it/s]"
     ]
    },
    {
     "name": "stdout",
     "output_type": "stream",
     "text": [
      "Time for epoch 56 is 1.79812 sec\n",
      "Discriminator loss: 1.2887\t Generator loss: 0.7876\n",
      "\n",
      "Discriminator accuracy: 0.5908281803131104\n",
      "\n"
     ]
    },
    {
     "name": "stderr",
     "output_type": "stream",
     "text": [
      "100%|██████████| 64/64 [00:01<00:00, 35.69it/s]\n",
      "  6%|▋         | 4/64 [00:00<00:01, 33.28it/s]"
     ]
    },
    {
     "name": "stdout",
     "output_type": "stream",
     "text": [
      "Time for epoch 57 is 1.80143 sec\n",
      "Discriminator loss: 1.3169\t Generator loss: 0.7901\n",
      "\n",
      "Discriminator accuracy: 0.5902429223060608\n",
      "\n"
     ]
    },
    {
     "name": "stderr",
     "output_type": "stream",
     "text": [
      "100%|██████████| 64/64 [00:01<00:00, 36.13it/s]\n",
      "  6%|▋         | 4/64 [00:00<00:01, 36.57it/s]"
     ]
    },
    {
     "name": "stdout",
     "output_type": "stream",
     "text": [
      "Time for epoch 58 is 1.80434 sec\n",
      "Discriminator loss: 1.2481\t Generator loss: 0.9239\n",
      "\n",
      "Discriminator accuracy: 0.5898193120956421\n",
      "\n"
     ]
    },
    {
     "name": "stderr",
     "output_type": "stream",
     "text": [
      "100%|██████████| 64/64 [00:01<00:00, 35.78it/s]\n",
      "  6%|▋         | 4/64 [00:00<00:01, 36.16it/s]"
     ]
    },
    {
     "name": "stdout",
     "output_type": "stream",
     "text": [
      "Time for epoch 59 is 1.80952 sec\n",
      "Discriminator loss: 1.3407\t Generator loss: 0.7376\n",
      "\n",
      "Discriminator accuracy: 0.589494526386261\n",
      "\n"
     ]
    },
    {
     "name": "stderr",
     "output_type": "stream",
     "text": [
      "100%|██████████| 64/64 [00:01<00:00, 34.75it/s]\n",
      "  6%|▋         | 4/64 [00:00<00:01, 35.47it/s]"
     ]
    },
    {
     "name": "stdout",
     "output_type": "stream",
     "text": [
      "Time for epoch 60 is 1.83769 sec\n",
      "Discriminator loss: 1.4599\t Generator loss: 0.8119\n",
      "\n",
      "Discriminator accuracy: 0.5889974236488342\n",
      "\n"
     ]
    },
    {
     "name": "stderr",
     "output_type": "stream",
     "text": [
      "100%|██████████| 64/64 [00:01<00:00, 34.46it/s]\n",
      "  6%|▋         | 4/64 [00:00<00:01, 36.00it/s]"
     ]
    },
    {
     "name": "stdout",
     "output_type": "stream",
     "text": [
      "Time for epoch 61 is 1.86136 sec\n",
      "Discriminator loss: 1.2757\t Generator loss: 0.7481\n",
      "\n",
      "Discriminator accuracy: 0.5887014865875244\n",
      "\n"
     ]
    },
    {
     "name": "stderr",
     "output_type": "stream",
     "text": [
      "100%|██████████| 64/64 [00:01<00:00, 35.01it/s]\n",
      "  6%|▋         | 4/64 [00:00<00:01, 33.75it/s]"
     ]
    },
    {
     "name": "stdout",
     "output_type": "stream",
     "text": [
      "Time for epoch 62 is 1.80097 sec\n",
      "Discriminator loss: 1.3994\t Generator loss: 0.7274\n",
      "\n",
      "Discriminator accuracy: 0.5883316397666931\n",
      "\n"
     ]
    },
    {
     "name": "stderr",
     "output_type": "stream",
     "text": [
      "100%|██████████| 64/64 [00:01<00:00, 36.19it/s]\n",
      "  6%|▋         | 4/64 [00:00<00:01, 34.06it/s]"
     ]
    },
    {
     "name": "stdout",
     "output_type": "stream",
     "text": [
      "Time for epoch 63 is 1.80232 sec\n",
      "Discriminator loss: 1.3593\t Generator loss: 0.8624\n",
      "\n",
      "Discriminator accuracy: 0.5879154205322266\n",
      "\n"
     ]
    },
    {
     "name": "stderr",
     "output_type": "stream",
     "text": [
      "100%|██████████| 64/64 [00:01<00:00, 35.98it/s]\n",
      "  6%|▋         | 4/64 [00:00<00:01, 36.25it/s]"
     ]
    },
    {
     "name": "stdout",
     "output_type": "stream",
     "text": [
      "Time for epoch 64 is 1.80471 sec\n",
      "Discriminator loss: 1.2118\t Generator loss: 0.8439\n",
      "\n",
      "Discriminator accuracy: 0.5874916315078735\n",
      "\n"
     ]
    },
    {
     "name": "stderr",
     "output_type": "stream",
     "text": [
      "100%|██████████| 64/64 [00:01<00:00, 35.62it/s]\n",
      "  6%|▋         | 4/64 [00:00<00:01, 36.65it/s]"
     ]
    },
    {
     "name": "stdout",
     "output_type": "stream",
     "text": [
      "Time for epoch 65 is 1.82733 sec\n",
      "Discriminator loss: 1.3129\t Generator loss: 0.7734\n",
      "\n",
      "Discriminator accuracy: 0.5872491002082825\n",
      "\n"
     ]
    },
    {
     "name": "stderr",
     "output_type": "stream",
     "text": [
      "100%|██████████| 64/64 [00:01<00:00, 35.23it/s]\n",
      "  6%|▋         | 4/64 [00:00<00:01, 36.52it/s]"
     ]
    },
    {
     "name": "stdout",
     "output_type": "stream",
     "text": [
      "Time for epoch 66 is 1.80760 sec\n",
      "Discriminator loss: 1.2168\t Generator loss: 0.9970\n",
      "\n",
      "Discriminator accuracy: 0.5870183706283569\n",
      "\n"
     ]
    },
    {
     "name": "stderr",
     "output_type": "stream",
     "text": [
      "100%|██████████| 64/64 [00:01<00:00, 34.76it/s]\n",
      "  6%|▋         | 4/64 [00:00<00:01, 34.57it/s]"
     ]
    },
    {
     "name": "stdout",
     "output_type": "stream",
     "text": [
      "Time for epoch 67 is 1.80236 sec\n",
      "Discriminator loss: 1.3852\t Generator loss: 0.9795\n",
      "\n",
      "Discriminator accuracy: 0.5867609977722168\n",
      "\n"
     ]
    },
    {
     "name": "stderr",
     "output_type": "stream",
     "text": [
      "100%|██████████| 64/64 [00:01<00:00, 36.00it/s]\n",
      "  6%|▋         | 4/64 [00:00<00:01, 33.29it/s]"
     ]
    },
    {
     "name": "stdout",
     "output_type": "stream",
     "text": [
      "Time for epoch 68 is 1.79959 sec\n",
      "Discriminator loss: 1.3015\t Generator loss: 0.8861\n",
      "\n",
      "Discriminator accuracy: 0.5865018963813782\n",
      "\n"
     ]
    },
    {
     "name": "stderr",
     "output_type": "stream",
     "text": [
      "100%|██████████| 64/64 [00:01<00:00, 35.94it/s]\n",
      "  6%|▋         | 4/64 [00:00<00:01, 36.37it/s]"
     ]
    },
    {
     "name": "stdout",
     "output_type": "stream",
     "text": [
      "Time for epoch 69 is 1.80826 sec\n",
      "Discriminator loss: 1.2760\t Generator loss: 0.7882\n",
      "\n",
      "Discriminator accuracy: 0.5862488746643066\n",
      "\n"
     ]
    },
    {
     "name": "stderr",
     "output_type": "stream",
     "text": [
      "100%|██████████| 64/64 [00:01<00:00, 35.85it/s]\n",
      "  6%|▋         | 4/64 [00:00<00:01, 36.33it/s]"
     ]
    },
    {
     "name": "stdout",
     "output_type": "stream",
     "text": [
      "Time for epoch 70 is 1.82180 sec\n",
      "Discriminator loss: 1.3379\t Generator loss: 0.8203\n",
      "\n",
      "Discriminator accuracy: 0.5860205292701721\n",
      "\n"
     ]
    },
    {
     "name": "stderr",
     "output_type": "stream",
     "text": [
      "100%|██████████| 64/64 [00:01<00:00, 35.54it/s]\n",
      "  6%|▋         | 4/64 [00:00<00:01, 35.46it/s]"
     ]
    },
    {
     "name": "stdout",
     "output_type": "stream",
     "text": [
      "Time for epoch 71 is 1.80740 sec\n",
      "Discriminator loss: 1.1531\t Generator loss: 0.8974\n",
      "\n",
      "Discriminator accuracy: 0.5859196186065674\n",
      "\n"
     ]
    },
    {
     "name": "stderr",
     "output_type": "stream",
     "text": [
      "100%|██████████| 64/64 [00:01<00:00, 34.71it/s]\n",
      "  6%|▋         | 4/64 [00:00<00:01, 35.73it/s]"
     ]
    },
    {
     "name": "stdout",
     "output_type": "stream",
     "text": [
      "Time for epoch 72 is 1.81509 sec\n",
      "Discriminator loss: 1.2987\t Generator loss: 0.8473\n",
      "\n",
      "Discriminator accuracy: 0.5857204794883728\n",
      "\n"
     ]
    },
    {
     "name": "stderr",
     "output_type": "stream",
     "text": [
      "100%|██████████| 64/64 [00:01<00:00, 30.94it/s]\n",
      "  5%|▍         | 3/64 [00:00<00:02, 28.38it/s]"
     ]
    },
    {
     "name": "stdout",
     "output_type": "stream",
     "text": [
      "Time for epoch 73 is 1.89024 sec\n",
      "Discriminator loss: 1.3883\t Generator loss: 0.7387\n",
      "\n",
      "Discriminator accuracy: 0.5855870246887207\n",
      "\n"
     ]
    },
    {
     "name": "stderr",
     "output_type": "stream",
     "text": [
      "100%|██████████| 64/64 [00:01<00:00, 32.15it/s]\n",
      "  6%|▋         | 4/64 [00:00<00:01, 33.03it/s]"
     ]
    },
    {
     "name": "stdout",
     "output_type": "stream",
     "text": [
      "Time for epoch 74 is 1.99193 sec\n",
      "Discriminator loss: 1.2521\t Generator loss: 0.7483\n",
      "\n",
      "Discriminator accuracy: 0.585422158241272\n",
      "\n"
     ]
    },
    {
     "name": "stderr",
     "output_type": "stream",
     "text": [
      "100%|██████████| 64/64 [00:01<00:00, 35.71it/s]\n",
      "  5%|▍         | 3/64 [00:00<00:02, 29.43it/s]"
     ]
    },
    {
     "name": "stdout",
     "output_type": "stream",
     "text": [
      "Time for epoch 75 is 1.83770 sec\n",
      "Discriminator loss: 1.2228\t Generator loss: 0.7887\n",
      "\n",
      "Discriminator accuracy: 0.5852734446525574\n",
      "\n"
     ]
    },
    {
     "name": "stderr",
     "output_type": "stream",
     "text": [
      "100%|██████████| 64/64 [00:01<00:00, 33.80it/s]\n",
      "  6%|▋         | 4/64 [00:00<00:01, 35.40it/s]"
     ]
    },
    {
     "name": "stdout",
     "output_type": "stream",
     "text": [
      "Time for epoch 76 is 1.89482 sec\n",
      "Discriminator loss: 1.2289\t Generator loss: 0.9024\n",
      "\n",
      "Discriminator accuracy: 0.5850393176078796\n",
      "\n"
     ]
    },
    {
     "name": "stderr",
     "output_type": "stream",
     "text": [
      "100%|██████████| 64/64 [00:01<00:00, 36.11it/s]\n",
      "  6%|▋         | 4/64 [00:00<00:01, 36.47it/s]"
     ]
    },
    {
     "name": "stdout",
     "output_type": "stream",
     "text": [
      "Time for epoch 77 is 1.80823 sec\n",
      "Discriminator loss: 1.1868\t Generator loss: 1.0983\n",
      "\n",
      "Discriminator accuracy: 0.5847744941711426\n",
      "\n"
     ]
    },
    {
     "name": "stderr",
     "output_type": "stream",
     "text": [
      "100%|██████████| 64/64 [00:01<00:00, 32.09it/s]\n",
      "  6%|▋         | 4/64 [00:00<00:01, 33.27it/s]"
     ]
    },
    {
     "name": "stdout",
     "output_type": "stream",
     "text": [
      "Time for epoch 78 is 1.98167 sec\n",
      "Discriminator loss: 1.1679\t Generator loss: 0.8540\n",
      "\n",
      "Discriminator accuracy: 0.5846104025840759\n",
      "\n"
     ]
    },
    {
     "name": "stderr",
     "output_type": "stream",
     "text": [
      "100%|██████████| 64/64 [00:01<00:00, 34.27it/s]\n",
      "  6%|▋         | 4/64 [00:00<00:01, 33.58it/s]"
     ]
    },
    {
     "name": "stdout",
     "output_type": "stream",
     "text": [
      "Time for epoch 79 is 1.88701 sec\n",
      "Discriminator loss: 1.2556\t Generator loss: 0.7966\n",
      "\n",
      "Discriminator accuracy: 0.5845468044281006\n",
      "\n"
     ]
    },
    {
     "name": "stderr",
     "output_type": "stream",
     "text": [
      "100%|██████████| 64/64 [00:01<00:00, 33.84it/s]\n",
      "  6%|▋         | 4/64 [00:00<00:01, 33.84it/s]"
     ]
    },
    {
     "name": "stdout",
     "output_type": "stream",
     "text": [
      "Time for epoch 80 is 1.89681 sec\n",
      "Discriminator loss: 1.1299\t Generator loss: 0.8692\n",
      "\n",
      "Discriminator accuracy: 0.5844506621360779\n",
      "\n"
     ]
    },
    {
     "name": "stderr",
     "output_type": "stream",
     "text": [
      "100%|██████████| 64/64 [00:01<00:00, 32.72it/s]\n",
      "  6%|▋         | 4/64 [00:00<00:01, 34.12it/s]"
     ]
    },
    {
     "name": "stdout",
     "output_type": "stream",
     "text": [
      "Time for epoch 81 is 1.88400 sec\n",
      "Discriminator loss: 1.3402\t Generator loss: 0.7576\n",
      "\n",
      "Discriminator accuracy: 0.5844226479530334\n",
      "\n"
     ]
    },
    {
     "name": "stderr",
     "output_type": "stream",
     "text": [
      "100%|██████████| 64/64 [00:01<00:00, 34.96it/s]\n",
      "  6%|▋         | 4/64 [00:00<00:01, 35.15it/s]"
     ]
    },
    {
     "name": "stdout",
     "output_type": "stream",
     "text": [
      "Time for epoch 82 is 1.82840 sec\n",
      "Discriminator loss: 1.2969\t Generator loss: 0.7886\n",
      "\n",
      "Discriminator accuracy: 0.5842458009719849\n",
      "\n"
     ]
    },
    {
     "name": "stderr",
     "output_type": "stream",
     "text": [
      "100%|██████████| 64/64 [00:01<00:00, 36.28it/s]\n",
      "  6%|▋         | 4/64 [00:00<00:01, 33.09it/s]"
     ]
    },
    {
     "name": "stdout",
     "output_type": "stream",
     "text": [
      "Time for epoch 83 is 1.78853 sec\n",
      "Discriminator loss: 1.2933\t Generator loss: 0.8113\n",
      "\n",
      "Discriminator accuracy: 0.5841520428657532\n",
      "\n"
     ]
    },
    {
     "name": "stderr",
     "output_type": "stream",
     "text": [
      "100%|██████████| 64/64 [00:01<00:00, 36.01it/s]\n",
      "  6%|▋         | 4/64 [00:00<00:01, 36.26it/s]"
     ]
    },
    {
     "name": "stdout",
     "output_type": "stream",
     "text": [
      "Time for epoch 84 is 1.80584 sec\n",
      "Discriminator loss: 1.1126\t Generator loss: 0.9942\n",
      "\n",
      "Discriminator accuracy: 0.5839861035346985\n",
      "\n"
     ]
    },
    {
     "name": "stderr",
     "output_type": "stream",
     "text": [
      "100%|██████████| 64/64 [00:01<00:00, 35.78it/s]\n",
      "  6%|▋         | 4/64 [00:00<00:01, 36.22it/s]"
     ]
    },
    {
     "name": "stdout",
     "output_type": "stream",
     "text": [
      "Time for epoch 85 is 1.82689 sec\n",
      "Discriminator loss: 1.2804\t Generator loss: 0.8785\n",
      "\n",
      "Discriminator accuracy: 0.5839866995811462\n",
      "\n"
     ]
    },
    {
     "name": "stderr",
     "output_type": "stream",
     "text": [
      "100%|██████████| 64/64 [00:01<00:00, 35.35it/s]\n",
      "  6%|▋         | 4/64 [00:00<00:01, 36.31it/s]"
     ]
    },
    {
     "name": "stdout",
     "output_type": "stream",
     "text": [
      "Time for epoch 86 is 1.81105 sec\n",
      "Discriminator loss: 1.1652\t Generator loss: 0.8872\n",
      "\n",
      "Discriminator accuracy: 0.5840354561805725\n",
      "\n"
     ]
    },
    {
     "name": "stderr",
     "output_type": "stream",
     "text": [
      "100%|██████████| 64/64 [00:01<00:00, 34.04it/s]\n",
      "  6%|▋         | 4/64 [00:00<00:01, 35.60it/s]"
     ]
    },
    {
     "name": "stdout",
     "output_type": "stream",
     "text": [
      "Time for epoch 87 is 1.81860 sec\n",
      "Discriminator loss: 1.2942\t Generator loss: 0.8594\n",
      "\n",
      "Discriminator accuracy: 0.5840449929237366\n",
      "\n"
     ]
    },
    {
     "name": "stderr",
     "output_type": "stream",
     "text": [
      "100%|██████████| 64/64 [00:01<00:00, 35.98it/s]\n",
      "  6%|▋         | 4/64 [00:00<00:01, 33.85it/s]"
     ]
    },
    {
     "name": "stdout",
     "output_type": "stream",
     "text": [
      "Time for epoch 88 is 1.78901 sec\n",
      "Discriminator loss: 1.2007\t Generator loss: 0.9225\n",
      "\n",
      "Discriminator accuracy: 0.584063708782196\n",
      "\n"
     ]
    },
    {
     "name": "stderr",
     "output_type": "stream",
     "text": [
      "100%|██████████| 64/64 [00:01<00:00, 36.08it/s]\n",
      "  6%|▋         | 4/64 [00:00<00:01, 36.37it/s]"
     ]
    },
    {
     "name": "stdout",
     "output_type": "stream",
     "text": [
      "Time for epoch 89 is 1.80290 sec\n",
      "Discriminator loss: 1.3908\t Generator loss: 0.8062\n",
      "\n",
      "Discriminator accuracy: 0.5840381383895874\n",
      "\n"
     ]
    },
    {
     "name": "stderr",
     "output_type": "stream",
     "text": [
      "100%|██████████| 64/64 [00:01<00:00, 35.62it/s]\n",
      "  6%|▋         | 4/64 [00:00<00:01, 37.10it/s]"
     ]
    },
    {
     "name": "stdout",
     "output_type": "stream",
     "text": [
      "Time for epoch 90 is 1.83870 sec\n",
      "Discriminator loss: 1.3728\t Generator loss: 0.8117\n",
      "\n",
      "Discriminator accuracy: 0.5840027928352356\n",
      "\n"
     ]
    },
    {
     "name": "stderr",
     "output_type": "stream",
     "text": [
      "100%|██████████| 64/64 [00:01<00:00, 35.57it/s]\n",
      "  6%|▋         | 4/64 [00:00<00:01, 36.07it/s]"
     ]
    },
    {
     "name": "stdout",
     "output_type": "stream",
     "text": [
      "Time for epoch 91 is 1.81140 sec\n",
      "Discriminator loss: 1.2862\t Generator loss: 0.7737\n",
      "\n",
      "Discriminator accuracy: 0.5840396285057068\n",
      "\n"
     ]
    },
    {
     "name": "stderr",
     "output_type": "stream",
     "text": [
      "100%|██████████| 64/64 [00:01<00:00, 34.88it/s]\n",
      "  6%|▋         | 4/64 [00:00<00:01, 35.87it/s]"
     ]
    },
    {
     "name": "stdout",
     "output_type": "stream",
     "text": [
      "Time for epoch 92 is 1.81050 sec\n",
      "Discriminator loss: 1.2746\t Generator loss: 0.8825\n",
      "\n",
      "Discriminator accuracy: 0.5841367244720459\n",
      "\n"
     ]
    },
    {
     "name": "stderr",
     "output_type": "stream",
     "text": [
      "100%|██████████| 64/64 [00:01<00:00, 34.13it/s]\n",
      "  6%|▋         | 4/64 [00:00<00:01, 32.89it/s]"
     ]
    },
    {
     "name": "stdout",
     "output_type": "stream",
     "text": [
      "Time for epoch 93 is 1.81622 sec\n",
      "Discriminator loss: 1.1981\t Generator loss: 0.8248\n",
      "\n",
      "Discriminator accuracy: 0.5842374563217163\n",
      "\n"
     ]
    },
    {
     "name": "stderr",
     "output_type": "stream",
     "text": [
      "100%|██████████| 64/64 [00:01<00:00, 35.12it/s]\n",
      "  6%|▋         | 4/64 [00:00<00:01, 33.64it/s]"
     ]
    },
    {
     "name": "stdout",
     "output_type": "stream",
     "text": [
      "Time for epoch 94 is 1.81724 sec\n",
      "Discriminator loss: 1.2755\t Generator loss: 0.8444\n",
      "\n",
      "Discriminator accuracy: 0.5843245983123779\n",
      "\n"
     ]
    },
    {
     "name": "stderr",
     "output_type": "stream",
     "text": [
      "100%|██████████| 64/64 [00:01<00:00, 35.80it/s]\n",
      "  6%|▋         | 4/64 [00:00<00:01, 34.71it/s]"
     ]
    },
    {
     "name": "stdout",
     "output_type": "stream",
     "text": [
      "Time for epoch 95 is 1.84529 sec\n",
      "Discriminator loss: 1.3103\t Generator loss: 0.7690\n",
      "\n",
      "Discriminator accuracy: 0.5843472480773926\n",
      "\n"
     ]
    },
    {
     "name": "stderr",
     "output_type": "stream",
     "text": [
      "100%|██████████| 64/64 [00:01<00:00, 33.28it/s]\n",
      "  6%|▋         | 4/64 [00:00<00:01, 36.12it/s]"
     ]
    },
    {
     "name": "stdout",
     "output_type": "stream",
     "text": [
      "Time for epoch 96 is 1.95377 sec\n",
      "Discriminator loss: 1.1935\t Generator loss: 0.9336\n",
      "\n",
      "Discriminator accuracy: 0.584411084651947\n",
      "\n"
     ]
    },
    {
     "name": "stderr",
     "output_type": "stream",
     "text": [
      "100%|██████████| 64/64 [00:01<00:00, 32.94it/s]\n",
      "  6%|▋         | 4/64 [00:00<00:01, 33.63it/s]"
     ]
    },
    {
     "name": "stdout",
     "output_type": "stream",
     "text": [
      "Time for epoch 97 is 1.85302 sec\n",
      "Discriminator loss: 1.1468\t Generator loss: 1.0753\n",
      "\n",
      "Discriminator accuracy: 0.5844922661781311\n",
      "\n"
     ]
    },
    {
     "name": "stderr",
     "output_type": "stream",
     "text": [
      "100%|██████████| 64/64 [00:01<00:00, 32.23it/s]\n",
      "  6%|▋         | 4/64 [00:00<00:01, 31.06it/s]"
     ]
    },
    {
     "name": "stdout",
     "output_type": "stream",
     "text": [
      "Time for epoch 98 is 1.96651 sec\n",
      "Discriminator loss: 1.2582\t Generator loss: 0.8949\n",
      "\n",
      "Discriminator accuracy: 0.5845469236373901\n",
      "\n"
     ]
    },
    {
     "name": "stderr",
     "output_type": "stream",
     "text": [
      "100%|██████████| 64/64 [00:01<00:00, 33.08it/s]\n",
      "  6%|▋         | 4/64 [00:00<00:01, 35.12it/s]"
     ]
    },
    {
     "name": "stdout",
     "output_type": "stream",
     "text": [
      "Time for epoch 99 is 1.93577 sec\n",
      "Discriminator loss: 1.4164\t Generator loss: 0.7361\n",
      "\n",
      "Discriminator accuracy: 0.5846457481384277\n",
      "\n"
     ]
    },
    {
     "name": "stderr",
     "output_type": "stream",
     "text": [
      "100%|██████████| 64/64 [00:01<00:00, 32.53it/s]\n",
      "  6%|▋         | 4/64 [00:00<00:01, 36.18it/s]"
     ]
    },
    {
     "name": "stdout",
     "output_type": "stream",
     "text": [
      "Time for epoch 100 is 1.95176 sec\n",
      "Discriminator loss: 1.1533\t Generator loss: 0.9947\n",
      "\n",
      "Discriminator accuracy: 0.5846806764602661\n",
      "\n"
     ]
    },
    {
     "name": "stderr",
     "output_type": "stream",
     "text": [
      "100%|██████████| 64/64 [00:01<00:00, 33.59it/s]\n",
      "  6%|▋         | 4/64 [00:00<00:01, 34.98it/s]"
     ]
    },
    {
     "name": "stdout",
     "output_type": "stream",
     "text": [
      "Time for epoch 101 is 1.88620 sec\n",
      "Discriminator loss: 1.3135\t Generator loss: 0.8806\n",
      "\n",
      "Discriminator accuracy: 0.584741473197937\n",
      "\n"
     ]
    },
    {
     "name": "stderr",
     "output_type": "stream",
     "text": [
      "100%|██████████| 64/64 [00:01<00:00, 34.54it/s]\n",
      "  6%|▋         | 4/64 [00:00<00:01, 32.07it/s]"
     ]
    },
    {
     "name": "stdout",
     "output_type": "stream",
     "text": [
      "Time for epoch 102 is 1.84235 sec\n",
      "Discriminator loss: 1.2570\t Generator loss: 1.1673\n",
      "\n",
      "Discriminator accuracy: 0.5848541855812073\n",
      "\n"
     ]
    },
    {
     "name": "stderr",
     "output_type": "stream",
     "text": [
      "100%|██████████| 64/64 [00:01<00:00, 34.49it/s]\n",
      "  6%|▋         | 4/64 [00:00<00:01, 33.22it/s]"
     ]
    },
    {
     "name": "stdout",
     "output_type": "stream",
     "text": [
      "Time for epoch 103 is 1.85745 sec\n",
      "Discriminator loss: 1.2570\t Generator loss: 0.8680\n",
      "\n",
      "Discriminator accuracy: 0.5849376916885376\n",
      "\n"
     ]
    },
    {
     "name": "stderr",
     "output_type": "stream",
     "text": [
      "100%|██████████| 64/64 [00:01<00:00, 35.81it/s]\n",
      "  6%|▋         | 4/64 [00:00<00:01, 35.70it/s]"
     ]
    },
    {
     "name": "stdout",
     "output_type": "stream",
     "text": [
      "Time for epoch 104 is 1.82300 sec\n",
      "Discriminator loss: 1.3547\t Generator loss: 0.7483\n",
      "\n",
      "Discriminator accuracy: 0.5849895477294922\n",
      "\n"
     ]
    },
    {
     "name": "stderr",
     "output_type": "stream",
     "text": [
      "100%|██████████| 64/64 [00:01<00:00, 35.40it/s]\n",
      "  6%|▋         | 4/64 [00:00<00:01, 36.34it/s]"
     ]
    },
    {
     "name": "stdout",
     "output_type": "stream",
     "text": [
      "Time for epoch 105 is 1.84946 sec\n",
      "Discriminator loss: 1.2652\t Generator loss: 0.8222\n",
      "\n",
      "Discriminator accuracy: 0.5850269794464111\n",
      "\n"
     ]
    },
    {
     "name": "stderr",
     "output_type": "stream",
     "text": [
      "100%|██████████| 64/64 [00:01<00:00, 34.52it/s]\n",
      "  6%|▋         | 4/64 [00:00<00:01, 35.20it/s]"
     ]
    },
    {
     "name": "stdout",
     "output_type": "stream",
     "text": [
      "Time for epoch 106 is 1.83741 sec\n",
      "Discriminator loss: 1.2314\t Generator loss: 0.8451\n",
      "\n",
      "Discriminator accuracy: 0.5850857496261597\n",
      "\n"
     ]
    },
    {
     "name": "stderr",
     "output_type": "stream",
     "text": [
      "100%|██████████| 64/64 [00:01<00:00, 34.35it/s]\n",
      "  6%|▋         | 4/64 [00:00<00:01, 34.42it/s]"
     ]
    },
    {
     "name": "stdout",
     "output_type": "stream",
     "text": [
      "Time for epoch 107 is 1.82314 sec\n",
      "Discriminator loss: 1.2987\t Generator loss: 0.7600\n",
      "\n",
      "Discriminator accuracy: 0.585213303565979\n",
      "\n"
     ]
    },
    {
     "name": "stderr",
     "output_type": "stream",
     "text": [
      "100%|██████████| 64/64 [00:01<00:00, 34.63it/s]\n",
      "  6%|▋         | 4/64 [00:00<00:01, 34.53it/s]"
     ]
    },
    {
     "name": "stdout",
     "output_type": "stream",
     "text": [
      "Time for epoch 108 is 1.83791 sec\n",
      "Discriminator loss: 1.1877\t Generator loss: 0.8762\n",
      "\n",
      "Discriminator accuracy: 0.5853126645088196\n",
      "\n"
     ]
    },
    {
     "name": "stderr",
     "output_type": "stream",
     "text": [
      "100%|██████████| 64/64 [00:01<00:00, 35.62it/s]\n",
      "  6%|▋         | 4/64 [00:00<00:01, 32.07it/s]"
     ]
    },
    {
     "name": "stdout",
     "output_type": "stream",
     "text": [
      "Time for epoch 109 is 1.81250 sec\n",
      "Discriminator loss: 1.3370\t Generator loss: 0.8682\n",
      "\n",
      "Discriminator accuracy: 0.5854985117912292\n",
      "\n"
     ]
    },
    {
     "name": "stderr",
     "output_type": "stream",
     "text": [
      "100%|██████████| 64/64 [00:01<00:00, 35.94it/s]\n",
      "  6%|▋         | 4/64 [00:00<00:01, 35.38it/s]"
     ]
    },
    {
     "name": "stdout",
     "output_type": "stream",
     "text": [
      "Time for epoch 110 is 1.84380 sec\n",
      "Discriminator loss: 1.1646\t Generator loss: 0.8468\n",
      "\n",
      "Discriminator accuracy: 0.5855863690376282\n",
      "\n"
     ]
    },
    {
     "name": "stderr",
     "output_type": "stream",
     "text": [
      "100%|██████████| 64/64 [00:01<00:00, 34.87it/s]\n",
      "  6%|▋         | 4/64 [00:00<00:01, 34.96it/s]"
     ]
    },
    {
     "name": "stdout",
     "output_type": "stream",
     "text": [
      "Time for epoch 111 is 1.83521 sec\n",
      "Discriminator loss: 1.2076\t Generator loss: 0.8642\n",
      "\n",
      "Discriminator accuracy: 0.5856519937515259\n",
      "\n"
     ]
    },
    {
     "name": "stderr",
     "output_type": "stream",
     "text": [
      "100%|██████████| 64/64 [00:01<00:00, 35.14it/s]\n",
      "  6%|▋         | 4/64 [00:00<00:01, 36.02it/s]"
     ]
    },
    {
     "name": "stdout",
     "output_type": "stream",
     "text": [
      "Time for epoch 112 is 1.86790 sec\n",
      "Discriminator loss: 1.3150\t Generator loss: 0.8094\n",
      "\n",
      "Discriminator accuracy: 0.585803210735321\n",
      "\n"
     ]
    },
    {
     "name": "stderr",
     "output_type": "stream",
     "text": [
      "100%|██████████| 64/64 [00:01<00:00, 34.65it/s]\n",
      "  6%|▋         | 4/64 [00:00<00:01, 35.82it/s]"
     ]
    },
    {
     "name": "stdout",
     "output_type": "stream",
     "text": [
      "Time for epoch 113 is 1.83528 sec\n",
      "Discriminator loss: 1.2446\t Generator loss: 0.8442\n",
      "\n",
      "Discriminator accuracy: 0.5859504342079163\n",
      "\n"
     ]
    },
    {
     "name": "stderr",
     "output_type": "stream",
     "text": [
      "100%|██████████| 64/64 [00:01<00:00, 34.06it/s]\n",
      "  6%|▋         | 4/64 [00:00<00:01, 34.68it/s]"
     ]
    },
    {
     "name": "stdout",
     "output_type": "stream",
     "text": [
      "Time for epoch 114 is 1.85088 sec\n",
      "Discriminator loss: 1.2783\t Generator loss: 0.8944\n",
      "\n",
      "Discriminator accuracy: 0.5860719680786133\n",
      "\n"
     ]
    },
    {
     "name": "stderr",
     "output_type": "stream",
     "text": [
      "100%|██████████| 64/64 [00:01<00:00, 35.15it/s]\n",
      "  6%|▋         | 4/64 [00:00<00:01, 32.66it/s]"
     ]
    },
    {
     "name": "stdout",
     "output_type": "stream",
     "text": [
      "Time for epoch 115 is 1.85165 sec\n",
      "Discriminator loss: 1.1987\t Generator loss: 0.9193\n",
      "\n",
      "Discriminator accuracy: 0.5862419605255127\n",
      "\n"
     ]
    },
    {
     "name": "stderr",
     "output_type": "stream",
     "text": [
      "100%|██████████| 64/64 [00:01<00:00, 35.94it/s]\n",
      "  6%|▋         | 4/64 [00:00<00:01, 34.12it/s]"
     ]
    },
    {
     "name": "stdout",
     "output_type": "stream",
     "text": [
      "Time for epoch 116 is 1.82590 sec\n",
      "Discriminator loss: 1.1806\t Generator loss: 0.9408\n",
      "\n",
      "Discriminator accuracy: 0.5864295959472656\n",
      "\n"
     ]
    },
    {
     "name": "stderr",
     "output_type": "stream",
     "text": [
      "100%|██████████| 64/64 [00:01<00:00, 35.24it/s]\n",
      "  6%|▋         | 4/64 [00:00<00:01, 35.13it/s]"
     ]
    },
    {
     "name": "stdout",
     "output_type": "stream",
     "text": [
      "Time for epoch 117 is 1.83146 sec\n",
      "Discriminator loss: 1.1706\t Generator loss: 0.9816\n",
      "\n",
      "Discriminator accuracy: 0.5865342617034912\n",
      "\n"
     ]
    },
    {
     "name": "stderr",
     "output_type": "stream",
     "text": [
      "100%|██████████| 64/64 [00:01<00:00, 35.33it/s]\n",
      "  6%|▋         | 4/64 [00:00<00:01, 35.48it/s]"
     ]
    },
    {
     "name": "stdout",
     "output_type": "stream",
     "text": [
      "Time for epoch 118 is 1.84304 sec\n",
      "Discriminator loss: 1.0965\t Generator loss: 1.0688\n",
      "\n",
      "Discriminator accuracy: 0.5866628885269165\n",
      "\n"
     ]
    },
    {
     "name": "stderr",
     "output_type": "stream",
     "text": [
      "100%|██████████| 64/64 [00:01<00:00, 34.19it/s]\n",
      "  6%|▋         | 4/64 [00:00<00:01, 34.05it/s]"
     ]
    },
    {
     "name": "stdout",
     "output_type": "stream",
     "text": [
      "Time for epoch 119 is 1.85702 sec\n",
      "Discriminator loss: 1.2964\t Generator loss: 0.8535\n",
      "\n",
      "Discriminator accuracy: 0.5867790579795837\n",
      "\n"
     ]
    },
    {
     "name": "stderr",
     "output_type": "stream",
     "text": [
      "100%|██████████| 64/64 [00:01<00:00, 34.36it/s]\n",
      "  6%|▋         | 4/64 [00:00<00:01, 32.92it/s]"
     ]
    },
    {
     "name": "stdout",
     "output_type": "stream",
     "text": [
      "Time for epoch 120 is 1.89655 sec\n",
      "Discriminator loss: 1.0149\t Generator loss: 1.1301\n",
      "\n",
      "Discriminator accuracy: 0.5869242548942566\n",
      "\n"
     ]
    },
    {
     "name": "stderr",
     "output_type": "stream",
     "text": [
      "100%|██████████| 64/64 [00:01<00:00, 33.66it/s]\n",
      "  6%|▋         | 4/64 [00:00<00:01, 35.99it/s]"
     ]
    },
    {
     "name": "stdout",
     "output_type": "stream",
     "text": [
      "Time for epoch 121 is 1.87757 sec\n",
      "Discriminator loss: 1.3203\t Generator loss: 0.9092\n",
      "\n",
      "Discriminator accuracy: 0.587032675743103\n",
      "\n"
     ]
    },
    {
     "name": "stderr",
     "output_type": "stream",
     "text": [
      "100%|██████████| 64/64 [00:02<00:00, 31.59it/s]\n",
      "  6%|▋         | 4/64 [00:00<00:01, 31.78it/s]"
     ]
    },
    {
     "name": "stdout",
     "output_type": "stream",
     "text": [
      "Time for epoch 122 is 2.02738 sec\n",
      "Discriminator loss: 1.2444\t Generator loss: 0.9235\n",
      "\n",
      "Discriminator accuracy: 0.5872066020965576\n",
      "\n"
     ]
    },
    {
     "name": "stderr",
     "output_type": "stream",
     "text": [
      "100%|██████████| 64/64 [00:01<00:00, 32.82it/s]\n",
      "  6%|▋         | 4/64 [00:00<00:01, 33.67it/s]"
     ]
    },
    {
     "name": "stdout",
     "output_type": "stream",
     "text": [
      "Time for epoch 123 is 1.95121 sec\n",
      "Discriminator loss: 1.1702\t Generator loss: 0.9157\n",
      "\n",
      "Discriminator accuracy: 0.5873705744743347\n",
      "\n"
     ]
    },
    {
     "name": "stderr",
     "output_type": "stream",
     "text": [
      "100%|██████████| 64/64 [00:01<00:00, 34.68it/s]\n",
      "  6%|▋         | 4/64 [00:00<00:01, 31.29it/s]"
     ]
    },
    {
     "name": "stdout",
     "output_type": "stream",
     "text": [
      "Time for epoch 124 is 1.87330 sec\n",
      "Discriminator loss: 1.1832\t Generator loss: 0.9296\n",
      "\n",
      "Discriminator accuracy: 0.5875440835952759\n",
      "\n"
     ]
    },
    {
     "name": "stderr",
     "output_type": "stream",
     "text": [
      "100%|██████████| 64/64 [00:01<00:00, 35.81it/s]\n",
      "  6%|▋         | 4/64 [00:00<00:01, 33.93it/s]"
     ]
    },
    {
     "name": "stdout",
     "output_type": "stream",
     "text": [
      "Time for epoch 125 is 1.86954 sec\n",
      "Discriminator loss: 1.2059\t Generator loss: 0.7554\n",
      "\n",
      "Discriminator accuracy: 0.5876847505569458\n",
      "\n"
     ]
    },
    {
     "name": "stderr",
     "output_type": "stream",
     "text": [
      "100%|██████████| 64/64 [00:01<00:00, 34.11it/s]\n",
      "  6%|▋         | 4/64 [00:00<00:01, 32.48it/s]"
     ]
    },
    {
     "name": "stdout",
     "output_type": "stream",
     "text": [
      "Time for epoch 126 is 1.89959 sec\n",
      "Discriminator loss: 1.2001\t Generator loss: 1.3001\n",
      "\n",
      "Discriminator accuracy: 0.5878247618675232\n",
      "\n"
     ]
    },
    {
     "name": "stderr",
     "output_type": "stream",
     "text": [
      "100%|██████████| 64/64 [00:01<00:00, 32.55it/s]\n",
      "  6%|▋         | 4/64 [00:00<00:01, 33.83it/s]"
     ]
    },
    {
     "name": "stdout",
     "output_type": "stream",
     "text": [
      "Time for epoch 127 is 1.96718 sec\n",
      "Discriminator loss: 1.2497\t Generator loss: 0.9501\n",
      "\n",
      "Discriminator accuracy: 0.5879490375518799\n",
      "\n"
     ]
    },
    {
     "name": "stderr",
     "output_type": "stream",
     "text": [
      "100%|██████████| 64/64 [00:01<00:00, 34.56it/s]\n",
      "  6%|▋         | 4/64 [00:00<00:01, 36.05it/s]"
     ]
    },
    {
     "name": "stdout",
     "output_type": "stream",
     "text": [
      "Time for epoch 128 is 1.86557 sec\n",
      "Discriminator loss: 1.1964\t Generator loss: 1.0926\n",
      "\n",
      "Discriminator accuracy: 0.5880454778671265\n",
      "\n"
     ]
    },
    {
     "name": "stderr",
     "output_type": "stream",
     "text": [
      "100%|██████████| 64/64 [00:01<00:00, 34.49it/s]\n",
      "  6%|▋         | 4/64 [00:00<00:01, 35.03it/s]"
     ]
    },
    {
     "name": "stdout",
     "output_type": "stream",
     "text": [
      "Time for epoch 129 is 1.86045 sec\n",
      "Discriminator loss: 1.2538\t Generator loss: 1.0059\n",
      "\n",
      "Discriminator accuracy: 0.5882286429405212\n",
      "\n"
     ]
    },
    {
     "name": "stderr",
     "output_type": "stream",
     "text": [
      "100%|██████████| 64/64 [00:01<00:00, 32.89it/s]\n",
      "  6%|▋         | 4/64 [00:00<00:01, 37.21it/s]"
     ]
    },
    {
     "name": "stdout",
     "output_type": "stream",
     "text": [
      "Time for epoch 130 is 1.92258 sec\n",
      "Discriminator loss: 1.3880\t Generator loss: 0.8649\n",
      "\n",
      "Discriminator accuracy: 0.5883315801620483\n",
      "\n"
     ]
    },
    {
     "name": "stderr",
     "output_type": "stream",
     "text": [
      "100%|██████████| 64/64 [00:01<00:00, 34.21it/s]\n",
      "  6%|▋         | 4/64 [00:00<00:01, 35.34it/s]"
     ]
    },
    {
     "name": "stdout",
     "output_type": "stream",
     "text": [
      "Time for epoch 131 is 1.86760 sec\n",
      "Discriminator loss: 1.1917\t Generator loss: 1.0448\n",
      "\n",
      "Discriminator accuracy: 0.5883952975273132\n",
      "\n"
     ]
    },
    {
     "name": "stderr",
     "output_type": "stream",
     "text": [
      "100%|██████████| 64/64 [00:01<00:00, 32.61it/s]\n",
      "  6%|▋         | 4/64 [00:00<00:01, 32.94it/s]"
     ]
    },
    {
     "name": "stdout",
     "output_type": "stream",
     "text": [
      "Time for epoch 132 is 1.94496 sec\n",
      "Discriminator loss: 0.9757\t Generator loss: 1.1459\n",
      "\n",
      "Discriminator accuracy: 0.5885490775108337\n",
      "\n"
     ]
    },
    {
     "name": "stderr",
     "output_type": "stream",
     "text": [
      "100%|██████████| 64/64 [00:01<00:00, 33.13it/s]\n",
      "  6%|▋         | 4/64 [00:00<00:01, 36.45it/s]"
     ]
    },
    {
     "name": "stdout",
     "output_type": "stream",
     "text": [
      "Time for epoch 133 is 1.93327 sec\n",
      "Discriminator loss: 1.1930\t Generator loss: 1.0376\n",
      "\n",
      "Discriminator accuracy: 0.5887291431427002\n",
      "\n"
     ]
    },
    {
     "name": "stderr",
     "output_type": "stream",
     "text": [
      "100%|██████████| 64/64 [00:01<00:00, 33.87it/s]\n",
      "  6%|▋         | 4/64 [00:00<00:01, 33.36it/s]"
     ]
    },
    {
     "name": "stdout",
     "output_type": "stream",
     "text": [
      "Time for epoch 134 is 1.88455 sec\n",
      "Discriminator loss: 1.4022\t Generator loss: 0.9924\n",
      "\n",
      "Discriminator accuracy: 0.5888956189155579\n",
      "\n"
     ]
    },
    {
     "name": "stderr",
     "output_type": "stream",
     "text": [
      "100%|██████████| 64/64 [00:01<00:00, 33.74it/s]\n",
      "  6%|▋         | 4/64 [00:00<00:01, 30.34it/s]"
     ]
    },
    {
     "name": "stdout",
     "output_type": "stream",
     "text": [
      "Time for epoch 135 is 1.90014 sec\n",
      "Discriminator loss: 1.4619\t Generator loss: 0.8364\n",
      "\n",
      "Discriminator accuracy: 0.5890509486198425\n",
      "\n"
     ]
    },
    {
     "name": "stderr",
     "output_type": "stream",
     "text": [
      "100%|██████████| 64/64 [00:01<00:00, 34.25it/s]\n",
      "  6%|▋         | 4/64 [00:00<00:01, 34.99it/s]"
     ]
    },
    {
     "name": "stdout",
     "output_type": "stream",
     "text": [
      "Time for epoch 136 is 1.86999 sec\n",
      "Discriminator loss: 1.1371\t Generator loss: 1.0312\n",
      "\n",
      "Discriminator accuracy: 0.5892168879508972\n",
      "\n"
     ]
    },
    {
     "name": "stderr",
     "output_type": "stream",
     "text": [
      "100%|██████████| 64/64 [00:01<00:00, 33.97it/s]\n",
      "  6%|▋         | 4/64 [00:00<00:01, 35.81it/s]"
     ]
    },
    {
     "name": "stdout",
     "output_type": "stream",
     "text": [
      "Time for epoch 137 is 1.88542 sec\n",
      "Discriminator loss: 1.0813\t Generator loss: 1.2275\n",
      "\n",
      "Discriminator accuracy: 0.5893882513046265\n",
      "\n"
     ]
    },
    {
     "name": "stderr",
     "output_type": "stream",
     "text": [
      "100%|██████████| 64/64 [00:01<00:00, 33.82it/s]\n",
      "  6%|▋         | 4/64 [00:00<00:01, 33.82it/s]"
     ]
    },
    {
     "name": "stdout",
     "output_type": "stream",
     "text": [
      "Time for epoch 138 is 1.87289 sec\n",
      "Discriminator loss: 1.0609\t Generator loss: 1.1567\n",
      "\n",
      "Discriminator accuracy: 0.5895118713378906\n",
      "\n"
     ]
    },
    {
     "name": "stderr",
     "output_type": "stream",
     "text": [
      "100%|██████████| 64/64 [00:01<00:00, 34.93it/s]\n",
      "  6%|▋         | 4/64 [00:00<00:01, 35.20it/s]"
     ]
    },
    {
     "name": "stdout",
     "output_type": "stream",
     "text": [
      "Time for epoch 139 is 1.88947 sec\n",
      "Discriminator loss: 1.1478\t Generator loss: 1.3353\n",
      "\n",
      "Discriminator accuracy: 0.5896642208099365\n",
      "\n"
     ]
    },
    {
     "name": "stderr",
     "output_type": "stream",
     "text": [
      "100%|██████████| 64/64 [00:01<00:00, 34.71it/s]\n",
      "  6%|▋         | 4/64 [00:00<00:01, 32.68it/s]"
     ]
    },
    {
     "name": "stdout",
     "output_type": "stream",
     "text": [
      "Time for epoch 140 is 1.86598 sec\n",
      "Discriminator loss: 1.1913\t Generator loss: 0.9518\n",
      "\n",
      "Discriminator accuracy: 0.589881420135498\n",
      "\n"
     ]
    },
    {
     "name": "stderr",
     "output_type": "stream",
     "text": [
      "100%|██████████| 64/64 [00:01<00:00, 33.95it/s]\n",
      "  6%|▋         | 4/64 [00:00<00:01, 35.00it/s]"
     ]
    },
    {
     "name": "stdout",
     "output_type": "stream",
     "text": [
      "Time for epoch 141 is 1.88107 sec\n",
      "Discriminator loss: 1.1126\t Generator loss: 0.8108\n",
      "\n",
      "Discriminator accuracy: 0.5900903344154358\n",
      "\n"
     ]
    },
    {
     "name": "stderr",
     "output_type": "stream",
     "text": [
      "100%|██████████| 64/64 [00:01<00:00, 34.36it/s]\n",
      "  6%|▋         | 4/64 [00:00<00:01, 32.35it/s]"
     ]
    },
    {
     "name": "stdout",
     "output_type": "stream",
     "text": [
      "Time for epoch 142 is 1.85513 sec\n",
      "Discriminator loss: 1.1739\t Generator loss: 0.9007\n",
      "\n",
      "Discriminator accuracy: 0.5902776718139648\n",
      "\n"
     ]
    },
    {
     "name": "stderr",
     "output_type": "stream",
     "text": [
      "100%|██████████| 64/64 [00:01<00:00, 35.57it/s]\n",
      "  6%|▋         | 4/64 [00:00<00:01, 33.23it/s]"
     ]
    },
    {
     "name": "stdout",
     "output_type": "stream",
     "text": [
      "Time for epoch 143 is 1.82866 sec\n",
      "Discriminator loss: 1.0563\t Generator loss: 0.9185\n",
      "\n",
      "Discriminator accuracy: 0.5904498100280762\n",
      "\n"
     ]
    },
    {
     "name": "stderr",
     "output_type": "stream",
     "text": [
      "100%|██████████| 64/64 [00:01<00:00, 33.91it/s]\n",
      "  6%|▋         | 4/64 [00:00<00:01, 32.92it/s]"
     ]
    },
    {
     "name": "stdout",
     "output_type": "stream",
     "text": [
      "Time for epoch 144 is 1.86932 sec\n",
      "Discriminator loss: 1.1600\t Generator loss: 1.1152\n",
      "\n",
      "Discriminator accuracy: 0.5906215906143188\n",
      "\n"
     ]
    },
    {
     "name": "stderr",
     "output_type": "stream",
     "text": [
      "100%|██████████| 64/64 [00:01<00:00, 35.04it/s]\n",
      "  6%|▋         | 4/64 [00:00<00:01, 35.00it/s]"
     ]
    },
    {
     "name": "stdout",
     "output_type": "stream",
     "text": [
      "Time for epoch 145 is 1.90168 sec\n",
      "Discriminator loss: 1.1284\t Generator loss: 1.3019\n",
      "\n",
      "Discriminator accuracy: 0.5907846093177795\n",
      "\n"
     ]
    },
    {
     "name": "stderr",
     "output_type": "stream",
     "text": [
      "100%|██████████| 64/64 [00:01<00:00, 34.75it/s]\n",
      "  6%|▋         | 4/64 [00:00<00:01, 35.42it/s]"
     ]
    },
    {
     "name": "stdout",
     "output_type": "stream",
     "text": [
      "Time for epoch 146 is 1.88215 sec\n",
      "Discriminator loss: 1.5101\t Generator loss: 0.7094\n",
      "\n",
      "Discriminator accuracy: 0.5910005569458008\n",
      "\n"
     ]
    },
    {
     "name": "stderr",
     "output_type": "stream",
     "text": [
      "100%|██████████| 64/64 [00:01<00:00, 34.89it/s]\n",
      "  6%|▋         | 4/64 [00:00<00:01, 35.87it/s]"
     ]
    },
    {
     "name": "stdout",
     "output_type": "stream",
     "text": [
      "Time for epoch 147 is 1.84758 sec\n",
      "Discriminator loss: 1.3032\t Generator loss: 0.8406\n",
      "\n",
      "Discriminator accuracy: 0.5911548137664795\n",
      "\n"
     ]
    },
    {
     "name": "stderr",
     "output_type": "stream",
     "text": [
      "100%|██████████| 64/64 [00:01<00:00, 34.65it/s]\n",
      "  6%|▋         | 4/64 [00:00<00:01, 35.55it/s]"
     ]
    },
    {
     "name": "stdout",
     "output_type": "stream",
     "text": [
      "Time for epoch 148 is 1.83086 sec\n",
      "Discriminator loss: 1.2618\t Generator loss: 1.3738\n",
      "\n",
      "Discriminator accuracy: 0.5913240909576416\n",
      "\n"
     ]
    },
    {
     "name": "stderr",
     "output_type": "stream",
     "text": [
      "100%|██████████| 64/64 [00:01<00:00, 34.45it/s]\n",
      "  6%|▋         | 4/64 [00:00<00:01, 33.43it/s]"
     ]
    },
    {
     "name": "stdout",
     "output_type": "stream",
     "text": [
      "Time for epoch 149 is 1.83902 sec\n",
      "Discriminator loss: 1.2054\t Generator loss: 1.1441\n",
      "\n",
      "Discriminator accuracy: 0.5915196537971497\n",
      "\n"
     ]
    },
    {
     "name": "stderr",
     "output_type": "stream",
     "text": [
      "100%|██████████| 64/64 [00:01<00:00, 35.84it/s]"
     ]
    },
    {
     "name": "stdout",
     "output_type": "stream",
     "text": [
      "Time for epoch 150 is 1.83993 sec\n",
      "Discriminator loss: 1.0826\t Generator loss: 1.1587\n",
      "\n",
      "Discriminator accuracy: 0.5917496681213379\n",
      "\n",
      "CPU times: user 27min 58s, sys: 2min 39s, total: 30min 37s\n",
      "Wall time: 4min 42s\n"
     ]
    },
    {
     "name": "stderr",
     "output_type": "stream",
     "text": [
      "\n"
     ]
    }
   ],
   "source": [
    "%%time\n",
    "losses_per_epoch = train(EPOCHS)"
   ]
  },
  {
   "cell_type": "markdown",
   "metadata": {},
   "source": [
    "### 5. Visualize Results"
   ]
  },
  {
   "cell_type": "code",
   "execution_count": 25,
   "metadata": {},
   "outputs": [],
   "source": [
    "def plot_examples(real, generated):\n",
    "    r_ax = plt.scatter(np.expand_dims(strains, -1), np.expand_dims(real, -1), label='Real Data')\n",
    "    g_ax = plt.scatter(np.expand_dims(strains, -1), np.expand_dims(generated, -1), label='Generated Data')\n",
    "    \n",
    "    plt.legend()\n",
    "    plt.title('Examples')\n",
    "    plt.tight_layout()"
   ]
  },
  {
   "cell_type": "code",
   "execution_count": 26,
   "metadata": {},
   "outputs": [],
   "source": [
    "def plot_hist_examples(x):\n",
    "    fig, (ax_left, ax_right) = plt.subplots(1, 2, gridspec_kw={'width_ratios': [2, 1]},\n",
    "                                       figsize=(16, 7))\n",
    "    \n",
    "    sns.violinplot(data=pd.DataFrame(data=unscaled_pred, columns=np.round(strains[0], 3)), \n",
    "                   ax=ax_left)\n",
    "    ax_left.set(xlabel='strain', ylabel='stress')\n",
    "    \n",
    "    itemindex = np.argmin(abs(strains[0]-x))\n",
    "    sns.distplot(unscaled_pred[:, itemindex], bins=20)\n",
    "    ax_right.set(xlim=(np.min(unscaled_pred), np.max(unscaled_pred)),\n",
    "                 xlabel='stresses at strain of %.3f' % strains[0, itemindex])"
   ]
  },
  {
   "cell_type": "markdown",
   "metadata": {},
   "source": [
    "* #### Plotting data distribution"
   ]
  },
  {
   "cell_type": "code",
   "execution_count": 27,
   "metadata": {},
   "outputs": [
    {
     "name": "stderr",
     "output_type": "stream",
     "text": [
      "Generating samples: 100%|██████████| 100000/100000 [00:01<00:00, 82610.93it/s]\n"
     ]
    },
    {
     "data": {
      "image/png": "[encoded data removed]",
      "text/plain": [
       "<Figure size 432x288 with 1 Axes>"
      ]
     },
     "metadata": {
      "needs_background": "light"
     },
     "output_type": "display_data"
    }
   ],
   "source": [
    "num_examples = 100000\n",
    "seed = tf.random.normal([num_examples, NOISE_DIM])\n",
    "\n",
    "pred = generator(seed, training=False)\n",
    "unscaled_pred = scaler.inverse_transform(pred)\n",
    "\n",
    "samples, strains = generate_samples(MAX_STRAIN, NUM_STRAINS, num_examples)\n",
    "strains = strains * np.ones((num_examples, 1))\n",
    "\n",
    "plot_examples(samples, unscaled_pred)"
   ]
  },
  {
   "cell_type": "code",
   "execution_count": 28,
   "metadata": {},
   "outputs": [
    {
     "data": {
      "application/vnd.jupyter.widget-view+json": {
       "model_id": "335dc3c567974c39acb1662fb7874516",
       "version_major": 2,
       "version_minor": 0
      },
      "text/plain": [
       "interactive(children=(FloatSlider(value=0.01, description='x', max=0.02, step=0.002), Output()), _dom_classes=…"
      ]
     },
     "metadata": {},
     "output_type": "display_data"
    },
    {
     "data": {
      "text/plain": [
       "<function __main__.plot_hist_examples(x)>"
      ]
     },
     "execution_count": 28,
     "metadata": {},
     "output_type": "execute_result"
    }
   ],
   "source": [
    "interact(plot_hist_examples, x=(0.0, 0.02, 0.002))"
   ]
  },
  {
   "cell_type": "markdown",
   "metadata": {},
   "source": [
    "* #### Plotting the generator's and the discriminator's loss."
   ]
  },
  {
   "cell_type": "code",
   "execution_count": 29,
   "metadata": {},
   "outputs": [],
   "source": [
    "def plot_losses(losses):\n",
    "    d_ax = plt.plot(losses[:,0], label='Discriminator loss')\n",
    "    g_ax = plt.plot(losses[:,1], label='Generator loss')\n",
    "    \n",
    "    plt.xlabel('epoch')\n",
    "    plt.ylabel('loss')\n",
    "    plt.legend()\n",
    "    plt.title('Network losses')\n",
    "    plt.tight_layout()"
   ]
  },
  {
   "cell_type": "code",
   "execution_count": 30,
   "metadata": {},
   "outputs": [
    {
     "data": {
      "image/png": "[encoded data removed]",
      "text/plain": [
       "<Figure size 432x288 with 1 Axes>"
      ]
     },
     "metadata": {
      "needs_background": "light"
     },
     "output_type": "display_data"
    }
   ],
   "source": [
    "plot_losses(losses_per_epoch)"
   ]
  },
  {
   "cell_type": "markdown",
   "metadata": {},
   "source": [
    "* #### Plotting individual samples"
   ]
  },
  {
   "cell_type": "code",
   "execution_count": 31,
   "metadata": {},
   "outputs": [],
   "source": [
    "def plot_single_sample(sample, n):\n",
    "    fig = plt.figure(n)\n",
    "    stress_ax = plt.plot(strains[0], sample)\n",
    "    \n",
    "    plt.xlabel('strain')\n",
    "    plt.ylabel('stress')\n",
    "    plt.legend()\n",
    "    plt.title('Stress-Strain Curve ' + str(i + 1))\n",
    "    plt.tight_layout()"
   ]
  },
  {
   "cell_type": "code",
   "execution_count": 32,
   "metadata": {},
   "outputs": [
    {
     "name": "stderr",
     "output_type": "stream",
     "text": [
      "W0624 15:34:34.810586 140118961190720 legend.py:1289] No handles with labels found to put in legend.\n",
      "W0624 15:34:34.855727 140118961190720 legend.py:1289] No handles with labels found to put in legend.\n",
      "W0624 15:34:34.899116 140118961190720 legend.py:1289] No handles with labels found to put in legend.\n",
      "W0624 15:34:34.941411 140118961190720 legend.py:1289] No handles with labels found to put in legend.\n",
      "W0624 15:34:34.982745 140118961190720 legend.py:1289] No handles with labels found to put in legend.\n",
      "W0624 15:34:35.024270 140118961190720 legend.py:1289] No handles with labels found to put in legend.\n",
      "W0624 15:34:35.066658 140118961190720 legend.py:1289] No handles with labels found to put in legend.\n",
      "W0624 15:34:35.112954 140118961190720 legend.py:1289] No handles with labels found to put in legend.\n",
      "W0624 15:34:35.153442 140118961190720 legend.py:1289] No handles with labels found to put in legend.\n",
      "W0624 15:34:35.194137 140118961190720 legend.py:1289] No handles with labels found to put in legend.\n"
     ]
    },
    {
     "data": {
      "image/png": "[encoded data removed]",
      "text/plain": [
       "<Figure size 432x288 with 1 Axes>"
      ]
     },
     "metadata": {
      "needs_background": "light"
     },
     "output_type": "display_data"
    },
    {
     "data": {
      "image/png": "[encoded data removed]",
      "text/plain": [
       "<Figure size 432x288 with 1 Axes>"
      ]
     },
     "metadata": {
      "needs_background": "light"
     },
     "output_type": "display_data"
    },
    {
     "data": {
      "image/png": "[encoded data removed]",
      "text/plain": [
       "<Figure size 432x288 with 1 Axes>"
      ]
     },
     "metadata": {
      "needs_background": "light"
     },
     "output_type": "display_data"
    },
    {
     "data": {
      "image/png": "[encoded data removed]",
      "text/plain": [
       "<Figure size 432x288 with 1 Axes>"
      ]
     },
     "metadata": {
      "needs_background": "light"
     },
     "output_type": "display_data"
    },
    {
     "data": {
      "image/png": "[encoded data removed]",
      "text/plain": [
       "<Figure size 432x288 with 1 Axes>"
      ]
     },
     "metadata": {
      "needs_background": "light"
     },
     "output_type": "display_data"
    },
    {
     "data": {
      "image/png": "[encoded data removed]",
      "text/plain": [
       "<Figure size 432x288 with 1 Axes>"
      ]
     },
     "metadata": {
      "needs_background": "light"
     },
     "output_type": "display_data"
    },
    {
     "data": {
      "image/png": "[encoded data removed]",
      "text/plain": [
       "<Figure size 432x288 with 1 Axes>"
      ]
     },
     "metadata": {
      "needs_background": "light"
     },
     "output_type": "display_data"
    },
    {
     "data": {
      "image/png": "[encoded data removed]",
      "text/plain": [
       "<Figure size 432x288 with 1 Axes>"
      ]
     },
     "metadata": {
      "needs_background": "light"
     },
     "output_type": "display_data"
    },
    {
     "data": {
      "image/png": "[encoded data removed]",
      "text/plain": [
       "<Figure size 432x288 with 1 Axes>"
      ]
     },
     "metadata": {
      "needs_background": "light"
     },
     "output_type": "display_data"
    },
    {
     "data": {
      "image/png": "[encoded data removed]",
      "text/plain": [
       "<Figure size 432x288 with 1 Axes>"
      ]
     },
     "metadata": {
      "needs_background": "light"
     },
     "output_type": "display_data"
    }
   ],
   "source": [
    "for i in range(10):\n",
    "    plot_single_sample(unscaled_pred[i], i)"
   ]
  },
  {
   "cell_type": "code",
   "execution_count": null,
   "metadata": {},
   "outputs": [],
   "source": []
  }
 ],
 "metadata": {
  "kernelspec": {
   "display_name": "Python 3",
   "language": "python",
   "name": "python3"
  },
  "language_info": {
   "codemirror_mode": {
    "name": "ipython",
    "version": 3
   },
   "file_extension": ".py",
   "mimetype": "text/x-python",
   "name": "python",
   "nbconvert_exporter": "python",
   "pygments_lexer": "ipython3",
   "version": "3.6.8"
  }
 },
 "nbformat": 4,
 "nbformat_minor": 2
}
