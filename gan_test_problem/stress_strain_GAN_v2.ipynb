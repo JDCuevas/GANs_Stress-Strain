{
 "cells": [
  {
   "cell_type": "markdown",
   "metadata": {},
   "source": [
    "# Using a GAN to Generate Stress-strain Curves\n",
    "\n",
    "## Problem Definition\n",
    "\n",
    "Assuming bi-linear stress strain behavior of a material (characterized by $\\sigma_y$, $E$, and $H$), generate sample stress-strain curves based on some initial samples of a stress-strain curve distrbution. \n",
    "\n",
    "<img src=\"bilinear.png\" alt=\"Drawing\" style=\"width: 300px;\"/>"
   ]
  },
  {
   "cell_type": "markdown",
   "metadata": {},
   "source": [
    "## Generating the training data\n",
    "\n",
    "The training samples will be gathered by asuming independent, normal distributions for $\\sigma_y$, $E$, and $H$.\n",
    "\n",
    "  * $\\sigma_y \\sim \\mathcal{N}(\\mu=10, \\sigma=0.5)$\n",
    "  * $E \\sim \\mathcal{N}(\\mu=1000, \\sigma=50)$\n",
    "  * $H \\sim \\mathcal{N}(\\mu=50, \\sigma=5)$"
   ]
  },
  {
   "cell_type": "code",
   "execution_count": 1,
   "metadata": {},
   "outputs": [],
   "source": [
    "import numpy as np\n",
    "%matplotlib inline\n",
    "import matplotlib\n",
    "import seaborn as sns\n",
    "sns.set()\n",
    "import matplotlib.pyplot as plt\n",
    "import pandas as pd"
   ]
  },
  {
   "cell_type": "markdown",
   "metadata": {},
   "source": [
    "Three helper functions"
   ]
  },
  {
   "cell_type": "code",
   "execution_count": 2,
   "metadata": {},
   "outputs": [],
   "source": [
    "def get_stress(strains, E, s_y, H):\n",
    "    e_y = s_y / E\n",
    "    elastic_strains = strains.copy()\n",
    "    elastic_strains[elastic_strains > e_y] = e_y\n",
    "    plastic_strains = strains - elastic_strains\n",
    "    stresses = elastic_strains*E + plastic_strains*H\n",
    "    return stresses"
   ]
  },
  {
   "cell_type": "code",
   "execution_count": 3,
   "metadata": {},
   "outputs": [],
   "source": [
    "def generate_samples(max_strain, n_strain, n_samples):\n",
    "    strain = np.linspace(0, max_strain, n_strain + 1)[1:]\n",
    "    stresses = np.empty((n_samples, n_strain))\n",
    "    for i in range(n_samples):\n",
    "        E = np.random.normal(1000, 50)\n",
    "        s_y = np.random.normal(10, 0.5)\n",
    "        H = np.random.normal(50, 5)\n",
    "        stresses[i] = get_stress(strain, E, s_y, H)\n",
    "    return stresses, strain"
   ]
  },
  {
   "cell_type": "code",
   "execution_count": 4,
   "metadata": {},
   "outputs": [],
   "source": [
    "def generate_batch(batch_size):\n",
    "    stresses, strain = generate_samples(MAX_STRAIN, NUM_STRAINS, batch_size)\n",
    "    batch = []\n",
    "    \n",
    "    for curve in stresses:\n",
    "        curve = np.concatenate((np.expand_dims(np.array(strains), -1), np.expand_dims(curve, -1)), axis=1)\n",
    "        for row in curve:\n",
    "            batch.append(row)\n",
    "            \n",
    "    return np.array(batch)"
   ]
  },
  {
   "cell_type": "code",
   "execution_count": 5,
   "metadata": {},
   "outputs": [],
   "source": [
    "N_SAMPLES = 100000\n",
    "MAX_STRAIN = 0.02\n",
    "NUM_STRAINS = 10\n",
    "\n",
    "stress_mat, strains = generate_samples(MAX_STRAIN, NUM_STRAINS, N_SAMPLES)"
   ]
  },
  {
   "cell_type": "markdown",
   "metadata": {},
   "source": [
    "Visualize the training distribution"
   ]
  },
  {
   "cell_type": "code",
   "execution_count": 6,
   "metadata": {},
   "outputs": [
    {
     "data": {
      "application/vnd.jupyter.widget-view+json": {
       "model_id": "d26aba34967d4cf3b5d4cd800e94a881",
       "version_major": 2,
       "version_minor": 0
      },
      "text/plain": [
       "interactive(children=(FloatSlider(value=0.01, description='x', max=0.02, step=0.002), Output()), _dom_classes=…"
      ]
     },
     "metadata": {},
     "output_type": "display_data"
    },
    {
     "data": {
      "text/plain": [
       "<function __main__.plot_hist(x)>"
      ]
     },
     "execution_count": 6,
     "metadata": {},
     "output_type": "execute_result"
    }
   ],
   "source": [
    "from ipywidgets import interact\n",
    "import ipywidgets as widgets\n",
    "\n",
    "def plot_hist(x):\n",
    "    fig, (ax_left, ax_right) = plt.subplots(1, 2, gridspec_kw={'width_ratios': [2, 1]},\n",
    "                                       figsize=(16, 7))\n",
    "    \n",
    "    sns.violinplot(data=pd.DataFrame(data=stress_mat, columns=np.round(strains, 3)), \n",
    "                   ax=ax_left)\n",
    "    ax_left.set(xlabel='strain', ylabel='stress')\n",
    "    \n",
    "    itemindex = np.argmin(abs(strains-x))\n",
    "    sns.distplot(stress_mat[:, itemindex], bins=20)\n",
    "    ax_right.set(xlim=(np.min(stress_mat), np.max(stress_mat)),\n",
    "                 xlabel='stresses at strain of %.3f' % strains[itemindex])\n",
    "    \n",
    "interact(plot_hist, x=(0.0, 0.02, 0.002))"
   ]
  },
  {
   "cell_type": "markdown",
   "metadata": {},
   "source": [
    "## Train a GAN to produce samples that match this distribution"
   ]
  },
  {
   "cell_type": "code",
   "execution_count": 7,
   "metadata": {},
   "outputs": [],
   "source": [
    "import os\n",
    "import time\n",
    "import numpy as np\n",
    "import matplotlib.pyplot as plt\n",
    "import tensorflow as tf\n",
    "from tensorflow.keras import layers\n",
    "from sklearn.preprocessing import StandardScaler, MinMaxScaler"
   ]
  },
  {
   "cell_type": "markdown",
   "metadata": {},
   "source": [
    "### Settings"
   ]
  },
  {
   "cell_type": "code",
   "execution_count": 8,
   "metadata": {},
   "outputs": [],
   "source": [
    "EPOCHS = 1\n",
    "noise_dim = 2\n",
    "N_SAMPLES=2560000\n",
    "BATCH_SIZE=512\n",
    "TRAIN_STEPS=10"
   ]
  },
  {
   "cell_type": "markdown",
   "metadata": {},
   "source": [
    "### 1. Prepare Dataset\n",
    "\n",
    "* #### Normalize and shuffle data"
   ]
  },
  {
   "cell_type": "code",
   "execution_count": 9,
   "metadata": {},
   "outputs": [],
   "source": [
    "def standardize(data):\n",
    "    scaler = StandardScaler()\n",
    "    scaler.fit(data)\n",
    "    standardized_data = scaler.transform(data)\n",
    "    \n",
    "    return standardized_data, scaler"
   ]
  },
  {
   "cell_type": "code",
   "execution_count": 10,
   "metadata": {},
   "outputs": [],
   "source": [
    "def normalize(data):\n",
    "    scaler = MinMaxScaler()\n",
    "    scaler.fit(data)\n",
    "    normalized_data = scaler.transform(data)\n",
    "    \n",
    "    return normalized_data, scaler"
   ]
  },
  {
   "cell_type": "code",
   "execution_count": 11,
   "metadata": {},
   "outputs": [],
   "source": [
    "dataset = []\n",
    "\n",
    "for i in range(10001):\n",
    "    sample_batch, scaler = standardize(generate_batch(batch_size=BATCH_SIZE))\n",
    "    np.random.shuffle(sample_batch)\n",
    "    dataset.append(sample_batch)"
   ]
  },
  {
   "cell_type": "markdown",
   "metadata": {},
   "source": [
    "### 2. Create Models\n",
    "\n",
    "* #### Generator"
   ]
  },
  {
   "cell_type": "code",
   "execution_count": 12,
   "metadata": {},
   "outputs": [
    {
     "name": "stdout",
     "output_type": "stream",
     "text": [
      "Model: \"sequential\"\n",
      "_________________________________________________________________\n",
      "Layer (type)                 Output Shape              Param #   \n",
      "=================================================================\n",
      "dense (Dense)                (None, 16)                32        \n",
      "_________________________________________________________________\n",
      "batch_normalization_v2 (Batc (None, 16)                64        \n",
      "_________________________________________________________________\n",
      "leaky_re_lu (LeakyReLU)      (None, 16)                0         \n",
      "_________________________________________________________________\n",
      "dense_1 (Dense)              (None, 16)                256       \n",
      "_________________________________________________________________\n",
      "batch_normalization_v2_1 (Ba (None, 16)                64        \n",
      "_________________________________________________________________\n",
      "leaky_re_lu_1 (LeakyReLU)    (None, 16)                0         \n",
      "_________________________________________________________________\n",
      "dropout (Dropout)            (None, 16)                0         \n",
      "_________________________________________________________________\n",
      "dense_2 (Dense)              (None, 2)                 32        \n",
      "=================================================================\n",
      "Total params: 448\n",
      "Trainable params: 384\n",
      "Non-trainable params: 64\n",
      "_________________________________________________________________\n"
     ]
    }
   ],
   "source": [
    "def make_generator_model():\n",
    "    model = tf.keras.Sequential()\n",
    "    model.add(layers.Dense(16, use_bias=False, input_shape=(2,)))\n",
    "    model.add(layers.BatchNormalization())\n",
    "    model.add(layers.LeakyReLU())\n",
    "    \n",
    "    model.add(layers.Dense(16, use_bias=False))\n",
    "    model.add(layers.BatchNormalization())\n",
    "    model.add(layers.LeakyReLU())\n",
    "    model.add(layers.Dropout(0.3))\n",
    "    \n",
    "    model.add(layers.Dense(2, use_bias=False))\n",
    "    \n",
    "    return model\n",
    "\n",
    "generator = make_generator_model()\n",
    "generator.summary()"
   ]
  },
  {
   "cell_type": "markdown",
   "metadata": {},
   "source": [
    "* #### Discriminator"
   ]
  },
  {
   "cell_type": "code",
   "execution_count": 13,
   "metadata": {},
   "outputs": [],
   "source": [
    "def make_discriminator_model():\n",
    "    model = tf.keras.Sequential()\n",
    "    model.add(layers.Dense(16, input_shape=(2,)))\n",
    "    model.add(layers.LeakyReLU())\n",
    "    \n",
    "    model.add(layers.Dense(16))\n",
    "    model.add(layers.LeakyReLU())\n",
    "    model.add(layers.Dropout(0.3))\n",
    "    \n",
    "    model.add(layers.Dense(2))\n",
    "    model.add(layers.Dense(1))\n",
    "    \n",
    "    return model"
   ]
  },
  {
   "cell_type": "code",
   "execution_count": 14,
   "metadata": {},
   "outputs": [
    {
     "name": "stdout",
     "output_type": "stream",
     "text": [
      "Model: \"sequential_1\"\n",
      "_________________________________________________________________\n",
      "Layer (type)                 Output Shape              Param #   \n",
      "=================================================================\n",
      "dense_3 (Dense)              (None, 16)                48        \n",
      "_________________________________________________________________\n",
      "leaky_re_lu_2 (LeakyReLU)    (None, 16)                0         \n",
      "_________________________________________________________________\n",
      "dense_4 (Dense)              (None, 16)                272       \n",
      "_________________________________________________________________\n",
      "leaky_re_lu_3 (LeakyReLU)    (None, 16)                0         \n",
      "_________________________________________________________________\n",
      "dropout_1 (Dropout)          (None, 16)                0         \n",
      "_________________________________________________________________\n",
      "dense_5 (Dense)              (None, 2)                 34        \n",
      "_________________________________________________________________\n",
      "dense_6 (Dense)              (None, 1)                 3         \n",
      "=================================================================\n",
      "Total params: 357\n",
      "Trainable params: 357\n",
      "Non-trainable params: 0\n",
      "_________________________________________________________________\n"
     ]
    }
   ],
   "source": [
    "discriminator = make_discriminator_model()\n",
    "discriminator.summary()"
   ]
  },
  {
   "cell_type": "markdown",
   "metadata": {},
   "source": [
    "### 3. Define loss and optimizers"
   ]
  },
  {
   "cell_type": "code",
   "execution_count": 15,
   "metadata": {},
   "outputs": [],
   "source": [
    "# This method returns a helper function to compute cross entropy loss\n",
    "cross_entropy = tf.keras.losses.BinaryCrossentropy(from_logits=True)"
   ]
  },
  {
   "cell_type": "markdown",
   "metadata": {},
   "source": [
    "* #### Discriminator loss"
   ]
  },
  {
   "cell_type": "code",
   "execution_count": 16,
   "metadata": {},
   "outputs": [],
   "source": [
    "def discriminator_loss(real_output, fake_output):\n",
    "    real_loss = cross_entropy(tf.ones_like(real_output), real_output)\n",
    "    fake_loss = cross_entropy(tf.zeros_like(fake_output), fake_output)\n",
    "    total_loss = real_loss + fake_loss\n",
    "    return total_loss"
   ]
  },
  {
   "cell_type": "markdown",
   "metadata": {},
   "source": [
    "* #### Generator loss"
   ]
  },
  {
   "cell_type": "code",
   "execution_count": 17,
   "metadata": {},
   "outputs": [],
   "source": [
    "def generator_loss(fake_output):\n",
    "    return cross_entropy(tf.ones_like(fake_output), fake_output)"
   ]
  },
  {
   "cell_type": "markdown",
   "metadata": {},
   "source": [
    "* #### Optimizers"
   ]
  },
  {
   "cell_type": "code",
   "execution_count": 18,
   "metadata": {},
   "outputs": [],
   "source": [
    "generator_optimizer = tf.keras.optimizers.RMSprop(1e-3)\n",
    "discriminator_optimizer = tf.keras.optimizers.RMSprop(1e-3)"
   ]
  },
  {
   "cell_type": "markdown",
   "metadata": {},
   "source": [
    "* #### Save checkpoints"
   ]
  },
  {
   "cell_type": "code",
   "execution_count": 19,
   "metadata": {},
   "outputs": [],
   "source": [
    "checkpoint_dir = './training_checkpoints'\n",
    "checkpoint_prefix = os.path.join(checkpoint_dir, \"ckpt\")\n",
    "checkpoint = tf.train.Checkpoint(generator_optimizer=generator_optimizer,\n",
    "                                 discriminator_optimizer=discriminator_optimizer,\n",
    "                                 generator=generator,\n",
    "                                 discriminator=discriminator)"
   ]
  },
  {
   "cell_type": "markdown",
   "metadata": {},
   "source": [
    "### 4. Training"
   ]
  },
  {
   "cell_type": "code",
   "execution_count": 20,
   "metadata": {},
   "outputs": [],
   "source": [
    "# This annotation causes the function to be \"compiled\".\n",
    "@tf.function\n",
    "def train_step(batch, noise):\n",
    "    #noise = np.random.uniform(-1., 1., size=[BATCH_SIZE, noise_dim])\n",
    "    #noise = tf.random.uniform(minval= -1., maxval= 1., shape=[BATCH_SIZE, noise_dim])\n",
    "    #noise = tf.random.uniform([BATCH_SIZE, noise_dim])\n",
    "    #noise = tf.random.normal(shape=[BATCH_SIZE, noise_dim])\n",
    "    \n",
    "    with tf.GradientTape() as gen_tape, tf.GradientTape() as disc_tape:\n",
    "        generated_batch = generator(noise, training=True)\n",
    "\n",
    "        real_output = discriminator(batch, training=True)\n",
    "        fake_output = discriminator(generated_batch, training=True)\n",
    "        gen_loss = generator_loss(fake_output)\n",
    "        disc_loss = discriminator_loss(real_output, fake_output)\n",
    "\n",
    "    gradients_of_generator = gen_tape.gradient(gen_loss, generator.trainable_variables)\n",
    "    gradients_of_discriminator = disc_tape.gradient(disc_loss, discriminator.trainable_variables)\n",
    "\n",
    "    generator_optimizer.apply_gradients(zip(gradients_of_generator, generator.trainable_variables))\n",
    "    discriminator_optimizer.apply_gradients(zip(gradients_of_discriminator, discriminator.trainable_variables))\n",
    "    \n",
    "    return disc_loss, gen_loss"
   ]
  },
  {
   "cell_type": "code",
   "execution_count": 21,
   "metadata": {},
   "outputs": [],
   "source": [
    "def train(epochs):\n",
    "    for epoch in range(epochs):\n",
    "        start = time.time()\n",
    "\n",
    "        for i in range(10001):\n",
    "            iter_start = time.time()\n",
    "            \n",
    "            #sample_batch = generate_batch(batch_size=BATCH_SIZE)\n",
    "            #np.random.shuffle(sample_batch)\n",
    "            #noise = tf.random.uniform(minval= -1., maxval= 1., shape=[BATCH_SIZE, noise_dim])\n",
    "            \n",
    "            sample_batch = dataset[i]\n",
    "            noise = tf.random.normal([BATCH_SIZE, noise_dim])\n",
    "\n",
    "            for step in range(TRAIN_STEPS):\n",
    "                disc_loss, gen_loss = train_step(sample_batch, noise)\n",
    "\n",
    "            if (i + 1) % 1000 == 0:\n",
    "                print('Time for iteration {} is {} sec'.format(i + 1, time.time()-iter_start))\n",
    "                print(\"Discriminator loss: {0:.4f}\\t Generator loss: {0:.4f}\\n\".format(disc_loss.numpy(), gen_loss.numpy()))\n",
    "\n",
    "        # Save the model every 15 epochs\n",
    "        if (epoch + 1) % 15 == 0:\n",
    "            checkpoint.save(file_prefix = checkpoint_prefix)\n",
    "\n",
    "        print('Time for epoch {} is {} sec'.format(epoch + 1, time.time()-start))\n",
    "        print(\"Discriminator loss: {0:.4f}\\t Generator loss: {0:.4f}\\n\".format(disc_loss.numpy(), gen_loss.numpy()))"
   ]
  },
  {
   "cell_type": "code",
   "execution_count": 22,
   "metadata": {},
   "outputs": [
    {
     "name": "stdout",
     "output_type": "stream",
     "text": [
      "Time for iteration 1000 is 0.01521158218383789 sec\n",
      "Discriminator loss: 1.2923\t Generator loss: 1.2923\n",
      "\n",
      "Time for iteration 2000 is 0.014798879623413086 sec\n",
      "Discriminator loss: 1.3126\t Generator loss: 1.3126\n",
      "\n",
      "Time for iteration 3000 is 0.015001773834228516 sec\n",
      "Discriminator loss: 1.2882\t Generator loss: 1.2882\n",
      "\n",
      "Time for iteration 4000 is 0.015868425369262695 sec\n",
      "Discriminator loss: 1.2622\t Generator loss: 1.2622\n",
      "\n",
      "Time for iteration 5000 is 0.015027284622192383 sec\n",
      "Discriminator loss: 1.2656\t Generator loss: 1.2656\n",
      "\n",
      "Time for iteration 6000 is 0.01480412483215332 sec\n",
      "Discriminator loss: 1.2643\t Generator loss: 1.2643\n",
      "\n",
      "Time for iteration 7000 is 0.015214920043945312 sec\n",
      "Discriminator loss: 1.2268\t Generator loss: 1.2268\n",
      "\n",
      "Time for iteration 8000 is 0.015407323837280273 sec\n",
      "Discriminator loss: 1.2343\t Generator loss: 1.2343\n",
      "\n",
      "Time for iteration 9000 is 0.015083074569702148 sec\n",
      "Discriminator loss: 1.2666\t Generator loss: 1.2666\n",
      "\n",
      "Time for iteration 10000 is 0.015825748443603516 sec\n",
      "Discriminator loss: 1.2495\t Generator loss: 1.2495\n",
      "\n",
      "Time for epoch 1 is 156.2841055393219 sec\n",
      "Discriminator loss: 1.2381\t Generator loss: 1.2381\n",
      "\n",
      "CPU times: user 11min 35s, sys: 1min 29s, total: 13min 4s\n",
      "Wall time: 2min 36s\n"
     ]
    }
   ],
   "source": [
    "%%time\n",
    "train(EPOCHS)"
   ]
  },
  {
   "cell_type": "code",
   "execution_count": 23,
   "metadata": {},
   "outputs": [],
   "source": [
    "def plot_examples(real, generated):\n",
    "    r_ax = plt.scatter(real[:,0], real[:,1], label='Real Data')\n",
    "    g_ax = plt.scatter(generated[:,0], generated[:,1], label='Generated Data', color='orange')\n",
    "    plt.legend()\n",
    "    plt.title('Samples')\n",
    "    plt.tight_layout()"
   ]
  },
  {
   "cell_type": "code",
   "execution_count": 26,
   "metadata": {},
   "outputs": [
    {
     "data": {
      "image/png": "[encoded data removed]",
      "text/plain": [
       "<Figure size 432x288 with 1 Axes>"
      ]
     },
     "metadata": {
      "needs_background": "light"
     },
     "output_type": "display_data"
    }
   ],
   "source": [
    "num_examples = 1024\n",
    "seed = tf.random.normal([num_examples, noise_dim])\n",
    "#seed = tf.random.uniform(minval= -1., maxval= 1., shape=[BATCH_SIZE, noise_dim])\n",
    "\n",
    "pred = generator(seed, training=False)\n",
    "unscaled_pred = scaler.inverse_transform(pred)\n",
    "\n",
    "samples = generate_batch(batch_size=num_examples)\n",
    "\n",
    "plot_examples(samples, unscaled_pred)"
   ]
  },
  {
   "cell_type": "code",
   "execution_count": 25,
   "metadata": {},
   "outputs": [
    {
     "name": "stdout",
     "output_type": "stream",
     "text": [
      "tf.Tensor([0.84982276 0.76181257], shape=(2,), dtype=float32)\n"
     ]
    },
    {
     "data": {
      "image/png": "[encoded data removed]",
      "text/plain": [
       "<Figure size 432x288 with 1 Axes>"
      ]
     },
     "metadata": {
      "needs_background": "light"
     },
     "output_type": "display_data"
    }
   ],
   "source": [
    "def plot_gen(generated):\n",
    "    g_ax = plt.scatter(generated[:,0], generated[:,1], label='Generated Data', color='orange')\n",
    "    plt.legend()\n",
    "    plt.title('Generated Samples')\n",
    "    plt.tight_layout()\n",
    "    \n",
    "plot_gen(pred)\n",
    "print(pred[0])"
   ]
  }
 ],
 "metadata": {
  "kernelspec": {
   "display_name": "Python 3",
   "language": "python",
   "name": "python3"
  },
  "language_info": {
   "codemirror_mode": {
    "name": "ipython",
    "version": 3
   },
   "file_extension": ".py",
   "mimetype": "text/x-python",
   "name": "python",
   "nbconvert_exporter": "python",
   "pygments_lexer": "ipython3",
   "version": "3.6.8"
  }
 },
 "nbformat": 4,
 "nbformat_minor": 2
}
